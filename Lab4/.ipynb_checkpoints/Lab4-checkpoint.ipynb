{
 "cells": [
  {
   "cell_type": "markdown",
   "metadata": {
    "colab_type": "text",
    "id": "QPKSquPAeLJu"
   },
   "source": [
    "# **Problem** **1**"
   ]
  },
  {
   "cell_type": "code",
   "execution_count": 35,
   "metadata": {
    "colab": {},
    "colab_type": "code",
    "id": "Lvh12srTeLJv"
   },
   "outputs": [],
   "source": [
    "from sklearn.datasets import fetch_openml\n",
    "from matplotlib import pyplot\n",
    "import numpy as np"
   ]
  },
  {
   "cell_type": "code",
   "execution_count": 47,
   "metadata": {
    "colab": {},
    "colab_type": "code",
    "collapsed": true,
    "id": "XCRPr5hTeLJz"
   },
   "outputs": [
    {
     "name": "stdout",
     "output_type": "stream",
     "text": [
      "{'data': array([[ 59.,  43.,  50., ..., 140.,  84.,  72.],\n",
      "       [154., 126., 105., ..., 139., 142., 144.],\n",
      "       [255., 253., 253., ...,  83.,  83.,  84.],\n",
      "       ...,\n",
      "       [ 20.,  19.,  15., ...,  50.,  53.,  47.],\n",
      "       [ 25.,  15.,  23., ...,  80.,  81.,  80.],\n",
      "       [ 73.,  98.,  99., ...,  94.,  58.,  26.]]), 'target': array(['6', '9', '9', ..., '5', '1', '7'], dtype=object), 'feature_names': ['a0', 'a1', 'a2', 'a3', 'a4', 'a5', 'a6', 'a7', 'a8', 'a9', 'a10', 'a11', 'a12', 'a13', 'a14', 'a15', 'a16', 'a17', 'a18', 'a19', 'a20', 'a21', 'a22', 'a23', 'a24', 'a25', 'a26', 'a27', 'a28', 'a29', 'a30', 'a31', 'a32', 'a33', 'a34', 'a35', 'a36', 'a37', 'a38', 'a39', 'a40', 'a41', 'a42', 'a43', 'a44', 'a45', 'a46', 'a47', 'a48', 'a49', 'a50', 'a51', 'a52', 'a53', 'a54', 'a55', 'a56', 'a57', 'a58', 'a59', 'a60', 'a61', 'a62', 'a63', 'a64', 'a65', 'a66', 'a67', 'a68', 'a69', 'a70', 'a71', 'a72', 'a73', 'a74', 'a75', 'a76', 'a77', 'a78', 'a79', 'a80', 'a81', 'a82', 'a83', 'a84', 'a85', 'a86', 'a87', 'a88', 'a89', 'a90', 'a91', 'a92', 'a93', 'a94', 'a95', 'a96', 'a97', 'a98', 'a99', 'a100', 'a101', 'a102', 'a103', 'a104', 'a105', 'a106', 'a107', 'a108', 'a109', 'a110', 'a111', 'a112', 'a113', 'a114', 'a115', 'a116', 'a117', 'a118', 'a119', 'a120', 'a121', 'a122', 'a123', 'a124', 'a125', 'a126', 'a127', 'a128', 'a129', 'a130', 'a131', 'a132', 'a133', 'a134', 'a135', 'a136', 'a137', 'a138', 'a139', 'a140', 'a141', 'a142', 'a143', 'a144', 'a145', 'a146', 'a147', 'a148', 'a149', 'a150', 'a151', 'a152', 'a153', 'a154', 'a155', 'a156', 'a157', 'a158', 'a159', 'a160', 'a161', 'a162', 'a163', 'a164', 'a165', 'a166', 'a167', 'a168', 'a169', 'a170', 'a171', 'a172', 'a173', 'a174', 'a175', 'a176', 'a177', 'a178', 'a179', 'a180', 'a181', 'a182', 'a183', 'a184', 'a185', 'a186', 'a187', 'a188', 'a189', 'a190', 'a191', 'a192', 'a193', 'a194', 'a195', 'a196', 'a197', 'a198', 'a199', 'a200', 'a201', 'a202', 'a203', 'a204', 'a205', 'a206', 'a207', 'a208', 'a209', 'a210', 'a211', 'a212', 'a213', 'a214', 'a215', 'a216', 'a217', 'a218', 'a219', 'a220', 'a221', 'a222', 'a223', 'a224', 'a225', 'a226', 'a227', 'a228', 'a229', 'a230', 'a231', 'a232', 'a233', 'a234', 'a235', 'a236', 'a237', 'a238', 'a239', 'a240', 'a241', 'a242', 'a243', 'a244', 'a245', 'a246', 'a247', 'a248', 'a249', 'a250', 'a251', 'a252', 'a253', 'a254', 'a255', 'a256', 'a257', 'a258', 'a259', 'a260', 'a261', 'a262', 'a263', 'a264', 'a265', 'a266', 'a267', 'a268', 'a269', 'a270', 'a271', 'a272', 'a273', 'a274', 'a275', 'a276', 'a277', 'a278', 'a279', 'a280', 'a281', 'a282', 'a283', 'a284', 'a285', 'a286', 'a287', 'a288', 'a289', 'a290', 'a291', 'a292', 'a293', 'a294', 'a295', 'a296', 'a297', 'a298', 'a299', 'a300', 'a301', 'a302', 'a303', 'a304', 'a305', 'a306', 'a307', 'a308', 'a309', 'a310', 'a311', 'a312', 'a313', 'a314', 'a315', 'a316', 'a317', 'a318', 'a319', 'a320', 'a321', 'a322', 'a323', 'a324', 'a325', 'a326', 'a327', 'a328', 'a329', 'a330', 'a331', 'a332', 'a333', 'a334', 'a335', 'a336', 'a337', 'a338', 'a339', 'a340', 'a341', 'a342', 'a343', 'a344', 'a345', 'a346', 'a347', 'a348', 'a349', 'a350', 'a351', 'a352', 'a353', 'a354', 'a355', 'a356', 'a357', 'a358', 'a359', 'a360', 'a361', 'a362', 'a363', 'a364', 'a365', 'a366', 'a367', 'a368', 'a369', 'a370', 'a371', 'a372', 'a373', 'a374', 'a375', 'a376', 'a377', 'a378', 'a379', 'a380', 'a381', 'a382', 'a383', 'a384', 'a385', 'a386', 'a387', 'a388', 'a389', 'a390', 'a391', 'a392', 'a393', 'a394', 'a395', 'a396', 'a397', 'a398', 'a399', 'a400', 'a401', 'a402', 'a403', 'a404', 'a405', 'a406', 'a407', 'a408', 'a409', 'a410', 'a411', 'a412', 'a413', 'a414', 'a415', 'a416', 'a417', 'a418', 'a419', 'a420', 'a421', 'a422', 'a423', 'a424', 'a425', 'a426', 'a427', 'a428', 'a429', 'a430', 'a431', 'a432', 'a433', 'a434', 'a435', 'a436', 'a437', 'a438', 'a439', 'a440', 'a441', 'a442', 'a443', 'a444', 'a445', 'a446', 'a447', 'a448', 'a449', 'a450', 'a451', 'a452', 'a453', 'a454', 'a455', 'a456', 'a457', 'a458', 'a459', 'a460', 'a461', 'a462', 'a463', 'a464', 'a465', 'a466', 'a467', 'a468', 'a469', 'a470', 'a471', 'a472', 'a473', 'a474', 'a475', 'a476', 'a477', 'a478', 'a479', 'a480', 'a481', 'a482', 'a483', 'a484', 'a485', 'a486', 'a487', 'a488', 'a489', 'a490', 'a491', 'a492', 'a493', 'a494', 'a495', 'a496', 'a497', 'a498', 'a499', 'a500', 'a501', 'a502', 'a503', 'a504', 'a505', 'a506', 'a507', 'a508', 'a509', 'a510', 'a511', 'a512', 'a513', 'a514', 'a515', 'a516', 'a517', 'a518', 'a519', 'a520', 'a521', 'a522', 'a523', 'a524', 'a525', 'a526', 'a527', 'a528', 'a529', 'a530', 'a531', 'a532', 'a533', 'a534', 'a535', 'a536', 'a537', 'a538', 'a539', 'a540', 'a541', 'a542', 'a543', 'a544', 'a545', 'a546', 'a547', 'a548', 'a549', 'a550', 'a551', 'a552', 'a553', 'a554', 'a555', 'a556', 'a557', 'a558', 'a559', 'a560', 'a561', 'a562', 'a563', 'a564', 'a565', 'a566', 'a567', 'a568', 'a569', 'a570', 'a571', 'a572', 'a573', 'a574', 'a575', 'a576', 'a577', 'a578', 'a579', 'a580', 'a581', 'a582', 'a583', 'a584', 'a585', 'a586', 'a587', 'a588', 'a589', 'a590', 'a591', 'a592', 'a593', 'a594', 'a595', 'a596', 'a597', 'a598', 'a599', 'a600', 'a601', 'a602', 'a603', 'a604', 'a605', 'a606', 'a607', 'a608', 'a609', 'a610', 'a611', 'a612', 'a613', 'a614', 'a615', 'a616', 'a617', 'a618', 'a619', 'a620', 'a621', 'a622', 'a623', 'a624', 'a625', 'a626', 'a627', 'a628', 'a629', 'a630', 'a631', 'a632', 'a633', 'a634', 'a635', 'a636', 'a637', 'a638', 'a639', 'a640', 'a641', 'a642', 'a643', 'a644', 'a645', 'a646', 'a647', 'a648', 'a649', 'a650', 'a651', 'a652', 'a653', 'a654', 'a655', 'a656', 'a657', 'a658', 'a659', 'a660', 'a661', 'a662', 'a663', 'a664', 'a665', 'a666', 'a667', 'a668', 'a669', 'a670', 'a671', 'a672', 'a673', 'a674', 'a675', 'a676', 'a677', 'a678', 'a679', 'a680', 'a681', 'a682', 'a683', 'a684', 'a685', 'a686', 'a687', 'a688', 'a689', 'a690', 'a691', 'a692', 'a693', 'a694', 'a695', 'a696', 'a697', 'a698', 'a699', 'a700', 'a701', 'a702', 'a703', 'a704', 'a705', 'a706', 'a707', 'a708', 'a709', 'a710', 'a711', 'a712', 'a713', 'a714', 'a715', 'a716', 'a717', 'a718', 'a719', 'a720', 'a721', 'a722', 'a723', 'a724', 'a725', 'a726', 'a727', 'a728', 'a729', 'a730', 'a731', 'a732', 'a733', 'a734', 'a735', 'a736', 'a737', 'a738', 'a739', 'a740', 'a741', 'a742', 'a743', 'a744', 'a745', 'a746', 'a747', 'a748', 'a749', 'a750', 'a751', 'a752', 'a753', 'a754', 'a755', 'a756', 'a757', 'a758', 'a759', 'a760', 'a761', 'a762', 'a763', 'a764', 'a765', 'a766', 'a767', 'a768', 'a769', 'a770', 'a771', 'a772', 'a773', 'a774', 'a775', 'a776', 'a777', 'a778', 'a779', 'a780', 'a781', 'a782', 'a783', 'a784', 'a785', 'a786', 'a787', 'a788', 'a789', 'a790', 'a791', 'a792', 'a793', 'a794', 'a795', 'a796', 'a797', 'a798', 'a799', 'a800', 'a801', 'a802', 'a803', 'a804', 'a805', 'a806', 'a807', 'a808', 'a809', 'a810', 'a811', 'a812', 'a813', 'a814', 'a815', 'a816', 'a817', 'a818', 'a819', 'a820', 'a821', 'a822', 'a823', 'a824', 'a825', 'a826', 'a827', 'a828', 'a829', 'a830', 'a831', 'a832', 'a833', 'a834', 'a835', 'a836', 'a837', 'a838', 'a839', 'a840', 'a841', 'a842', 'a843', 'a844', 'a845', 'a846', 'a847', 'a848', 'a849', 'a850', 'a851', 'a852', 'a853', 'a854', 'a855', 'a856', 'a857', 'a858', 'a859', 'a860', 'a861', 'a862', 'a863', 'a864', 'a865', 'a866', 'a867', 'a868', 'a869', 'a870', 'a871', 'a872', 'a873', 'a874', 'a875', 'a876', 'a877', 'a878', 'a879', 'a880', 'a881', 'a882', 'a883', 'a884', 'a885', 'a886', 'a887', 'a888', 'a889', 'a890', 'a891', 'a892', 'a893', 'a894', 'a895', 'a896', 'a897', 'a898', 'a899', 'a900', 'a901', 'a902', 'a903', 'a904', 'a905', 'a906', 'a907', 'a908', 'a909', 'a910', 'a911', 'a912', 'a913', 'a914', 'a915', 'a916', 'a917', 'a918', 'a919', 'a920', 'a921', 'a922', 'a923', 'a924', 'a925', 'a926', 'a927', 'a928', 'a929', 'a930', 'a931', 'a932', 'a933', 'a934', 'a935', 'a936', 'a937', 'a938', 'a939', 'a940', 'a941', 'a942', 'a943', 'a944', 'a945', 'a946', 'a947', 'a948', 'a949', 'a950', 'a951', 'a952', 'a953', 'a954', 'a955', 'a956', 'a957', 'a958', 'a959', 'a960', 'a961', 'a962', 'a963', 'a964', 'a965', 'a966', 'a967', 'a968', 'a969', 'a970', 'a971', 'a972', 'a973', 'a974', 'a975', 'a976', 'a977', 'a978', 'a979', 'a980', 'a981', 'a982', 'a983', 'a984', 'a985', 'a986', 'a987', 'a988', 'a989', 'a990', 'a991', 'a992', 'a993', 'a994', 'a995', 'a996', 'a997', 'a998', 'a999', 'a1000', 'a1001', 'a1002', 'a1003', 'a1004', 'a1005', 'a1006', 'a1007', 'a1008', 'a1009', 'a1010', 'a1011', 'a1012', 'a1013', 'a1014', 'a1015', 'a1016', 'a1017', 'a1018', 'a1019', 'a1020', 'a1021', 'a1022', 'a1023', 'a1024', 'a1025', 'a1026', 'a1027', 'a1028', 'a1029', 'a1030', 'a1031', 'a1032', 'a1033', 'a1034', 'a1035', 'a1036', 'a1037', 'a1038', 'a1039', 'a1040', 'a1041', 'a1042', 'a1043', 'a1044', 'a1045', 'a1046', 'a1047', 'a1048', 'a1049', 'a1050', 'a1051', 'a1052', 'a1053', 'a1054', 'a1055', 'a1056', 'a1057', 'a1058', 'a1059', 'a1060', 'a1061', 'a1062', 'a1063', 'a1064', 'a1065', 'a1066', 'a1067', 'a1068', 'a1069', 'a1070', 'a1071', 'a1072', 'a1073', 'a1074', 'a1075', 'a1076', 'a1077', 'a1078', 'a1079', 'a1080', 'a1081', 'a1082', 'a1083', 'a1084', 'a1085', 'a1086', 'a1087', 'a1088', 'a1089', 'a1090', 'a1091', 'a1092', 'a1093', 'a1094', 'a1095', 'a1096', 'a1097', 'a1098', 'a1099', 'a1100', 'a1101', 'a1102', 'a1103', 'a1104', 'a1105', 'a1106', 'a1107', 'a1108', 'a1109', 'a1110', 'a1111', 'a1112', 'a1113', 'a1114', 'a1115', 'a1116', 'a1117', 'a1118', 'a1119', 'a1120', 'a1121', 'a1122', 'a1123', 'a1124', 'a1125', 'a1126', 'a1127', 'a1128', 'a1129', 'a1130', 'a1131', 'a1132', 'a1133', 'a1134', 'a1135', 'a1136', 'a1137', 'a1138', 'a1139', 'a1140', 'a1141', 'a1142', 'a1143', 'a1144', 'a1145', 'a1146', 'a1147', 'a1148', 'a1149', 'a1150', 'a1151', 'a1152', 'a1153', 'a1154', 'a1155', 'a1156', 'a1157', 'a1158', 'a1159', 'a1160', 'a1161', 'a1162', 'a1163', 'a1164', 'a1165', 'a1166', 'a1167', 'a1168', 'a1169', 'a1170', 'a1171', 'a1172', 'a1173', 'a1174', 'a1175', 'a1176', 'a1177', 'a1178', 'a1179', 'a1180', 'a1181', 'a1182', 'a1183', 'a1184', 'a1185', 'a1186', 'a1187', 'a1188', 'a1189', 'a1190', 'a1191', 'a1192', 'a1193', 'a1194', 'a1195', 'a1196', 'a1197', 'a1198', 'a1199', 'a1200', 'a1201', 'a1202', 'a1203', 'a1204', 'a1205', 'a1206', 'a1207', 'a1208', 'a1209', 'a1210', 'a1211', 'a1212', 'a1213', 'a1214', 'a1215', 'a1216', 'a1217', 'a1218', 'a1219', 'a1220', 'a1221', 'a1222', 'a1223', 'a1224', 'a1225', 'a1226', 'a1227', 'a1228', 'a1229', 'a1230', 'a1231', 'a1232', 'a1233', 'a1234', 'a1235', 'a1236', 'a1237', 'a1238', 'a1239', 'a1240', 'a1241', 'a1242', 'a1243', 'a1244', 'a1245', 'a1246', 'a1247', 'a1248', 'a1249', 'a1250', 'a1251', 'a1252', 'a1253', 'a1254', 'a1255', 'a1256', 'a1257', 'a1258', 'a1259', 'a1260', 'a1261', 'a1262', 'a1263', 'a1264', 'a1265', 'a1266', 'a1267', 'a1268', 'a1269', 'a1270', 'a1271', 'a1272', 'a1273', 'a1274', 'a1275', 'a1276', 'a1277', 'a1278', 'a1279', 'a1280', 'a1281', 'a1282', 'a1283', 'a1284', 'a1285', 'a1286', 'a1287', 'a1288', 'a1289', 'a1290', 'a1291', 'a1292', 'a1293', 'a1294', 'a1295', 'a1296', 'a1297', 'a1298', 'a1299', 'a1300', 'a1301', 'a1302', 'a1303', 'a1304', 'a1305', 'a1306', 'a1307', 'a1308', 'a1309', 'a1310', 'a1311', 'a1312', 'a1313', 'a1314', 'a1315', 'a1316', 'a1317', 'a1318', 'a1319', 'a1320', 'a1321', 'a1322', 'a1323', 'a1324', 'a1325', 'a1326', 'a1327', 'a1328', 'a1329', 'a1330', 'a1331', 'a1332', 'a1333', 'a1334', 'a1335', 'a1336', 'a1337', 'a1338', 'a1339', 'a1340', 'a1341', 'a1342', 'a1343', 'a1344', 'a1345', 'a1346', 'a1347', 'a1348', 'a1349', 'a1350', 'a1351', 'a1352', 'a1353', 'a1354', 'a1355', 'a1356', 'a1357', 'a1358', 'a1359', 'a1360', 'a1361', 'a1362', 'a1363', 'a1364', 'a1365', 'a1366', 'a1367', 'a1368', 'a1369', 'a1370', 'a1371', 'a1372', 'a1373', 'a1374', 'a1375', 'a1376', 'a1377', 'a1378', 'a1379', 'a1380', 'a1381', 'a1382', 'a1383', 'a1384', 'a1385', 'a1386', 'a1387', 'a1388', 'a1389', 'a1390', 'a1391', 'a1392', 'a1393', 'a1394', 'a1395', 'a1396', 'a1397', 'a1398', 'a1399', 'a1400', 'a1401', 'a1402', 'a1403', 'a1404', 'a1405', 'a1406', 'a1407', 'a1408', 'a1409', 'a1410', 'a1411', 'a1412', 'a1413', 'a1414', 'a1415', 'a1416', 'a1417', 'a1418', 'a1419', 'a1420', 'a1421', 'a1422', 'a1423', 'a1424', 'a1425', 'a1426', 'a1427', 'a1428', 'a1429', 'a1430', 'a1431', 'a1432', 'a1433', 'a1434', 'a1435', 'a1436', 'a1437', 'a1438', 'a1439', 'a1440', 'a1441', 'a1442', 'a1443', 'a1444', 'a1445', 'a1446', 'a1447', 'a1448', 'a1449', 'a1450', 'a1451', 'a1452', 'a1453', 'a1454', 'a1455', 'a1456', 'a1457', 'a1458', 'a1459', 'a1460', 'a1461', 'a1462', 'a1463', 'a1464', 'a1465', 'a1466', 'a1467', 'a1468', 'a1469', 'a1470', 'a1471', 'a1472', 'a1473', 'a1474', 'a1475', 'a1476', 'a1477', 'a1478', 'a1479', 'a1480', 'a1481', 'a1482', 'a1483', 'a1484', 'a1485', 'a1486', 'a1487', 'a1488', 'a1489', 'a1490', 'a1491', 'a1492', 'a1493', 'a1494', 'a1495', 'a1496', 'a1497', 'a1498', 'a1499', 'a1500', 'a1501', 'a1502', 'a1503', 'a1504', 'a1505', 'a1506', 'a1507', 'a1508', 'a1509', 'a1510', 'a1511', 'a1512', 'a1513', 'a1514', 'a1515', 'a1516', 'a1517', 'a1518', 'a1519', 'a1520', 'a1521', 'a1522', 'a1523', 'a1524', 'a1525', 'a1526', 'a1527', 'a1528', 'a1529', 'a1530', 'a1531', 'a1532', 'a1533', 'a1534', 'a1535', 'a1536', 'a1537', 'a1538', 'a1539', 'a1540', 'a1541', 'a1542', 'a1543', 'a1544', 'a1545', 'a1546', 'a1547', 'a1548', 'a1549', 'a1550', 'a1551', 'a1552', 'a1553', 'a1554', 'a1555', 'a1556', 'a1557', 'a1558', 'a1559', 'a1560', 'a1561', 'a1562', 'a1563', 'a1564', 'a1565', 'a1566', 'a1567', 'a1568', 'a1569', 'a1570', 'a1571', 'a1572', 'a1573', 'a1574', 'a1575', 'a1576', 'a1577', 'a1578', 'a1579', 'a1580', 'a1581', 'a1582', 'a1583', 'a1584', 'a1585', 'a1586', 'a1587', 'a1588', 'a1589', 'a1590', 'a1591', 'a1592', 'a1593', 'a1594', 'a1595', 'a1596', 'a1597', 'a1598', 'a1599', 'a1600', 'a1601', 'a1602', 'a1603', 'a1604', 'a1605', 'a1606', 'a1607', 'a1608', 'a1609', 'a1610', 'a1611', 'a1612', 'a1613', 'a1614', 'a1615', 'a1616', 'a1617', 'a1618', 'a1619', 'a1620', 'a1621', 'a1622', 'a1623', 'a1624', 'a1625', 'a1626', 'a1627', 'a1628', 'a1629', 'a1630', 'a1631', 'a1632', 'a1633', 'a1634', 'a1635', 'a1636', 'a1637', 'a1638', 'a1639', 'a1640', 'a1641', 'a1642', 'a1643', 'a1644', 'a1645', 'a1646', 'a1647', 'a1648', 'a1649', 'a1650', 'a1651', 'a1652', 'a1653', 'a1654', 'a1655', 'a1656', 'a1657', 'a1658', 'a1659', 'a1660', 'a1661', 'a1662', 'a1663', 'a1664', 'a1665', 'a1666', 'a1667', 'a1668', 'a1669', 'a1670', 'a1671', 'a1672', 'a1673', 'a1674', 'a1675', 'a1676', 'a1677', 'a1678', 'a1679', 'a1680', 'a1681', 'a1682', 'a1683', 'a1684', 'a1685', 'a1686', 'a1687', 'a1688', 'a1689', 'a1690', 'a1691', 'a1692', 'a1693', 'a1694', 'a1695', 'a1696', 'a1697', 'a1698', 'a1699', 'a1700', 'a1701', 'a1702', 'a1703', 'a1704', 'a1705', 'a1706', 'a1707', 'a1708', 'a1709', 'a1710', 'a1711', 'a1712', 'a1713', 'a1714', 'a1715', 'a1716', 'a1717', 'a1718', 'a1719', 'a1720', 'a1721', 'a1722', 'a1723', 'a1724', 'a1725', 'a1726', 'a1727', 'a1728', 'a1729', 'a1730', 'a1731', 'a1732', 'a1733', 'a1734', 'a1735', 'a1736', 'a1737', 'a1738', 'a1739', 'a1740', 'a1741', 'a1742', 'a1743', 'a1744', 'a1745', 'a1746', 'a1747', 'a1748', 'a1749', 'a1750', 'a1751', 'a1752', 'a1753', 'a1754', 'a1755', 'a1756', 'a1757', 'a1758', 'a1759', 'a1760', 'a1761', 'a1762', 'a1763', 'a1764', 'a1765', 'a1766', 'a1767', 'a1768', 'a1769', 'a1770', 'a1771', 'a1772', 'a1773', 'a1774', 'a1775', 'a1776', 'a1777', 'a1778', 'a1779', 'a1780', 'a1781', 'a1782', 'a1783', 'a1784', 'a1785', 'a1786', 'a1787', 'a1788', 'a1789', 'a1790', 'a1791', 'a1792', 'a1793', 'a1794', 'a1795', 'a1796', 'a1797', 'a1798', 'a1799', 'a1800', 'a1801', 'a1802', 'a1803', 'a1804', 'a1805', 'a1806', 'a1807', 'a1808', 'a1809', 'a1810', 'a1811', 'a1812', 'a1813', 'a1814', 'a1815', 'a1816', 'a1817', 'a1818', 'a1819', 'a1820', 'a1821', 'a1822', 'a1823', 'a1824', 'a1825', 'a1826', 'a1827', 'a1828', 'a1829', 'a1830', 'a1831', 'a1832', 'a1833', 'a1834', 'a1835', 'a1836', 'a1837', 'a1838', 'a1839', 'a1840', 'a1841', 'a1842', 'a1843', 'a1844', 'a1845', 'a1846', 'a1847', 'a1848', 'a1849', 'a1850', 'a1851', 'a1852', 'a1853', 'a1854', 'a1855', 'a1856', 'a1857', 'a1858', 'a1859', 'a1860', 'a1861', 'a1862', 'a1863', 'a1864', 'a1865', 'a1866', 'a1867', 'a1868', 'a1869', 'a1870', 'a1871', 'a1872', 'a1873', 'a1874', 'a1875', 'a1876', 'a1877', 'a1878', 'a1879', 'a1880', 'a1881', 'a1882', 'a1883', 'a1884', 'a1885', 'a1886', 'a1887', 'a1888', 'a1889', 'a1890', 'a1891', 'a1892', 'a1893', 'a1894', 'a1895', 'a1896', 'a1897', 'a1898', 'a1899', 'a1900', 'a1901', 'a1902', 'a1903', 'a1904', 'a1905', 'a1906', 'a1907', 'a1908', 'a1909', 'a1910', 'a1911', 'a1912', 'a1913', 'a1914', 'a1915', 'a1916', 'a1917', 'a1918', 'a1919', 'a1920', 'a1921', 'a1922', 'a1923', 'a1924', 'a1925', 'a1926', 'a1927', 'a1928', 'a1929', 'a1930', 'a1931', 'a1932', 'a1933', 'a1934', 'a1935', 'a1936', 'a1937', 'a1938', 'a1939', 'a1940', 'a1941', 'a1942', 'a1943', 'a1944', 'a1945', 'a1946', 'a1947', 'a1948', 'a1949', 'a1950', 'a1951', 'a1952', 'a1953', 'a1954', 'a1955', 'a1956', 'a1957', 'a1958', 'a1959', 'a1960', 'a1961', 'a1962', 'a1963', 'a1964', 'a1965', 'a1966', 'a1967', 'a1968', 'a1969', 'a1970', 'a1971', 'a1972', 'a1973', 'a1974', 'a1975', 'a1976', 'a1977', 'a1978', 'a1979', 'a1980', 'a1981', 'a1982', 'a1983', 'a1984', 'a1985', 'a1986', 'a1987', 'a1988', 'a1989', 'a1990', 'a1991', 'a1992', 'a1993', 'a1994', 'a1995', 'a1996', 'a1997', 'a1998', 'a1999', 'a2000', 'a2001', 'a2002', 'a2003', 'a2004', 'a2005', 'a2006', 'a2007', 'a2008', 'a2009', 'a2010', 'a2011', 'a2012', 'a2013', 'a2014', 'a2015', 'a2016', 'a2017', 'a2018', 'a2019', 'a2020', 'a2021', 'a2022', 'a2023', 'a2024', 'a2025', 'a2026', 'a2027', 'a2028', 'a2029', 'a2030', 'a2031', 'a2032', 'a2033', 'a2034', 'a2035', 'a2036', 'a2037', 'a2038', 'a2039', 'a2040', 'a2041', 'a2042', 'a2043', 'a2044', 'a2045', 'a2046', 'a2047', 'a2048', 'a2049', 'a2050', 'a2051', 'a2052', 'a2053', 'a2054', 'a2055', 'a2056', 'a2057', 'a2058', 'a2059', 'a2060', 'a2061', 'a2062', 'a2063', 'a2064', 'a2065', 'a2066', 'a2067', 'a2068', 'a2069', 'a2070', 'a2071', 'a2072', 'a2073', 'a2074', 'a2075', 'a2076', 'a2077', 'a2078', 'a2079', 'a2080', 'a2081', 'a2082', 'a2083', 'a2084', 'a2085', 'a2086', 'a2087', 'a2088', 'a2089', 'a2090', 'a2091', 'a2092', 'a2093', 'a2094', 'a2095', 'a2096', 'a2097', 'a2098', 'a2099', 'a2100', 'a2101', 'a2102', 'a2103', 'a2104', 'a2105', 'a2106', 'a2107', 'a2108', 'a2109', 'a2110', 'a2111', 'a2112', 'a2113', 'a2114', 'a2115', 'a2116', 'a2117', 'a2118', 'a2119', 'a2120', 'a2121', 'a2122', 'a2123', 'a2124', 'a2125', 'a2126', 'a2127', 'a2128', 'a2129', 'a2130', 'a2131', 'a2132', 'a2133', 'a2134', 'a2135', 'a2136', 'a2137', 'a2138', 'a2139', 'a2140', 'a2141', 'a2142', 'a2143', 'a2144', 'a2145', 'a2146', 'a2147', 'a2148', 'a2149', 'a2150', 'a2151', 'a2152', 'a2153', 'a2154', 'a2155', 'a2156', 'a2157', 'a2158', 'a2159', 'a2160', 'a2161', 'a2162', 'a2163', 'a2164', 'a2165', 'a2166', 'a2167', 'a2168', 'a2169', 'a2170', 'a2171', 'a2172', 'a2173', 'a2174', 'a2175', 'a2176', 'a2177', 'a2178', 'a2179', 'a2180', 'a2181', 'a2182', 'a2183', 'a2184', 'a2185', 'a2186', 'a2187', 'a2188', 'a2189', 'a2190', 'a2191', 'a2192', 'a2193', 'a2194', 'a2195', 'a2196', 'a2197', 'a2198', 'a2199', 'a2200', 'a2201', 'a2202', 'a2203', 'a2204', 'a2205', 'a2206', 'a2207', 'a2208', 'a2209', 'a2210', 'a2211', 'a2212', 'a2213', 'a2214', 'a2215', 'a2216', 'a2217', 'a2218', 'a2219', 'a2220', 'a2221', 'a2222', 'a2223', 'a2224', 'a2225', 'a2226', 'a2227', 'a2228', 'a2229', 'a2230', 'a2231', 'a2232', 'a2233', 'a2234', 'a2235', 'a2236', 'a2237', 'a2238', 'a2239', 'a2240', 'a2241', 'a2242', 'a2243', 'a2244', 'a2245', 'a2246', 'a2247', 'a2248', 'a2249', 'a2250', 'a2251', 'a2252', 'a2253', 'a2254', 'a2255', 'a2256', 'a2257', 'a2258', 'a2259', 'a2260', 'a2261', 'a2262', 'a2263', 'a2264', 'a2265', 'a2266', 'a2267', 'a2268', 'a2269', 'a2270', 'a2271', 'a2272', 'a2273', 'a2274', 'a2275', 'a2276', 'a2277', 'a2278', 'a2279', 'a2280', 'a2281', 'a2282', 'a2283', 'a2284', 'a2285', 'a2286', 'a2287', 'a2288', 'a2289', 'a2290', 'a2291', 'a2292', 'a2293', 'a2294', 'a2295', 'a2296', 'a2297', 'a2298', 'a2299', 'a2300', 'a2301', 'a2302', 'a2303', 'a2304', 'a2305', 'a2306', 'a2307', 'a2308', 'a2309', 'a2310', 'a2311', 'a2312', 'a2313', 'a2314', 'a2315', 'a2316', 'a2317', 'a2318', 'a2319', 'a2320', 'a2321', 'a2322', 'a2323', 'a2324', 'a2325', 'a2326', 'a2327', 'a2328', 'a2329', 'a2330', 'a2331', 'a2332', 'a2333', 'a2334', 'a2335', 'a2336', 'a2337', 'a2338', 'a2339', 'a2340', 'a2341', 'a2342', 'a2343', 'a2344', 'a2345', 'a2346', 'a2347', 'a2348', 'a2349', 'a2350', 'a2351', 'a2352', 'a2353', 'a2354', 'a2355', 'a2356', 'a2357', 'a2358', 'a2359', 'a2360', 'a2361', 'a2362', 'a2363', 'a2364', 'a2365', 'a2366', 'a2367', 'a2368', 'a2369', 'a2370', 'a2371', 'a2372', 'a2373', 'a2374', 'a2375', 'a2376', 'a2377', 'a2378', 'a2379', 'a2380', 'a2381', 'a2382', 'a2383', 'a2384', 'a2385', 'a2386', 'a2387', 'a2388', 'a2389', 'a2390', 'a2391', 'a2392', 'a2393', 'a2394', 'a2395', 'a2396', 'a2397', 'a2398', 'a2399', 'a2400', 'a2401', 'a2402', 'a2403', 'a2404', 'a2405', 'a2406', 'a2407', 'a2408', 'a2409', 'a2410', 'a2411', 'a2412', 'a2413', 'a2414', 'a2415', 'a2416', 'a2417', 'a2418', 'a2419', 'a2420', 'a2421', 'a2422', 'a2423', 'a2424', 'a2425', 'a2426', 'a2427', 'a2428', 'a2429', 'a2430', 'a2431', 'a2432', 'a2433', 'a2434', 'a2435', 'a2436', 'a2437', 'a2438', 'a2439', 'a2440', 'a2441', 'a2442', 'a2443', 'a2444', 'a2445', 'a2446', 'a2447', 'a2448', 'a2449', 'a2450', 'a2451', 'a2452', 'a2453', 'a2454', 'a2455', 'a2456', 'a2457', 'a2458', 'a2459', 'a2460', 'a2461', 'a2462', 'a2463', 'a2464', 'a2465', 'a2466', 'a2467', 'a2468', 'a2469', 'a2470', 'a2471', 'a2472', 'a2473', 'a2474', 'a2475', 'a2476', 'a2477', 'a2478', 'a2479', 'a2480', 'a2481', 'a2482', 'a2483', 'a2484', 'a2485', 'a2486', 'a2487', 'a2488', 'a2489', 'a2490', 'a2491', 'a2492', 'a2493', 'a2494', 'a2495', 'a2496', 'a2497', 'a2498', 'a2499', 'a2500', 'a2501', 'a2502', 'a2503', 'a2504', 'a2505', 'a2506', 'a2507', 'a2508', 'a2509', 'a2510', 'a2511', 'a2512', 'a2513', 'a2514', 'a2515', 'a2516', 'a2517', 'a2518', 'a2519', 'a2520', 'a2521', 'a2522', 'a2523', 'a2524', 'a2525', 'a2526', 'a2527', 'a2528', 'a2529', 'a2530', 'a2531', 'a2532', 'a2533', 'a2534', 'a2535', 'a2536', 'a2537', 'a2538', 'a2539', 'a2540', 'a2541', 'a2542', 'a2543', 'a2544', 'a2545', 'a2546', 'a2547', 'a2548', 'a2549', 'a2550', 'a2551', 'a2552', 'a2553', 'a2554', 'a2555', 'a2556', 'a2557', 'a2558', 'a2559', 'a2560', 'a2561', 'a2562', 'a2563', 'a2564', 'a2565', 'a2566', 'a2567', 'a2568', 'a2569', 'a2570', 'a2571', 'a2572', 'a2573', 'a2574', 'a2575', 'a2576', 'a2577', 'a2578', 'a2579', 'a2580', 'a2581', 'a2582', 'a2583', 'a2584', 'a2585', 'a2586', 'a2587', 'a2588', 'a2589', 'a2590', 'a2591', 'a2592', 'a2593', 'a2594', 'a2595', 'a2596', 'a2597', 'a2598', 'a2599', 'a2600', 'a2601', 'a2602', 'a2603', 'a2604', 'a2605', 'a2606', 'a2607', 'a2608', 'a2609', 'a2610', 'a2611', 'a2612', 'a2613', 'a2614', 'a2615', 'a2616', 'a2617', 'a2618', 'a2619', 'a2620', 'a2621', 'a2622', 'a2623', 'a2624', 'a2625', 'a2626', 'a2627', 'a2628', 'a2629', 'a2630', 'a2631', 'a2632', 'a2633', 'a2634', 'a2635', 'a2636', 'a2637', 'a2638', 'a2639', 'a2640', 'a2641', 'a2642', 'a2643', 'a2644', 'a2645', 'a2646', 'a2647', 'a2648', 'a2649', 'a2650', 'a2651', 'a2652', 'a2653', 'a2654', 'a2655', 'a2656', 'a2657', 'a2658', 'a2659', 'a2660', 'a2661', 'a2662', 'a2663', 'a2664', 'a2665', 'a2666', 'a2667', 'a2668', 'a2669', 'a2670', 'a2671', 'a2672', 'a2673', 'a2674', 'a2675', 'a2676', 'a2677', 'a2678', 'a2679', 'a2680', 'a2681', 'a2682', 'a2683', 'a2684', 'a2685', 'a2686', 'a2687', 'a2688', 'a2689', 'a2690', 'a2691', 'a2692', 'a2693', 'a2694', 'a2695', 'a2696', 'a2697', 'a2698', 'a2699', 'a2700', 'a2701', 'a2702', 'a2703', 'a2704', 'a2705', 'a2706', 'a2707', 'a2708', 'a2709', 'a2710', 'a2711', 'a2712', 'a2713', 'a2714', 'a2715', 'a2716', 'a2717', 'a2718', 'a2719', 'a2720', 'a2721', 'a2722', 'a2723', 'a2724', 'a2725', 'a2726', 'a2727', 'a2728', 'a2729', 'a2730', 'a2731', 'a2732', 'a2733', 'a2734', 'a2735', 'a2736', 'a2737', 'a2738', 'a2739', 'a2740', 'a2741', 'a2742', 'a2743', 'a2744', 'a2745', 'a2746', 'a2747', 'a2748', 'a2749', 'a2750', 'a2751', 'a2752', 'a2753', 'a2754', 'a2755', 'a2756', 'a2757', 'a2758', 'a2759', 'a2760', 'a2761', 'a2762', 'a2763', 'a2764', 'a2765', 'a2766', 'a2767', 'a2768', 'a2769', 'a2770', 'a2771', 'a2772', 'a2773', 'a2774', 'a2775', 'a2776', 'a2777', 'a2778', 'a2779', 'a2780', 'a2781', 'a2782', 'a2783', 'a2784', 'a2785', 'a2786', 'a2787', 'a2788', 'a2789', 'a2790', 'a2791', 'a2792', 'a2793', 'a2794', 'a2795', 'a2796', 'a2797', 'a2798', 'a2799', 'a2800', 'a2801', 'a2802', 'a2803', 'a2804', 'a2805', 'a2806', 'a2807', 'a2808', 'a2809', 'a2810', 'a2811', 'a2812', 'a2813', 'a2814', 'a2815', 'a2816', 'a2817', 'a2818', 'a2819', 'a2820', 'a2821', 'a2822', 'a2823', 'a2824', 'a2825', 'a2826', 'a2827', 'a2828', 'a2829', 'a2830', 'a2831', 'a2832', 'a2833', 'a2834', 'a2835', 'a2836', 'a2837', 'a2838', 'a2839', 'a2840', 'a2841', 'a2842', 'a2843', 'a2844', 'a2845', 'a2846', 'a2847', 'a2848', 'a2849', 'a2850', 'a2851', 'a2852', 'a2853', 'a2854', 'a2855', 'a2856', 'a2857', 'a2858', 'a2859', 'a2860', 'a2861', 'a2862', 'a2863', 'a2864', 'a2865', 'a2866', 'a2867', 'a2868', 'a2869', 'a2870', 'a2871', 'a2872', 'a2873', 'a2874', 'a2875', 'a2876', 'a2877', 'a2878', 'a2879', 'a2880', 'a2881', 'a2882', 'a2883', 'a2884', 'a2885', 'a2886', 'a2887', 'a2888', 'a2889', 'a2890', 'a2891', 'a2892', 'a2893', 'a2894', 'a2895', 'a2896', 'a2897', 'a2898', 'a2899', 'a2900', 'a2901', 'a2902', 'a2903', 'a2904', 'a2905', 'a2906', 'a2907', 'a2908', 'a2909', 'a2910', 'a2911', 'a2912', 'a2913', 'a2914', 'a2915', 'a2916', 'a2917', 'a2918', 'a2919', 'a2920', 'a2921', 'a2922', 'a2923', 'a2924', 'a2925', 'a2926', 'a2927', 'a2928', 'a2929', 'a2930', 'a2931', 'a2932', 'a2933', 'a2934', 'a2935', 'a2936', 'a2937', 'a2938', 'a2939', 'a2940', 'a2941', 'a2942', 'a2943', 'a2944', 'a2945', 'a2946', 'a2947', 'a2948', 'a2949', 'a2950', 'a2951', 'a2952', 'a2953', 'a2954', 'a2955', 'a2956', 'a2957', 'a2958', 'a2959', 'a2960', 'a2961', 'a2962', 'a2963', 'a2964', 'a2965', 'a2966', 'a2967', 'a2968', 'a2969', 'a2970', 'a2971', 'a2972', 'a2973', 'a2974', 'a2975', 'a2976', 'a2977', 'a2978', 'a2979', 'a2980', 'a2981', 'a2982', 'a2983', 'a2984', 'a2985', 'a2986', 'a2987', 'a2988', 'a2989', 'a2990', 'a2991', 'a2992', 'a2993', 'a2994', 'a2995', 'a2996', 'a2997', 'a2998', 'a2999', 'a3000', 'a3001', 'a3002', 'a3003', 'a3004', 'a3005', 'a3006', 'a3007', 'a3008', 'a3009', 'a3010', 'a3011', 'a3012', 'a3013', 'a3014', 'a3015', 'a3016', 'a3017', 'a3018', 'a3019', 'a3020', 'a3021', 'a3022', 'a3023', 'a3024', 'a3025', 'a3026', 'a3027', 'a3028', 'a3029', 'a3030', 'a3031', 'a3032', 'a3033', 'a3034', 'a3035', 'a3036', 'a3037', 'a3038', 'a3039', 'a3040', 'a3041', 'a3042', 'a3043', 'a3044', 'a3045', 'a3046', 'a3047', 'a3048', 'a3049', 'a3050', 'a3051', 'a3052', 'a3053', 'a3054', 'a3055', 'a3056', 'a3057', 'a3058', 'a3059', 'a3060', 'a3061', 'a3062', 'a3063', 'a3064', 'a3065', 'a3066', 'a3067', 'a3068', 'a3069', 'a3070', 'a3071'], 'DESCR': '**Author**: Alex Krizhevsky, Vinod Nair, and Geoffrey Hinton    \\n**Source**: [University of Toronto](https://www.cs.toronto.edu/~kriz/cifar.html) - 2009  \\n**Please cite**: Alex Krizhevsky (2009) Learning Multiple Layers of Features from Tiny Images, Tech Report.\\n\\n**CIFAR-10 small**  \\nThis is a 20,000 instance sample of the original CIFAR-10 dataset. Sampled randomly and stratified, with 2000 examples per class. Training and test set are merged. Find the corresponding task for the original train-test splits.\\n\\nCIFAR-10 is a labeled subset of the [80 million tiny images dataset](http://groups.csail.mit.edu/vision/TinyImages/). It (originally) consists 32x32 color images representing 10 classes of objects:  \\n0. airplane  \\n1. automobile          \\n2. bird          \\n3. cat          \\n4. deer          \\n5. dog          \\n6. frog          \\n7. horse          \\n8. ship          \\n9. truck          \\n\\nThe classes are completely mutually exclusive. There is no overlap between automobiles and trucks. \"Automobile\" includes sedans, SUVs, things of that sort. \"Truck\" includes only big trucks. Neither includes pickup trucks.\\n\\nThe original CIFAR-10 dataset contains 6000 images per class. The original train-test split randomly divided these into 5000 train and 1000 test images per class.\\n\\n### Attribute description  \\n\\nEach instance represents a 32x32 colour image as a 3072-value array. The first 1024 entries contain the red channel values, the next 1024 the green, and the final 1024 the blue. The image is stored in row-major order, so that the first 32 entries of the array are the red channel values of the first row of the image.\\n\\nThe labels are encoded as integers in the range 0-9, corresponding to the numbered classes listed above\\n\\nDownloaded from openml.org.', 'details': {'id': '40926', 'name': 'CIFAR_10_small', 'version': '1', 'format': 'ARFF', 'upload_date': '2017-09-26T23:24:38', 'licence': 'Public', 'url': 'https://www.openml.org/data/v1/download/16797612/CIFAR_10_small.arff', 'file_id': '16797612', 'default_target_attribute': 'class', 'tag': 'derived', 'visibility': 'public', 'status': 'active', 'processing_date': '2018-10-04 07:18:53', 'md5_checksum': '060250588efa7a126a72ab523c8f824c'}, 'categories': {}, 'url': 'https://www.openml.org/d/40926'}\n"
     ]
    }
   ],
   "source": [
    "data = fetch_openml(data_id=40926) # get CIFAR-10 data from OpenML\n",
    "print(data)"
   ]
  },
  {
   "cell_type": "code",
   "execution_count": 39,
   "metadata": {
    "colab": {
     "base_uri": "https://localhost:8080/",
     "height": 156
    },
    "colab_type": "code",
    "id": "2tQ1s9YceLJ2",
    "outputId": "941f82ff-544a-4be1-e832-6906e6323041"
   },
   "outputs": [],
   "source": [
    "def display_img(arr):\n",
    "    R = arr[0:1024].reshape(32,32)/255.0\n",
    "    G = arr[1024:2048].reshape(32,32)/255.0\n",
    "    B = arr[2048:].reshape(32,32)/255.0\n",
    "    \n",
    "    img = np.dstack((R,G,B))\n",
    "    fig = pyplot.figure(figsize=(3,3))\n",
    "    ax = fig.add_subplot(111)\n",
    "    ax.imshow(img,interpolation='bicubic')"
   ]
  },
  {
   "cell_type": "code",
   "execution_count": 44,
   "metadata": {
    "scrolled": true
   },
   "outputs": [
    {
     "data": {
      "image/png": "[encoded data removed]",
      "text/plain": [
       "<Figure size 216x216 with 1 Axes>"
      ]
     },
     "metadata": {
      "needs_background": "light"
     },
     "output_type": "display_data"
    },
    {
     "data": {
      "image/png": "[encoded data removed]",
      "text/plain": [
       "<Figure size 216x216 with 1 Axes>"
      ]
     },
     "metadata": {
      "needs_background": "light"
     },
     "output_type": "display_data"
    },
    {
     "data": {
      "image/png": "[encoded data removed]",
      "text/plain": [
       "<Figure size 216x216 with 1 Axes>"
      ]
     },
     "metadata": {
      "needs_background": "light"
     },
     "output_type": "display_data"
    }
   ],
   "source": [
    "for i in range(0,3): \n",
    "    display_img(data['data'][i])"
   ]
  },
  {
   "cell_type": "code",
   "execution_count": 54,
   "metadata": {},
   "outputs": [
    {
     "name": "stdout",
     "output_type": "stream",
     "text": [
      "9\n"
     ]
    },
    {
     "data": {
      "image/png": "[encoded data removed]",
      "text/plain": [
       "<Figure size 216x216 with 1 Axes>"
      ]
     },
     "metadata": {
      "needs_background": "light"
     },
     "output_type": "display_data"
    }
   ],
   "source": [
    "# Splitting the data up\n",
    "\n",
    "from sklearn.model_selection import train_test_split\n",
    "\n",
    "X = data['data']\n",
    "y = data['target']\n",
    "X_train, X_test, y_train, y_test = train_test_split(X, y, test_size=.25)"
   ]
  },
  {
   "cell_type": "code",
   "execution_count": 60,
   "metadata": {},
   "outputs": [
    {
     "name": "stdout",
     "output_type": "stream",
     "text": [
      "Accuracy Score: 0.3986\n"
     ]
    },
    {
     "name": "stderr",
     "output_type": "stream",
     "text": [
      "/Users/andrewannetrand/opt/anaconda3/lib/python3.7/site-packages/sklearn/linear_model/sag.py:337: ConvergenceWarning: The max_iter was reached which means the coef_ did not converge\n",
      "  \"the coef_ did not converge\", ConvergenceWarning)\n"
     ]
    }
   ],
   "source": [
    "# Let's train our logistic regression model now\n",
    "\n",
    "from sklearn.linear_model import LogisticRegressionCV, LogisticRegression\n",
    "from sklearn.metrics import roc_auc_score, accuracy_score\n",
    "\n",
    "lr = LogisticRegression(\n",
    "    penalty='l2',\n",
    "    dual=False,\n",
    "    tol=0.0001,\n",
    "    C=1.0,\n",
    "    fit_intercept=True,\n",
    "    intercept_scaling=1,\n",
    "    class_weight=None,\n",
    "    random_state=None,\n",
    "    solver='saga',\n",
    "    max_iter=10,\n",
    "    multi_class='multinomial',\n",
    "    verbose=0,\n",
    "    warm_start=False,\n",
    "    n_jobs=None,\n",
    "    l1_ratio=None,\n",
    ")\n",
    "\n",
    "lr.fit(X_train, y_train)\n",
    "lr_preds = lr.predict(X_test)\n",
    "\n",
    "print(\"Accuracy Score: {}\".format(accuracy_score(y_test, lr_preds)))"
   ]
  },
  {
   "cell_type": "markdown",
   "metadata": {
    "colab_type": "text",
    "id": "PT0AoLIGeLJ6"
   },
   "source": [
    "# **Problem** **2**"
   ]
  },
  {
   "cell_type": "markdown",
   "metadata": {
    "colab_type": "text",
    "id": "_BYAnw4PeLJ7"
   },
   "source": [
    "# **Problem** **3**"
   ]
  },
  {
   "cell_type": "code",
   "execution_count": 1,
   "metadata": {},
   "outputs": [],
   "source": [
    "from sklearn.datasets import fetch_openml\n",
    "import matplotlib.pyplot as plt\n",
    "import numpy as np\n",
    "from sklearn.ensemble import RandomForestClassifier\n",
    "from sklearn.ensemble import GradientBoostingClassifier\n",
    "from sklearn.model_selection import RandomizedSearchCV\n",
    "from sklearn.model_selection import cross_val_score\n",
    "from sklearn.model_selection import RandomizedSearchCV\n",
    "from pprint import pprint\n",
    "\n",
    "%matplotlib inline"
   ]
  },
  {
   "cell_type": "code",
   "execution_count": 2,
   "metadata": {},
   "outputs": [
    {
     "name": "stdout",
     "output_type": "stream",
     "text": [
      "{'data': array([[0., 0., 0., ..., 0., 0., 0.],\n",
      "       [0., 0., 0., ..., 0., 0., 0.],\n",
      "       [0., 0., 0., ..., 0., 0., 0.],\n",
      "       ...,\n",
      "       [0., 0., 0., ..., 0., 0., 0.],\n",
      "       [0., 0., 0., ..., 0., 0., 0.],\n",
      "       [0., 0., 0., ..., 0., 0., 0.]]), 'target': array(['5', '0', '4', ..., '4', '5', '6'], dtype=object), 'frame': None, 'feature_names': ['pixel1', 'pixel2', 'pixel3', 'pixel4', 'pixel5', 'pixel6', 'pixel7', 'pixel8', 'pixel9', 'pixel10', 'pixel11', 'pixel12', 'pixel13', 'pixel14', 'pixel15', 'pixel16', 'pixel17', 'pixel18', 'pixel19', 'pixel20', 'pixel21', 'pixel22', 'pixel23', 'pixel24', 'pixel25', 'pixel26', 'pixel27', 'pixel28', 'pixel29', 'pixel30', 'pixel31', 'pixel32', 'pixel33', 'pixel34', 'pixel35', 'pixel36', 'pixel37', 'pixel38', 'pixel39', 'pixel40', 'pixel41', 'pixel42', 'pixel43', 'pixel44', 'pixel45', 'pixel46', 'pixel47', 'pixel48', 'pixel49', 'pixel50', 'pixel51', 'pixel52', 'pixel53', 'pixel54', 'pixel55', 'pixel56', 'pixel57', 'pixel58', 'pixel59', 'pixel60', 'pixel61', 'pixel62', 'pixel63', 'pixel64', 'pixel65', 'pixel66', 'pixel67', 'pixel68', 'pixel69', 'pixel70', 'pixel71', 'pixel72', 'pixel73', 'pixel74', 'pixel75', 'pixel76', 'pixel77', 'pixel78', 'pixel79', 'pixel80', 'pixel81', 'pixel82', 'pixel83', 'pixel84', 'pixel85', 'pixel86', 'pixel87', 'pixel88', 'pixel89', 'pixel90', 'pixel91', 'pixel92', 'pixel93', 'pixel94', 'pixel95', 'pixel96', 'pixel97', 'pixel98', 'pixel99', 'pixel100', 'pixel101', 'pixel102', 'pixel103', 'pixel104', 'pixel105', 'pixel106', 'pixel107', 'pixel108', 'pixel109', 'pixel110', 'pixel111', 'pixel112', 'pixel113', 'pixel114', 'pixel115', 'pixel116', 'pixel117', 'pixel118', 'pixel119', 'pixel120', 'pixel121', 'pixel122', 'pixel123', 'pixel124', 'pixel125', 'pixel126', 'pixel127', 'pixel128', 'pixel129', 'pixel130', 'pixel131', 'pixel132', 'pixel133', 'pixel134', 'pixel135', 'pixel136', 'pixel137', 'pixel138', 'pixel139', 'pixel140', 'pixel141', 'pixel142', 'pixel143', 'pixel144', 'pixel145', 'pixel146', 'pixel147', 'pixel148', 'pixel149', 'pixel150', 'pixel151', 'pixel152', 'pixel153', 'pixel154', 'pixel155', 'pixel156', 'pixel157', 'pixel158', 'pixel159', 'pixel160', 'pixel161', 'pixel162', 'pixel163', 'pixel164', 'pixel165', 'pixel166', 'pixel167', 'pixel168', 'pixel169', 'pixel170', 'pixel171', 'pixel172', 'pixel173', 'pixel174', 'pixel175', 'pixel176', 'pixel177', 'pixel178', 'pixel179', 'pixel180', 'pixel181', 'pixel182', 'pixel183', 'pixel184', 'pixel185', 'pixel186', 'pixel187', 'pixel188', 'pixel189', 'pixel190', 'pixel191', 'pixel192', 'pixel193', 'pixel194', 'pixel195', 'pixel196', 'pixel197', 'pixel198', 'pixel199', 'pixel200', 'pixel201', 'pixel202', 'pixel203', 'pixel204', 'pixel205', 'pixel206', 'pixel207', 'pixel208', 'pixel209', 'pixel210', 'pixel211', 'pixel212', 'pixel213', 'pixel214', 'pixel215', 'pixel216', 'pixel217', 'pixel218', 'pixel219', 'pixel220', 'pixel221', 'pixel222', 'pixel223', 'pixel224', 'pixel225', 'pixel226', 'pixel227', 'pixel228', 'pixel229', 'pixel230', 'pixel231', 'pixel232', 'pixel233', 'pixel234', 'pixel235', 'pixel236', 'pixel237', 'pixel238', 'pixel239', 'pixel240', 'pixel241', 'pixel242', 'pixel243', 'pixel244', 'pixel245', 'pixel246', 'pixel247', 'pixel248', 'pixel249', 'pixel250', 'pixel251', 'pixel252', 'pixel253', 'pixel254', 'pixel255', 'pixel256', 'pixel257', 'pixel258', 'pixel259', 'pixel260', 'pixel261', 'pixel262', 'pixel263', 'pixel264', 'pixel265', 'pixel266', 'pixel267', 'pixel268', 'pixel269', 'pixel270', 'pixel271', 'pixel272', 'pixel273', 'pixel274', 'pixel275', 'pixel276', 'pixel277', 'pixel278', 'pixel279', 'pixel280', 'pixel281', 'pixel282', 'pixel283', 'pixel284', 'pixel285', 'pixel286', 'pixel287', 'pixel288', 'pixel289', 'pixel290', 'pixel291', 'pixel292', 'pixel293', 'pixel294', 'pixel295', 'pixel296', 'pixel297', 'pixel298', 'pixel299', 'pixel300', 'pixel301', 'pixel302', 'pixel303', 'pixel304', 'pixel305', 'pixel306', 'pixel307', 'pixel308', 'pixel309', 'pixel310', 'pixel311', 'pixel312', 'pixel313', 'pixel314', 'pixel315', 'pixel316', 'pixel317', 'pixel318', 'pixel319', 'pixel320', 'pixel321', 'pixel322', 'pixel323', 'pixel324', 'pixel325', 'pixel326', 'pixel327', 'pixel328', 'pixel329', 'pixel330', 'pixel331', 'pixel332', 'pixel333', 'pixel334', 'pixel335', 'pixel336', 'pixel337', 'pixel338', 'pixel339', 'pixel340', 'pixel341', 'pixel342', 'pixel343', 'pixel344', 'pixel345', 'pixel346', 'pixel347', 'pixel348', 'pixel349', 'pixel350', 'pixel351', 'pixel352', 'pixel353', 'pixel354', 'pixel355', 'pixel356', 'pixel357', 'pixel358', 'pixel359', 'pixel360', 'pixel361', 'pixel362', 'pixel363', 'pixel364', 'pixel365', 'pixel366', 'pixel367', 'pixel368', 'pixel369', 'pixel370', 'pixel371', 'pixel372', 'pixel373', 'pixel374', 'pixel375', 'pixel376', 'pixel377', 'pixel378', 'pixel379', 'pixel380', 'pixel381', 'pixel382', 'pixel383', 'pixel384', 'pixel385', 'pixel386', 'pixel387', 'pixel388', 'pixel389', 'pixel390', 'pixel391', 'pixel392', 'pixel393', 'pixel394', 'pixel395', 'pixel396', 'pixel397', 'pixel398', 'pixel399', 'pixel400', 'pixel401', 'pixel402', 'pixel403', 'pixel404', 'pixel405', 'pixel406', 'pixel407', 'pixel408', 'pixel409', 'pixel410', 'pixel411', 'pixel412', 'pixel413', 'pixel414', 'pixel415', 'pixel416', 'pixel417', 'pixel418', 'pixel419', 'pixel420', 'pixel421', 'pixel422', 'pixel423', 'pixel424', 'pixel425', 'pixel426', 'pixel427', 'pixel428', 'pixel429', 'pixel430', 'pixel431', 'pixel432', 'pixel433', 'pixel434', 'pixel435', 'pixel436', 'pixel437', 'pixel438', 'pixel439', 'pixel440', 'pixel441', 'pixel442', 'pixel443', 'pixel444', 'pixel445', 'pixel446', 'pixel447', 'pixel448', 'pixel449', 'pixel450', 'pixel451', 'pixel452', 'pixel453', 'pixel454', 'pixel455', 'pixel456', 'pixel457', 'pixel458', 'pixel459', 'pixel460', 'pixel461', 'pixel462', 'pixel463', 'pixel464', 'pixel465', 'pixel466', 'pixel467', 'pixel468', 'pixel469', 'pixel470', 'pixel471', 'pixel472', 'pixel473', 'pixel474', 'pixel475', 'pixel476', 'pixel477', 'pixel478', 'pixel479', 'pixel480', 'pixel481', 'pixel482', 'pixel483', 'pixel484', 'pixel485', 'pixel486', 'pixel487', 'pixel488', 'pixel489', 'pixel490', 'pixel491', 'pixel492', 'pixel493', 'pixel494', 'pixel495', 'pixel496', 'pixel497', 'pixel498', 'pixel499', 'pixel500', 'pixel501', 'pixel502', 'pixel503', 'pixel504', 'pixel505', 'pixel506', 'pixel507', 'pixel508', 'pixel509', 'pixel510', 'pixel511', 'pixel512', 'pixel513', 'pixel514', 'pixel515', 'pixel516', 'pixel517', 'pixel518', 'pixel519', 'pixel520', 'pixel521', 'pixel522', 'pixel523', 'pixel524', 'pixel525', 'pixel526', 'pixel527', 'pixel528', 'pixel529', 'pixel530', 'pixel531', 'pixel532', 'pixel533', 'pixel534', 'pixel535', 'pixel536', 'pixel537', 'pixel538', 'pixel539', 'pixel540', 'pixel541', 'pixel542', 'pixel543', 'pixel544', 'pixel545', 'pixel546', 'pixel547', 'pixel548', 'pixel549', 'pixel550', 'pixel551', 'pixel552', 'pixel553', 'pixel554', 'pixel555', 'pixel556', 'pixel557', 'pixel558', 'pixel559', 'pixel560', 'pixel561', 'pixel562', 'pixel563', 'pixel564', 'pixel565', 'pixel566', 'pixel567', 'pixel568', 'pixel569', 'pixel570', 'pixel571', 'pixel572', 'pixel573', 'pixel574', 'pixel575', 'pixel576', 'pixel577', 'pixel578', 'pixel579', 'pixel580', 'pixel581', 'pixel582', 'pixel583', 'pixel584', 'pixel585', 'pixel586', 'pixel587', 'pixel588', 'pixel589', 'pixel590', 'pixel591', 'pixel592', 'pixel593', 'pixel594', 'pixel595', 'pixel596', 'pixel597', 'pixel598', 'pixel599', 'pixel600', 'pixel601', 'pixel602', 'pixel603', 'pixel604', 'pixel605', 'pixel606', 'pixel607', 'pixel608', 'pixel609', 'pixel610', 'pixel611', 'pixel612', 'pixel613', 'pixel614', 'pixel615', 'pixel616', 'pixel617', 'pixel618', 'pixel619', 'pixel620', 'pixel621', 'pixel622', 'pixel623', 'pixel624', 'pixel625', 'pixel626', 'pixel627', 'pixel628', 'pixel629', 'pixel630', 'pixel631', 'pixel632', 'pixel633', 'pixel634', 'pixel635', 'pixel636', 'pixel637', 'pixel638', 'pixel639', 'pixel640', 'pixel641', 'pixel642', 'pixel643', 'pixel644', 'pixel645', 'pixel646', 'pixel647', 'pixel648', 'pixel649', 'pixel650', 'pixel651', 'pixel652', 'pixel653', 'pixel654', 'pixel655', 'pixel656', 'pixel657', 'pixel658', 'pixel659', 'pixel660', 'pixel661', 'pixel662', 'pixel663', 'pixel664', 'pixel665', 'pixel666', 'pixel667', 'pixel668', 'pixel669', 'pixel670', 'pixel671', 'pixel672', 'pixel673', 'pixel674', 'pixel675', 'pixel676', 'pixel677', 'pixel678', 'pixel679', 'pixel680', 'pixel681', 'pixel682', 'pixel683', 'pixel684', 'pixel685', 'pixel686', 'pixel687', 'pixel688', 'pixel689', 'pixel690', 'pixel691', 'pixel692', 'pixel693', 'pixel694', 'pixel695', 'pixel696', 'pixel697', 'pixel698', 'pixel699', 'pixel700', 'pixel701', 'pixel702', 'pixel703', 'pixel704', 'pixel705', 'pixel706', 'pixel707', 'pixel708', 'pixel709', 'pixel710', 'pixel711', 'pixel712', 'pixel713', 'pixel714', 'pixel715', 'pixel716', 'pixel717', 'pixel718', 'pixel719', 'pixel720', 'pixel721', 'pixel722', 'pixel723', 'pixel724', 'pixel725', 'pixel726', 'pixel727', 'pixel728', 'pixel729', 'pixel730', 'pixel731', 'pixel732', 'pixel733', 'pixel734', 'pixel735', 'pixel736', 'pixel737', 'pixel738', 'pixel739', 'pixel740', 'pixel741', 'pixel742', 'pixel743', 'pixel744', 'pixel745', 'pixel746', 'pixel747', 'pixel748', 'pixel749', 'pixel750', 'pixel751', 'pixel752', 'pixel753', 'pixel754', 'pixel755', 'pixel756', 'pixel757', 'pixel758', 'pixel759', 'pixel760', 'pixel761', 'pixel762', 'pixel763', 'pixel764', 'pixel765', 'pixel766', 'pixel767', 'pixel768', 'pixel769', 'pixel770', 'pixel771', 'pixel772', 'pixel773', 'pixel774', 'pixel775', 'pixel776', 'pixel777', 'pixel778', 'pixel779', 'pixel780', 'pixel781', 'pixel782', 'pixel783', 'pixel784'], 'target_names': ['class'], 'DESCR': \"**Author**: Yann LeCun, Corinna Cortes, Christopher J.C. Burges  \\n**Source**: [MNIST Website](http://yann.lecun.com/exdb/mnist/) - Date unknown  \\n**Please cite**:  \\n\\nThe MNIST database of handwritten digits with 784 features, raw data available at: http://yann.lecun.com/exdb/mnist/. It can be split in a training set of the first 60,000 examples, and a test set of 10,000 examples  \\n\\nIt is a subset of a larger set available from NIST. The digits have been size-normalized and centered in a fixed-size image. It is a good database for people who want to try learning techniques and pattern recognition methods on real-world data while spending minimal efforts on preprocessing and formatting. The original black and white (bilevel) images from NIST were size normalized to fit in a 20x20 pixel box while preserving their aspect ratio. The resulting images contain grey levels as a result of the anti-aliasing technique used by the normalization algorithm. the images were centered in a 28x28 image by computing the center of mass of the pixels, and translating the image so as to position this point at the center of the 28x28 field.  \\n\\nWith some classification methods (particularly template-based methods, such as SVM and K-nearest neighbors), the error rate improves when the digits are centered by bounding box rather than center of mass. If you do this kind of pre-processing, you should report it in your publications. The MNIST database was constructed from NIST's NIST originally designated SD-3 as their training set and SD-1 as their test set. However, SD-3 is much cleaner and easier to recognize than SD-1. The reason for this can be found on the fact that SD-3 was collected among Census Bureau employees, while SD-1 was collected among high-school students. Drawing sensible conclusions from learning experiments requires that the result be independent of the choice of training set and test among the complete set of samples. Therefore it was necessary to build a new database by mixing NIST's datasets.  \\n\\nThe MNIST training set is composed of 30,000 patterns from SD-3 and 30,000 patterns from SD-1. Our test set was composed of 5,000 patterns from SD-3 and 5,000 patterns from SD-1. The 60,000 pattern training set contained examples from approximately 250 writers. We made sure that the sets of writers of the training set and test set were disjoint. SD-1 contains 58,527 digit images written by 500 different writers. In contrast to SD-3, where blocks of data from each writer appeared in sequence, the data in SD-1 is scrambled. Writer identities for SD-1 is available and we used this information to unscramble the writers. We then split SD-1 in two: characters written by the first 250 writers went into our new training set. The remaining 250 writers were placed in our test set. Thus we had two sets with nearly 30,000 examples each. The new training set was completed with enough examples from SD-3, starting at pattern # 0, to make a full set of 60,000 training patterns. Similarly, the new test set was completed with SD-3 examples starting at pattern # 35,000 to make a full set with 60,000 test patterns. Only a subset of 10,000 test images (5,000 from SD-1 and 5,000 from SD-3) is available on this site. The full 60,000 sample training set is available.\\n\\nDownloaded from openml.org.\", 'details': {'id': '554', 'name': 'mnist_784', 'version': '1', 'format': 'ARFF', 'upload_date': '2014-09-29T03:28:38', 'licence': 'Public', 'url': 'https://www.openml.org/data/v1/download/52667/mnist_784.arff', 'file_id': '52667', 'default_target_attribute': 'class', 'tag': ['AzurePilot', 'OpenML-CC18', 'OpenML100', 'study_1', 'study_123', 'study_41', 'study_99', 'vision'], 'visibility': 'public', 'status': 'active', 'processing_date': '2018-10-03 21:23:30', 'md5_checksum': '0298d579eb1b86163de7723944c7e495'}, 'categories': {}, 'url': 'https://www.openml.org/d/554'}\n"
     ]
    }
   ],
   "source": [
    "mnist_raw = fetch_openml(data_id=554) # get CIFAR-10 data from OpenML\n",
    "print(mnist_raw)"
   ]
  },
  {
   "cell_type": "code",
   "execution_count": 3,
   "metadata": {},
   "outputs": [
    {
     "name": "stdout",
     "output_type": "stream",
     "text": [
      "dict_keys(['data', 'target', 'frame', 'feature_names', 'target_names', 'DESCR', 'details', 'categories', 'url'])\n"
     ]
    }
   ],
   "source": [
    "print(mnist_raw.keys())"
   ]
  },
  {
   "cell_type": "markdown",
   "metadata": {},
   "source": [
    "Data and target are clearly seperated which will make the proccess easier"
   ]
  },
  {
   "cell_type": "code",
   "execution_count": 4,
   "metadata": {},
   "outputs": [],
   "source": [
    "X_data = mnist_raw['data']\n",
    "Y_target = mnist_raw['target']"
   ]
  },
  {
   "cell_type": "markdown",
   "metadata": {},
   "source": [
    "X_data acts as our X with pixel intensities from 0 to 255 which are of 28 x 28 (784) images. Y_target acts as our y containing all labels from 0 - 9 mapping to X_data."
   ]
  },
  {
   "cell_type": "markdown",
   "metadata": {},
   "source": [
    "Y_target contains the integer values as strings as seen above. Let's convert it to integers"
   ]
  },
  {
   "cell_type": "code",
   "execution_count": 5,
   "metadata": {},
   "outputs": [
    {
     "data": {
      "text/plain": [
       "4"
      ]
     },
     "execution_count": 5,
     "metadata": {},
     "output_type": "execute_result"
    }
   ],
   "source": [
    "Y_target = Y_target.astype(np.uint8)\n",
    "Y_target[2]"
   ]
  },
  {
   "cell_type": "code",
   "execution_count": 6,
   "metadata": {},
   "outputs": [
    {
     "name": "stdout",
     "output_type": "stream",
     "text": [
      "5\n",
      "0\n",
      "4\n"
     ]
    },
    {
     "data": {
      "image/png": "[encoded data removed]",
      "text/plain": [
       "<Figure size 432x288 with 3 Axes>"
      ]
     },
     "metadata": {
      "needs_background": "light"
     },
     "output_type": "display_data"
    }
   ],
   "source": [
    "for i in range(0, 3):\n",
    "    digit = X_data[i] # represents first pixel number\n",
    "    digit_pixels = digit.reshape(28, 28) # reshape to 28 x 28 matrix\n",
    "    plt.subplot(131 + i) # subplot smaller than default\n",
    "    plt.imshow(digit_pixels) # takes array image\n",
    "    plt.axis('off')\n",
    "    print(Y_target[i])"
   ]
  },
  {
   "cell_type": "markdown",
   "metadata": {},
   "source": [
    "Split up Train and Test"
   ]
  },
  {
   "cell_type": "code",
   "execution_count": 7,
   "metadata": {},
   "outputs": [
    {
     "name": "stdout",
     "output_type": "stream",
     "text": [
      "Train Data:  [[0. 0. 0. ... 0. 0. 0.]\n",
      " [0. 0. 0. ... 0. 0. 0.]\n",
      " [0. 0. 0. ... 0. 0. 0.]\n",
      " ...\n",
      " [0. 0. 0. ... 0. 0. 0.]\n",
      " [0. 0. 0. ... 0. 0. 0.]\n",
      " [0. 0. 0. ... 0. 0. 0.]] \n",
      " Test Data: [[0. 0. 0. ... 0. 0. 0.]\n",
      " [0. 0. 0. ... 0. 0. 0.]\n",
      " [0. 0. 0. ... 0. 0. 0.]\n",
      " ...\n",
      " [0. 0. 0. ... 0. 0. 0.]\n",
      " [0. 0. 0. ... 0. 0. 0.]\n",
      " [0. 0. 0. ... 0. 0. 0.]] \n",
      " Train label:  [5 0 4 ... 5 6 8] \n",
      " Test Label:  [7 2 1 ... 4 5 6]\n"
     ]
    }
   ],
   "source": [
    "X_train, X_test, y_train, y_test = X_data[:60000], X_data[60000:], Y_target[:60000], Y_target[60000:]\n",
    "print('Train Data: ', X_train, '\\n', 'Test Data:', X_test, '\\n',\n",
    "     'Train label: ', y_train, '\\n', 'Test Label: ', y_test)"
   ]
  },
  {
   "cell_type": "code",
   "execution_count": 8,
   "metadata": {},
   "outputs": [],
   "source": [
    "# Baseline Random Forest\n",
    "rfc_model = RandomForestClassifier(n_estimators=100,\n",
    "                                    criterion='gini',\n",
    "                                    max_depth=None,\n",
    "                                    min_samples_split=2,\n",
    "                                    min_samples_leaf=1,\n",
    "                                    min_weight_fraction_leaf=0.0,\n",
    "                                    max_features='auto', max_leaf_nodes=None,\n",
    "                                    min_impurity_decrease=0.0,\n",
    "                                    min_impurity_split=None, bootstrap=True,\n",
    "                                    oob_score=False, n_jobs=None,\n",
    "                                    random_state=42, verbose=0,\n",
    "                                    warm_start=False,\n",
    "                                    class_weight=None,\n",
    "                                    ccp_alpha=0.0, max_samples=None\n",
    "                                   )"
   ]
  },
  {
   "cell_type": "code",
   "execution_count": 9,
   "metadata": {},
   "outputs": [
    {
     "data": {
      "text/plain": [
       "RandomForestClassifier(bootstrap=True, ccp_alpha=0.0, class_weight=None,\n",
       "                       criterion='gini', max_depth=None, max_features='auto',\n",
       "                       max_leaf_nodes=None, max_samples=None,\n",
       "                       min_impurity_decrease=0.0, min_impurity_split=None,\n",
       "                       min_samples_leaf=1, min_samples_split=2,\n",
       "                       min_weight_fraction_leaf=0.0, n_estimators=100,\n",
       "                       n_jobs=None, oob_score=False, random_state=42, verbose=0,\n",
       "                       warm_start=False)"
      ]
     },
     "execution_count": 9,
     "metadata": {},
     "output_type": "execute_result"
    }
   ],
   "source": [
    "# Fit Baseline rfc\n",
    "rfc_model.fit(X_train, y_train)"
   ]
  },
  {
   "cell_type": "code",
   "execution_count": 10,
   "metadata": {},
   "outputs": [
    {
     "data": {
      "text/plain": [
       "array([0.9646 , 0.96255, 0.9666 ])"
      ]
     },
     "execution_count": 10,
     "metadata": {},
     "output_type": "execute_result"
    }
   ],
   "source": [
    "# Check 3-fold Cross-Validation to see accuracy\n",
    "# Have to make sure that scoring is set to accuracy so we can compare to Logistic\n",
    "cross_val_score(rfc_model, X_train, y_train, cv=3, scoring='accuracy')\n",
    "\n"
   ]
  },
  {
   "cell_type": "markdown",
   "metadata": {},
   "source": [
    "3-Fold cross validation gets between 96-97% accuracy."
   ]
  },
  {
   "cell_type": "code",
   "execution_count": 61,
   "metadata": {},
   "outputs": [
    {
     "data": {
      "text/plain": [
       "array([0.96858333, 0.96558333, 0.96366667, 0.96233333, 0.97016667])"
      ]
     },
     "execution_count": 61,
     "metadata": {},
     "output_type": "execute_result"
    }
   ],
   "source": [
    "# Check 5-fold Cross-Validation to see accuracy\n",
    "cross_val_score(rfc_model, X_train, y_train, cv=5, scoring='accuracy')"
   ]
  },
  {
   "cell_type": "markdown",
   "metadata": {},
   "source": [
    "5-Fold cross validation also gets between 96-97% accuracy"
   ]
  },
  {
   "cell_type": "code",
   "execution_count": 63,
   "metadata": {},
   "outputs": [
    {
     "data": {
      "text/plain": [
       "0.9694"
      ]
     },
     "execution_count": 63,
     "metadata": {},
     "output_type": "execute_result"
    }
   ],
   "source": [
    "rfc_score = rfc_model.score(X_test, y_test)\n",
    "rfc_score"
   ]
  },
  {
   "cell_type": "markdown",
   "metadata": {},
   "source": [
    "The actual score of this model is 0.9694. "
   ]
  },
  {
   "cell_type": "markdown",
   "metadata": {},
   "source": [
    "Now we will use Cross Validation to get a rough estimate of good hyperparameters. Below are the current hyperparameters and we need to optimize them to get the highest possible accuracy."
   ]
  },
  {
   "cell_type": "code",
   "execution_count": 11,
   "metadata": {},
   "outputs": [
    {
     "name": "stdout",
     "output_type": "stream",
     "text": [
      "{'bootstrap': True,\n",
      " 'ccp_alpha': 0.0,\n",
      " 'class_weight': None,\n",
      " 'criterion': 'gini',\n",
      " 'max_depth': None,\n",
      " 'max_features': 'auto',\n",
      " 'max_leaf_nodes': None,\n",
      " 'max_samples': None,\n",
      " 'min_impurity_decrease': 0.0,\n",
      " 'min_impurity_split': None,\n",
      " 'min_samples_leaf': 1,\n",
      " 'min_samples_split': 2,\n",
      " 'min_weight_fraction_leaf': 0.0,\n",
      " 'n_estimators': 100,\n",
      " 'n_jobs': None,\n",
      " 'oob_score': False,\n",
      " 'random_state': 42,\n",
      " 'verbose': 0,\n",
      " 'warm_start': False}\n"
     ]
    }
   ],
   "source": [
    "pprint(rfc_model.get_params())"
   ]
  },
  {
   "cell_type": "markdown",
   "metadata": {},
   "source": [
    "For this section, we will use RandomizedSearchCV to randomly try different sets of hyperparameters at random to narrow down where the best ones are. This differs from usual Grid Search as that is more fine-tuned and does not try random hyperparameters. The included hyperparameters are the ones we found most impactful to the model's score."
   ]
  },
  {
   "cell_type": "code",
   "execution_count": 72,
   "metadata": {},
   "outputs": [
    {
     "name": "stdout",
     "output_type": "stream",
     "text": [
      "{'bootstrap': [True, False],\n",
      " 'max_depth': [10, 20, 30, 40, 50, 60, 70, 80, 90, 100, 110, None],\n",
      " 'max_features': ['auto', 'sqrt'],\n",
      " 'min_samples_leaf': [1, 2, 4],\n",
      " 'min_samples_split': [2, 5, 10],\n",
      " 'n_estimators': [200, 400, 600, 800, 1000, 1200, 1400, 1600, 1800, 2000]}\n"
     ]
    }
   ],
   "source": [
    "# Number of trees in random forest\n",
    "n_estimators = [int(x) for x in np.linspace(start = 200, stop = 2000, num = 10)]\n",
    "# Number of features to consider at every split\n",
    "max_features = ['auto', 'sqrt']\n",
    "# Maximum number of levels in tree\n",
    "max_depth = [int(x) for x in np.linspace(10, 110, num = 11)]\n",
    "max_depth.append(None)\n",
    "# Minimum number of samples required to split a node\n",
    "min_samples_split = [2, 5, 10]\n",
    "# Minimum number of samples required at each leaf node\n",
    "min_samples_leaf = [1, 2, 4]\n",
    "# Whether bootstrap samples are used when building trees\n",
    "# If False, the whole datset is used to build each tree\n",
    "bootstrap = [True, False]\n",
    "# Create the random grid\n",
    "random_grid = {'n_estimators': n_estimators,\n",
    "               'max_features': max_features,\n",
    "               'max_depth': max_depth,\n",
    "               'min_samples_split': min_samples_split,\n",
    "               'min_samples_leaf': min_samples_leaf,\n",
    "               'bootstrap': bootstrap}\n",
    "pprint(random_grid)"
   ]
  },
  {
   "cell_type": "code",
   "execution_count": 73,
   "metadata": {},
   "outputs": [],
   "source": [
    "# 5 Fold CV, Use all cores, 150 Combinations\n",
    "rf = RandomForestClassifier();\n",
    "rf_random = RandomizedSearchCV(estimator = rf,\n",
    "                               param_distributions = random_grid,\n",
    "                               n_iter = 40,\n",
    "                               cv = 3,\n",
    "                               verbose=2,\n",
    "                               random_state=42,\n",
    "                               n_jobs = -1)"
   ]
  },
  {
   "cell_type": "code",
   "execution_count": 74,
   "metadata": {},
   "outputs": [
    {
     "name": "stdout",
     "output_type": "stream",
     "text": [
      "Fitting 3 folds for each of 40 candidates, totalling 120 fits\n"
     ]
    },
    {
     "name": "stderr",
     "output_type": "stream",
     "text": [
      "[Parallel(n_jobs=-1)]: Using backend LokyBackend with 8 concurrent workers.\n",
      "[Parallel(n_jobs=-1)]: Done  25 tasks      | elapsed: 31.5min\n",
      "[Parallel(n_jobs=-1)]: Done 120 out of 120 | elapsed: 150.9min finished\n"
     ]
    },
    {
     "data": {
      "text/plain": [
       "RandomizedSearchCV(cv=3, error_score=nan,\n",
       "                   estimator=RandomForestClassifier(bootstrap=True,\n",
       "                                                    ccp_alpha=0.0,\n",
       "                                                    class_weight=None,\n",
       "                                                    criterion='gini',\n",
       "                                                    max_depth=None,\n",
       "                                                    max_features='auto',\n",
       "                                                    max_leaf_nodes=None,\n",
       "                                                    max_samples=None,\n",
       "                                                    min_impurity_decrease=0.0,\n",
       "                                                    min_impurity_split=None,\n",
       "                                                    min_samples_leaf=1,\n",
       "                                                    min_samples_split=2,\n",
       "                                                    min_weight_fraction_leaf=0.0,\n",
       "                                                    n_estimators=100,\n",
       "                                                    n_jobs...\n",
       "                   param_distributions={'bootstrap': [True, False],\n",
       "                                        'max_depth': [10, 20, 30, 40, 50, 60,\n",
       "                                                      70, 80, 90, 100, 110,\n",
       "                                                      None],\n",
       "                                        'max_features': ['auto', 'sqrt'],\n",
       "                                        'min_samples_leaf': [1, 2, 4],\n",
       "                                        'min_samples_split': [2, 5, 10],\n",
       "                                        'n_estimators': [200, 400, 600, 800,\n",
       "                                                         1000, 1200, 1400, 1600,\n",
       "                                                         1800, 2000]},\n",
       "                   pre_dispatch='2*n_jobs', random_state=42, refit=True,\n",
       "                   return_train_score=False, scoring=None, verbose=2)"
      ]
     },
     "execution_count": 74,
     "metadata": {},
     "output_type": "execute_result"
    }
   ],
   "source": [
    "rf_random.fit(X_train, y_train)"
   ]
  },
  {
   "cell_type": "code",
   "execution_count": 82,
   "metadata": {},
   "outputs": [
    {
     "data": {
      "text/plain": [
       "{'n_estimators': 1800,\n",
       " 'min_samples_split': 2,\n",
       " 'min_samples_leaf': 1,\n",
       " 'max_features': 'auto',\n",
       " 'max_depth': 50,\n",
       " 'bootstrap': False}"
      ]
     },
     "execution_count": 82,
     "metadata": {},
     "output_type": "execute_result"
    }
   ],
   "source": [
    "#Return best parameters from RandomSearchCV\n",
    "rf_random.best_params_"
   ]
  },
  {
   "cell_type": "code",
   "execution_count": 10,
   "metadata": {},
   "outputs": [],
   "source": [
    "#made this one to prevent re-running RSCV\n",
    "rfc_new = RandomForestClassifier(n_estimators= 1800,\n",
    "                                 min_samples_split= 2,\n",
    "                                 min_samples_leaf= 1,\n",
    "                                 max_features= 'auto',\n",
    "                                 max_depth= 50,\n",
    "                                 bootstrap= False)"
   ]
  },
  {
   "cell_type": "code",
   "execution_count": 11,
   "metadata": {},
   "outputs": [
    {
     "data": {
      "text/plain": [
       "RandomForestClassifier(bootstrap=False, ccp_alpha=0.0, class_weight=None,\n",
       "                       criterion='gini', max_depth=50, max_features='auto',\n",
       "                       max_leaf_nodes=None, max_samples=None,\n",
       "                       min_impurity_decrease=0.0, min_impurity_split=None,\n",
       "                       min_samples_leaf=1, min_samples_split=2,\n",
       "                       min_weight_fraction_leaf=0.0, n_estimators=1800,\n",
       "                       n_jobs=None, oob_score=False, random_state=None,\n",
       "                       verbose=0, warm_start=False)"
      ]
     },
     "execution_count": 11,
     "metadata": {},
     "output_type": "execute_result"
    }
   ],
   "source": [
    "rfc_new.fit(X_train, y_train)"
   ]
  },
  {
   "cell_type": "markdown",
   "metadata": {},
   "source": [
    "The above hyperparameters are the best from the RandomizedSearchCV."
   ]
  },
  {
   "cell_type": "code",
   "execution_count": 12,
   "metadata": {},
   "outputs": [
    {
     "name": "stdout",
     "output_type": "stream",
     "text": [
      "Improvement of 0.39%.\n"
     ]
    }
   ],
   "source": [
    "#Compare accuracy of tuned model vs base\n",
    "best_random_model = rfc_new\n",
    "random_score = best_random_model.score(X_test, y_test)\n",
    "base_score = rfc_model.score(X_test, y_test)\n",
    "print('Improvement of {:0.2f}%.'.format( 100 * (random_score - base_score) / base_score))"
   ]
  },
  {
   "cell_type": "code",
   "execution_count": 13,
   "metadata": {},
   "outputs": [
    {
     "name": "stdout",
     "output_type": "stream",
     "text": [
      "Tuned Score:\n",
      "0.9743\n"
     ]
    }
   ],
   "source": [
    "print(\"Tuned Score:\")\n",
    "print(random_score)"
   ]
  },
  {
   "cell_type": "code",
   "execution_count": 14,
   "metadata": {},
   "outputs": [
    {
     "name": "stdout",
     "output_type": "stream",
     "text": [
      "Base Score:\n",
      "0.9705\n"
     ]
    }
   ],
   "source": [
    "print(\"Base Score:\")\n",
    "print(base_score)"
   ]
  },
  {
   "cell_type": "code",
   "execution_count": null,
   "metadata": {},
   "outputs": [],
   "source": [
    "#Compare best model vs. logistic regression"
   ]
  },
  {
   "cell_type": "markdown",
   "metadata": {},
   "source": [
    "Now we will try Gradient Boosting to do the same thing: Get a base model, tune hyperparameters, compare tuned vs. base, compare best vs. RFC, compare best vs. logistic"
   ]
  },
  {
   "cell_type": "code",
   "execution_count": 25,
   "metadata": {},
   "outputs": [],
   "source": [
    "from xgboost.sklearn import XGBClassifier\n",
    "import scipy.stats as st\n",
    "\n",
    "one_to_left = st.beta(10, 1)  \n",
    "from_zero_positive = st.expon(0, 50)\n",
    "gb_model = XGBClassifier(\n",
    "    nthread=-1, #set to -1 to use all threads available\n",
    "    n_jobs=-1, #set to -1 to use all threads, could be same as nthread\n",
    "    seed=79, # random number seed\n",
    "    random_state=0, #leave at 0 for reproducible results. Can try others (0)\n",
    "    #set for GPU Hardware acceleration\n",
    "    gpu_id=0,\n",
    "    tree_method='gpu_hist'\n",
    "    )\n",
    "random_grid_gb = {  \n",
    "    \"n_estimators\": st.randint(3, 40),\n",
    "    \"max_depth\": st.randint(3, 40),\n",
    "    \"learning_rate\": st.uniform(0.05, 0.4),\n",
    "    \"colsample_bytree\": one_to_left,\n",
    "    \"subsample\": one_to_left,\n",
    "    \"gamma\": st.uniform(0, 10),\n",
    "    'reg_alpha': from_zero_positive,\n",
    "    \"min_child_weight\": from_zero_positive,\n",
    "}"
   ]
  },
  {
   "cell_type": "code",
   "execution_count": 18,
   "metadata": {},
   "outputs": [
    {
     "data": {
      "text/plain": [
       "XGBClassifier(base_score=0.5, booster=None, colsample_bylevel=1,\n",
       "              colsample_bynode=1, colsample_bytree=1, gamma=0, gpu_id=0,\n",
       "              importance_type='gain', interaction_constraints=None,\n",
       "              learning_rate=0.300000012, max_delta_step=0, max_depth=6,\n",
       "              min_child_weight=1, missing=nan, monotone_constraints=None,\n",
       "              n_estimators=100, n_jobs=-1, nthread=-1, num_parallel_tree=1,\n",
       "              objective='multi:softprob', random_state=0, reg_alpha=0,\n",
       "              reg_lambda=1, scale_pos_weight=None, seed=79, subsample=1,\n",
       "              tree_method='gpu_hist', validate_parameters=False,\n",
       "              verbosity=None)"
      ]
     },
     "execution_count": 18,
     "metadata": {},
     "output_type": "execute_result"
    }
   ],
   "source": [
    "gb_model.fit(X_train, y_train)"
   ]
  },
  {
   "cell_type": "code",
   "execution_count": 20,
   "metadata": {},
   "outputs": [
    {
     "data": {
      "text/plain": [
       "0.9795"
      ]
     },
     "execution_count": 20,
     "metadata": {},
     "output_type": "execute_result"
    }
   ],
   "source": [
    "gb_base_score = gb_model.score(X_test, y_test)\n",
    "gb_base_score"
   ]
  },
  {
   "cell_type": "code",
   "execution_count": 21,
   "metadata": {},
   "outputs": [
    {
     "data": {
      "text/plain": [
       "array([0.97555, 0.9716 , 0.97285])"
      ]
     },
     "execution_count": 21,
     "metadata": {},
     "output_type": "execute_result"
    }
   ],
   "source": [
    "cross_val_score(gb_model, X_train, y_train, cv=3, scoring='accuracy')"
   ]
  },
  {
   "cell_type": "markdown",
   "metadata": {},
   "source": [
    "The cross validation score (3 fold) ranges from 97 - 98 % accurate and the actual model scores 0.9795 on the test data."
   ]
  },
  {
   "cell_type": "code",
   "execution_count": null,
   "metadata": {},
   "outputs": [],
   "source": [
    "gb_random = RandomizedSearchCV(estimator = XGBClassifier(),\n",
    "                               param_distributions = random_grid_gb,\n",
    "                               n_iter = 20,\n",
    "                               cv = 2,\n",
    "                               verbose=2,\n",
    "                               random_state=42,\n",
    "                               n_jobs = 1)"
   ]
  },
  {
   "cell_type": "code",
   "execution_count": null,
   "metadata": {},
   "outputs": [],
   "source": [
    "#find best one by fitting each random set of hp\n",
    "# gb_random.fit(X_train, y_train)"
   ]
  },
  {
   "cell_type": "code",
   "execution_count": null,
   "metadata": {},
   "outputs": [],
   "source": [
    "#Return best parameters from RandomSearchCV\n",
    "gb_random.best_params_"
   ]
  },
  {
   "cell_type": "code",
   "execution_count": null,
   "metadata": {},
   "outputs": [],
   "source": [
    "#Compare accuracy of tuned model vs base\n",
    "best_random_model_gb = gb_random.best_estimator_\n",
    "gb_random_score = best_random_model_gb.score(X_test, y_test)\n",
    "print('Improvement of {:0.2f}%.'.format( 100 * (gb_random_score - gb_base_score) / gb_base_score))"
   ]
  },
  {
   "cell_type": "code",
   "execution_count": null,
   "metadata": {},
   "outputs": [],
   "source": [
    "#Compre accuracy of tuned vs. RFC\n",
    "print('Improvement of {:0.2f}%.'.format( 100 * (gb_random_score - random_score) / random_score))"
   ]
  },
  {
   "cell_type": "code",
   "execution_count": null,
   "metadata": {},
   "outputs": [],
   "source": [
    "#Compare accuracy of tuned vs. Logistic"
   ]
  },
  {
   "cell_type": "markdown",
   "metadata": {
    "colab_type": "text",
    "id": "hTU2hbeDeLJ7"
   },
   "source": [
    "# **Problem** **4**"
   ]
  },
  {
   "cell_type": "markdown",
   "metadata": {
    "colab_type": "text",
    "id": "kb-94duQeLJ8"
   },
   "source": [
    "# **Problem** **5**"
   ]
  },
  {
   "cell_type": "markdown",
   "metadata": {
    "colab_type": "text",
    "id": "K80p__opeLJ8"
   },
   "source": [
    "**Pytorch Tutorial**"
   ]
  },
  {
   "cell_type": "code",
   "execution_count": 0,
   "metadata": {
    "colab": {},
    "colab_type": "code",
    "id": "NUKdzsLEeLJ9"
   },
   "outputs": [],
   "source": [
    "from __future__ import print_function\n",
    "import torch"
   ]
  },
  {
   "cell_type": "code",
   "execution_count": 0,
   "metadata": {
    "colab": {
     "base_uri": "https://localhost:8080/",
     "height": 102
    },
    "colab_type": "code",
    "id": "P6AVk57QeLKA",
    "outputId": "25737609-d2d5-4f23-91e3-104233daed1c"
   },
   "outputs": [
    {
     "name": "stdout",
     "output_type": "stream",
     "text": [
      "tensor([[-1.5552e-01,  0.0000e+00,  4.4842e-44],\n",
      "        [ 0.0000e+00,         nan,  0.0000e+00],\n",
      "        [ 2.6251e-09,  1.3733e-05,  4.2011e-05],\n",
      "        [ 4.2491e-05,  3.3429e+21,  5.3934e-05],\n",
      "        [ 2.1782e-04,  1.6838e+22,  0.0000e+00]])\n"
     ]
    }
   ],
   "source": [
    "x = torch.empty(5, 3)\n",
    "print(x)"
   ]
  },
  {
   "cell_type": "code",
   "execution_count": 0,
   "metadata": {
    "colab": {
     "base_uri": "https://localhost:8080/",
     "height": 102
    },
    "colab_type": "code",
    "id": "sxKULeOReLKD",
    "outputId": "f2579b51-439e-4f6e-d49b-3ca4f6c25bfb"
   },
   "outputs": [
    {
     "name": "stdout",
     "output_type": "stream",
     "text": [
      "tensor([[0.1194, 0.3407, 0.5182],\n",
      "        [0.7104, 0.6167, 0.9554],\n",
      "        [0.4909, 0.9780, 0.0206],\n",
      "        [0.0160, 0.3529, 0.6266],\n",
      "        [0.2853, 0.6049, 0.2395]])\n"
     ]
    }
   ],
   "source": [
    "x = torch.rand(5, 3)\n",
    "print(x)"
   ]
  },
  {
   "cell_type": "code",
   "execution_count": 0,
   "metadata": {
    "colab": {
     "base_uri": "https://localhost:8080/",
     "height": 102
    },
    "colab_type": "code",
    "id": "zZOgnyWDeLKG",
    "outputId": "69339b1d-50da-49b5-c66c-1ac00f690118"
   },
   "outputs": [
    {
     "name": "stdout",
     "output_type": "stream",
     "text": [
      "tensor([[0, 0, 0],\n",
      "        [0, 0, 0],\n",
      "        [0, 0, 0],\n",
      "        [0, 0, 0],\n",
      "        [0, 0, 0]])\n"
     ]
    }
   ],
   "source": [
    "x = torch.zeros(5, 3, dtype=torch.long)\n",
    "print(x)"
   ]
  },
  {
   "cell_type": "code",
   "execution_count": 0,
   "metadata": {
    "colab": {
     "base_uri": "https://localhost:8080/",
     "height": 34
    },
    "colab_type": "code",
    "id": "XyYMp2byeLKI",
    "outputId": "9bfabc0e-33c8-4903-f122-bde2c61776dc"
   },
   "outputs": [
    {
     "name": "stdout",
     "output_type": "stream",
     "text": [
      "tensor([5.5000, 3.0000])\n"
     ]
    }
   ],
   "source": [
    "x = torch.tensor([5.5, 3])\n",
    "print(x)"
   ]
  },
  {
   "cell_type": "code",
   "execution_count": 0,
   "metadata": {
    "colab": {
     "base_uri": "https://localhost:8080/",
     "height": 187
    },
    "colab_type": "code",
    "id": "aaEnhK2PeLKL",
    "outputId": "3e133e06-63a6-49d9-cbfc-b4af4d85e160"
   },
   "outputs": [
    {
     "name": "stdout",
     "output_type": "stream",
     "text": [
      "tensor([[1., 1., 1.],\n",
      "        [1., 1., 1.],\n",
      "        [1., 1., 1.],\n",
      "        [1., 1., 1.],\n",
      "        [1., 1., 1.]], dtype=torch.float64)\n",
      "tensor([[-0.2334,  1.1119,  0.0848],\n",
      "        [ 1.0386, -0.6702,  1.5898],\n",
      "        [-1.5128, -0.1279,  1.9291],\n",
      "        [ 1.5583,  0.4790, -0.3507],\n",
      "        [-0.4396,  0.8310, -0.1686]])\n"
     ]
    }
   ],
   "source": [
    "x = x.new_ones(5, 3, dtype=torch.double)\n",
    "print(x)\n",
    "\n",
    "x = torch.randn_like(x, dtype=torch.float)\n",
    "print(x)"
   ]
  },
  {
   "cell_type": "code",
   "execution_count": 0,
   "metadata": {
    "colab": {
     "base_uri": "https://localhost:8080/",
     "height": 34
    },
    "colab_type": "code",
    "id": "SI1F6ZaBeLKN",
    "outputId": "8d89096b-8fdc-4899-acf1-bf80ae09365c"
   },
   "outputs": [
    {
     "name": "stdout",
     "output_type": "stream",
     "text": [
      "torch.Size([5, 3])\n"
     ]
    }
   ],
   "source": [
    "print(x.size())"
   ]
  },
  {
   "cell_type": "code",
   "execution_count": 0,
   "metadata": {
    "colab": {
     "base_uri": "https://localhost:8080/",
     "height": 102
    },
    "colab_type": "code",
    "id": "mY3jrEtTeLKR",
    "outputId": "04b25187-834d-42d4-f753-ac6ba39f0860"
   },
   "outputs": [
    {
     "name": "stdout",
     "output_type": "stream",
     "text": [
      "tensor([[-0.2058,  1.3123,  1.0061],\n",
      "        [ 1.8051, -0.1640,  1.9518],\n",
      "        [-0.6625,  0.3585,  2.2083],\n",
      "        [ 2.5186,  1.4590, -0.0456],\n",
      "        [-0.0410,  1.4877,  0.7460]])\n"
     ]
    }
   ],
   "source": [
    "y = torch.rand(5, 3)\n",
    "print(x + y)"
   ]
  },
  {
   "cell_type": "code",
   "execution_count": 0,
   "metadata": {
    "colab": {
     "base_uri": "https://localhost:8080/",
     "height": 102
    },
    "colab_type": "code",
    "id": "br5CfpcaeLKT",
    "outputId": "e0c2075c-cb8e-49e4-8092-7525ccc52147"
   },
   "outputs": [
    {
     "name": "stdout",
     "output_type": "stream",
     "text": [
      "tensor([[-0.2058,  1.3123,  1.0061],\n",
      "        [ 1.8051, -0.1640,  1.9518],\n",
      "        [-0.6625,  0.3585,  2.2083],\n",
      "        [ 2.5186,  1.4590, -0.0456],\n",
      "        [-0.0410,  1.4877,  0.7460]])\n"
     ]
    }
   ],
   "source": [
    "print(torch.add(x, y))"
   ]
  },
  {
   "cell_type": "code",
   "execution_count": 0,
   "metadata": {
    "colab": {
     "base_uri": "https://localhost:8080/",
     "height": 102
    },
    "colab_type": "code",
    "id": "gpcdNRUteLKV",
    "outputId": "953cf91a-ba13-4f6f-a582-53ac9f6391ed"
   },
   "outputs": [
    {
     "name": "stdout",
     "output_type": "stream",
     "text": [
      "tensor([[-0.2058,  1.3123,  1.0061],\n",
      "        [ 1.8051, -0.1640,  1.9518],\n",
      "        [-0.6625,  0.3585,  2.2083],\n",
      "        [ 2.5186,  1.4590, -0.0456],\n",
      "        [-0.0410,  1.4877,  0.7460]])\n"
     ]
    }
   ],
   "source": [
    "result = torch.empty(5, 3)\n",
    "torch.add(x, y, out=result)\n",
    "print(result)"
   ]
  },
  {
   "cell_type": "code",
   "execution_count": 0,
   "metadata": {
    "colab": {
     "base_uri": "https://localhost:8080/",
     "height": 102
    },
    "colab_type": "code",
    "id": "Exa6c7foeLKY",
    "outputId": "85a366e9-8750-4c74-b2dd-4e3ad8b8bb21"
   },
   "outputs": [
    {
     "name": "stdout",
     "output_type": "stream",
     "text": [
      "tensor([[-0.2058,  1.3123,  1.0061],\n",
      "        [ 1.8051, -0.1640,  1.9518],\n",
      "        [-0.6625,  0.3585,  2.2083],\n",
      "        [ 2.5186,  1.4590, -0.0456],\n",
      "        [-0.0410,  1.4877,  0.7460]])\n"
     ]
    }
   ],
   "source": [
    "y.add_(x)\n",
    "print(y)"
   ]
  },
  {
   "cell_type": "code",
   "execution_count": 0,
   "metadata": {
    "colab": {
     "base_uri": "https://localhost:8080/",
     "height": 34
    },
    "colab_type": "code",
    "id": "NznIEcAqeLKa",
    "outputId": "45377a2e-0991-4e3f-e8a9-f2b33034bc7c"
   },
   "outputs": [
    {
     "name": "stdout",
     "output_type": "stream",
     "text": [
      "tensor([ 1.1119, -0.6702, -0.1279,  0.4790,  0.8310])\n"
     ]
    }
   ],
   "source": [
    "print(x[:,1])"
   ]
  },
  {
   "cell_type": "code",
   "execution_count": 0,
   "metadata": {
    "colab": {
     "base_uri": "https://localhost:8080/",
     "height": 34
    },
    "colab_type": "code",
    "id": "EM4WgSeSeLKc",
    "outputId": "e78b9b27-6dbf-48cd-850e-51a734de7e59"
   },
   "outputs": [
    {
     "name": "stdout",
     "output_type": "stream",
     "text": [
      "torch.Size([4, 4]) torch.Size([16]) torch.Size([2, 8])\n"
     ]
    }
   ],
   "source": [
    "x = torch.randn(4, 4)\n",
    "y = x.view(16)\n",
    "z = x.view(-1, 8)\n",
    "print(x.size(), y.size(), z.size())"
   ]
  },
  {
   "cell_type": "code",
   "execution_count": 0,
   "metadata": {
    "colab": {
     "base_uri": "https://localhost:8080/",
     "height": 51
    },
    "colab_type": "code",
    "id": "QmgbGA-geLKf",
    "outputId": "f1c700f1-4c8e-4b94-f5c2-b83cb17772f3"
   },
   "outputs": [
    {
     "name": "stdout",
     "output_type": "stream",
     "text": [
      "tensor([0.7712])\n",
      "0.7711711525917053\n"
     ]
    }
   ],
   "source": [
    "x = torch.randn(1)\n",
    "print(x)\n",
    "print(x.item())"
   ]
  },
  {
   "cell_type": "code",
   "execution_count": 0,
   "metadata": {
    "colab": {
     "base_uri": "https://localhost:8080/",
     "height": 34
    },
    "colab_type": "code",
    "id": "xuXW0pUOeLKh",
    "outputId": "cfeb3150-9c23-4a0e-a16a-b378a181644e"
   },
   "outputs": [
    {
     "name": "stdout",
     "output_type": "stream",
     "text": [
      "tensor([1., 1., 1., 1., 1.])\n"
     ]
    }
   ],
   "source": [
    "a = torch.ones(5)\n",
    "print(a)"
   ]
  },
  {
   "cell_type": "code",
   "execution_count": 0,
   "metadata": {
    "colab": {
     "base_uri": "https://localhost:8080/",
     "height": 34
    },
    "colab_type": "code",
    "id": "BwjZ_CD0eLKk",
    "outputId": "5d823317-a849-4c1e-ff9d-0f4572a54acc"
   },
   "outputs": [
    {
     "name": "stdout",
     "output_type": "stream",
     "text": [
      "[1. 1. 1. 1. 1.]\n"
     ]
    }
   ],
   "source": [
    "b = a.numpy()\n",
    "print(b)"
   ]
  },
  {
   "cell_type": "code",
   "execution_count": 0,
   "metadata": {
    "colab": {
     "base_uri": "https://localhost:8080/",
     "height": 51
    },
    "colab_type": "code",
    "id": "Ml0DKAL7eLKm",
    "outputId": "ac5e1041-a772-4b6e-e2f9-528cc38cf92e"
   },
   "outputs": [
    {
     "name": "stdout",
     "output_type": "stream",
     "text": [
      "tensor([2., 2., 2., 2., 2.])\n",
      "[2. 2. 2. 2. 2.]\n"
     ]
    }
   ],
   "source": [
    "a.add_(1)\n",
    "print(a)\n",
    "print(b)"
   ]
  },
  {
   "cell_type": "code",
   "execution_count": 0,
   "metadata": {
    "colab": {
     "base_uri": "https://localhost:8080/",
     "height": 51
    },
    "colab_type": "code",
    "id": "5JVcOWCAeLKo",
    "outputId": "7c38b189-4107-4f1c-c77b-a524d119a6ee"
   },
   "outputs": [
    {
     "name": "stdout",
     "output_type": "stream",
     "text": [
      "[2. 2. 2. 2. 2.]\n",
      "tensor([2., 2., 2., 2., 2.], dtype=torch.float64)\n"
     ]
    }
   ],
   "source": [
    "import numpy as np\n",
    "a = np.ones(5)\n",
    "b = torch.from_numpy(a)\n",
    "np.add(a, 1, out=a)\n",
    "print(a)\n",
    "print(b)"
   ]
  },
  {
   "cell_type": "code",
   "execution_count": 0,
   "metadata": {
    "colab": {
     "base_uri": "https://localhost:8080/",
     "height": 51
    },
    "colab_type": "code",
    "id": "v0OUNN5seLKq",
    "outputId": "e7c02339-25eb-437c-fe56-e8a312436195"
   },
   "outputs": [
    {
     "name": "stdout",
     "output_type": "stream",
     "text": [
      "tensor([1.7712], device='cuda:0')\n",
      "tensor([1.7712], dtype=torch.float64)\n"
     ]
    }
   ],
   "source": [
    "if torch.cuda.is_available():\n",
    "    device = torch.device(\"cuda\")\n",
    "    y = torch.ones_like(x, device=device)\n",
    "    x = x.to(device)\n",
    "    z = x + y\n",
    "    print(z)\n",
    "    print(z.to(\"cpu\", torch.double))"
   ]
  },
  {
   "cell_type": "markdown",
   "metadata": {
    "colab_type": "text",
    "id": "Q8OObUTreLKs"
   },
   "source": [
    "**MNIST Tutorial**"
   ]
  },
  {
   "cell_type": "code",
   "execution_count": 0,
   "metadata": {
    "colab": {},
    "colab_type": "code",
    "id": "fWTdHo7weLKs"
   },
   "outputs": [],
   "source": [
    "from pathlib import Path\n",
    "import requests\n",
    "\n",
    "DATA_PATH = Path(\"data\")\n",
    "PATH = DATA_PATH / \"mnist\"\n",
    "\n",
    "PATH.mkdir(parents=True, exist_ok=True)\n",
    "\n",
    "URL = \"http://deeplearning.net/data/mnist/\"\n",
    "FILENAME = \"mnist.pkl.gz\"\n",
    "\n",
    "if not(PATH / FILENAME).exists():\n",
    "  content = requests.get(URL + FILENAME).content\n",
    "  (PATH / FILENAME).open(\"wb\").write(content)"
   ]
  },
  {
   "cell_type": "code",
   "execution_count": 0,
   "metadata": {
    "colab": {},
    "colab_type": "code",
    "id": "hP4XAASaeLKu"
   },
   "outputs": [],
   "source": [
    "import pickle\n",
    "import gzip\n",
    "\n",
    "with gzip.open((PATH / FILENAME).as_posix(), \"rb\") as f:\n",
    "  ((x_train, y_train), (x_valid, y_valid), _) = pickle.load(f, encoding=\"latin-1\")"
   ]
  },
  {
   "cell_type": "code",
   "execution_count": 0,
   "metadata": {
    "colab": {
     "base_uri": "https://localhost:8080/",
     "height": 282
    },
    "colab_type": "code",
    "id": "e0bsibCMeLKx",
    "outputId": "eed2b997-0f10-42b5-ac33-1a36461d9241"
   },
   "outputs": [
    {
     "name": "stdout",
     "output_type": "stream",
     "text": [
      "(50000, 784)\n"
     ]
    },
    {
     "data": {
      "image/png": "[encoded data removed]",
      "text/plain": [
       "<Figure size 432x288 with 1 Axes>"
      ]
     },
     "metadata": {
      "tags": []
     },
     "output_type": "display_data"
    }
   ],
   "source": [
    "from matplotlib import pyplot\n",
    "import numpy as np\n",
    "\n",
    "pyplot.imshow(x_train[0].reshape((28, 28)), cmap=\"gray\")\n",
    "print(x_train.shape)"
   ]
  },
  {
   "cell_type": "code",
   "execution_count": 0,
   "metadata": {
    "colab": {},
    "colab_type": "code",
    "id": "n4XFAj1Hf_Iq"
   },
   "outputs": [],
   "source": [
    "import math\n",
    "\n",
    "weights = torch.randn(784, 10) / math.sqrt(784)\n",
    "weights.requires_grad_()\n",
    "bias = torch.zeros(10, requires_grad=True)"
   ]
  },
  {
   "cell_type": "code",
   "execution_count": 0,
   "metadata": {
    "colab": {},
    "colab_type": "code",
    "id": "KAql2PJAf_Pm"
   },
   "outputs": [],
   "source": [
    "def log_softmax(x):\n",
    "  return x - x.exp().sum(-1).log().unsqueeze(-1)\n",
    "\n",
    "def model(xb):\n",
    "  return log_softmax(xb @ weights + bias)"
   ]
  },
  {
   "cell_type": "code",
   "execution_count": 0,
   "metadata": {
    "colab": {
     "base_uri": "https://localhost:8080/",
     "height": 51
    },
    "colab_type": "code",
    "id": "ft2HTkC5f_TB",
    "outputId": "b6b29f02-d01f-47aa-e63e-a5ff496b091b"
   },
   "outputs": [
    {
     "name": "stdout",
     "output_type": "stream",
     "text": [
      "tensor([-2.2112, -2.7084, -2.5220, -2.3708, -2.3598, -1.8463, -2.6530, -2.1883,\n",
      "        -2.1134, -2.3597], grad_fn=<SelectBackward>) torch.Size([64, 10])\n"
     ]
    }
   ],
   "source": [
    "bs = 64 # batch size\n",
    "\n",
    "xb = x_train[0:bs] # a mini batch from x\n",
    "preds = model(xb) # predictions\n",
    "preds[0], preds.shape\n",
    "print(preds[0], preds.shape)"
   ]
  },
  {
   "cell_type": "code",
   "execution_count": 0,
   "metadata": {
    "colab": {},
    "colab_type": "code",
    "id": "I3BgdrqNf_V0"
   },
   "outputs": [],
   "source": [
    "def nll(input, target):\n",
    "  return -input[range(target.shape[0]), target].mean()\n",
    "\n",
    "loss_func = nll"
   ]
  },
  {
   "cell_type": "code",
   "execution_count": 0,
   "metadata": {
    "colab": {
     "base_uri": "https://localhost:8080/",
     "height": 34
    },
    "colab_type": "code",
    "id": "E_QOdUg4f_b1",
    "outputId": "3217da93-fa05-4eca-aca3-81e7cf2d0bcf"
   },
   "outputs": [
    {
     "name": "stdout",
     "output_type": "stream",
     "text": [
      "tensor(2.3629, grad_fn=<NegBackward>)\n"
     ]
    }
   ],
   "source": [
    "yb = y_train[0:bs]\n",
    "print(loss_func(preds, yb))"
   ]
  },
  {
   "cell_type": "code",
   "execution_count": 0,
   "metadata": {
    "colab": {},
    "colab_type": "code",
    "id": "bRumCc4Bf_eR"
   },
   "outputs": [],
   "source": [
    "def accuracy(out, yb):\n",
    "  preds = torch.argmax(out, dim=1)\n",
    "  return(preds == yb).float().mean()"
   ]
  },
  {
   "cell_type": "code",
   "execution_count": 0,
   "metadata": {
    "colab": {
     "base_uri": "https://localhost:8080/",
     "height": 34
    },
    "colab_type": "code",
    "id": "ksvPk9kgf_gi",
    "outputId": "0e36b2b1-8b3c-4a0d-b2eb-8fd877bff6e2"
   },
   "outputs": [
    {
     "name": "stdout",
     "output_type": "stream",
     "text": [
      "tensor(0.0312)\n"
     ]
    }
   ],
   "source": [
    "print(accuracy(preds, yb))"
   ]
  },
  {
   "cell_type": "code",
   "execution_count": 0,
   "metadata": {
    "colab": {},
    "colab_type": "code",
    "id": "IF4YMH48f_ik"
   },
   "outputs": [],
   "source": [
    "from IPython.core.debugger import set_trace\n",
    "\n",
    "lr = 0.5 # learning rate\n",
    "epochs = 2 # how many epochs to train for\n",
    "\n",
    "for epoc in range(epochs):\n",
    "  for i in range((n - 1) // bs + 1):\n",
    "    # set_trace() # uncomment this to try out debugger\n",
    "    start_i = i * bs\n",
    "    end_i = start_i + bs\n",
    "    xb = x_train[start_i:end_i]\n",
    "    yb = y_train[start_i:end_i]\n",
    "    pred = model(xb)\n",
    "    loss = loss_func(pred, yb)\n",
    "\n",
    "    loss.backward()\n",
    "    with torch.no_grad():\n",
    "      weights -= weights.grad * lr\n",
    "      bias -= bias.grad * lr\n",
    "      weights.grad.zero_()\n",
    "      bias.grad.zero_()"
   ]
  },
  {
   "cell_type": "code",
   "execution_count": 0,
   "metadata": {
    "colab": {
     "base_uri": "https://localhost:8080/",
     "height": 34
    },
    "colab_type": "code",
    "id": "qAynPPmSf_kY",
    "outputId": "9afd606b-c8c4-4aa0-c019-6ad6740e862e"
   },
   "outputs": [
    {
     "name": "stdout",
     "output_type": "stream",
     "text": [
      "tensor(0.0809, grad_fn=<NegBackward>) tensor(1.)\n"
     ]
    }
   ],
   "source": [
    "print(loss_func(model(xb), yb), accuracy(model(xb), yb))"
   ]
  },
  {
   "cell_type": "code",
   "execution_count": 0,
   "metadata": {
    "colab": {},
    "colab_type": "code",
    "id": "dIemroNQrf05"
   },
   "outputs": [],
   "source": [
    "import torch.nn.functional as F\n",
    "\n",
    "loss_func = F.cross_entropy\n",
    "\n",
    "def model(xb):\n",
    "  return xb @ weights + bias"
   ]
  },
  {
   "cell_type": "code",
   "execution_count": 0,
   "metadata": {
    "colab": {
     "base_uri": "https://localhost:8080/",
     "height": 34
    },
    "colab_type": "code",
    "id": "uaKk3aT6rf9x",
    "outputId": "d2f84d36-8a18-4fad-a08a-d6cc176d149c"
   },
   "outputs": [
    {
     "name": "stdout",
     "output_type": "stream",
     "text": [
      "tensor(0.0809, grad_fn=<NllLossBackward>) tensor(1.)\n"
     ]
    }
   ],
   "source": [
    "print(loss_func(model(xb), yb), accuracy(model(xb), yb))"
   ]
  },
  {
   "cell_type": "code",
   "execution_count": 0,
   "metadata": {
    "colab": {},
    "colab_type": "code",
    "id": "epogJwIurgAy"
   },
   "outputs": [],
   "source": [
    "from torch import nn\n",
    "\n",
    "class Mnist_Logistic(nn.Module):\n",
    "    def __init__(self):\n",
    "        super().__init__()\n",
    "        self.weights = nn.Parameter(torch.randn(784, 10) / math.sqrt(784))\n",
    "        self.bias = nn.Parameter(torch.zeros(10))\n",
    "\n",
    "    def forward(self, xb):\n",
    "        return xb @ self.weights + self.bias"
   ]
  },
  {
   "cell_type": "code",
   "execution_count": 0,
   "metadata": {
    "colab": {},
    "colab_type": "code",
    "id": "-00MTl3rrgDd"
   },
   "outputs": [],
   "source": [
    "model = Mnist_Logistic()"
   ]
  },
  {
   "cell_type": "code",
   "execution_count": 0,
   "metadata": {
    "colab": {
     "base_uri": "https://localhost:8080/",
     "height": 34
    },
    "colab_type": "code",
    "id": "VHg9ODrmrgGH",
    "outputId": "484ee09e-a8e5-4ea9-dc7b-c586a2c28206"
   },
   "outputs": [
    {
     "name": "stdout",
     "output_type": "stream",
     "text": [
      "tensor(2.4052, grad_fn=<NllLossBackward>)\n"
     ]
    }
   ],
   "source": [
    "print(loss_func(model(xb), yb))\n"
   ]
  },
  {
   "cell_type": "code",
   "execution_count": 0,
   "metadata": {
    "colab": {
     "base_uri": "https://localhost:8080/",
     "height": 198
    },
    "colab_type": "code",
    "id": "cOvGA0sRrgIH",
    "outputId": "a1207a84-4753-41fd-ad4f-b813dbd57cf5"
   },
   "outputs": [
    {
     "ename": "TypeError",
     "evalue": "ignored",
     "output_type": "error",
     "traceback": [
      "\u001b[0;31m---------------------------------------------------------------------------\u001b[0m",
      "\u001b[0;31mTypeError\u001b[0m                                 Traceback (most recent call last)",
      "\u001b[0;32m<ipython-input-136-ade642173198>\u001b[0m in \u001b[0;36m<module>\u001b[0;34m()\u001b[0m\n\u001b[1;32m      1\u001b[0m \u001b[0;32mwith\u001b[0m \u001b[0mtorch\u001b[0m\u001b[0;34m.\u001b[0m\u001b[0mno_grad\u001b[0m\u001b[0;34m(\u001b[0m\u001b[0;34m)\u001b[0m\u001b[0;34m:\u001b[0m\u001b[0;34m\u001b[0m\u001b[0;34m\u001b[0m\u001b[0m\n\u001b[0;32m----> 2\u001b[0;31m     \u001b[0;32mfor\u001b[0m \u001b[0mp\u001b[0m \u001b[0;32min\u001b[0m \u001b[0mmodel\u001b[0m\u001b[0;34m.\u001b[0m\u001b[0mparameters\u001b[0m\u001b[0;34m(\u001b[0m\u001b[0;34m)\u001b[0m\u001b[0;34m:\u001b[0m \u001b[0mp\u001b[0m \u001b[0;34m-=\u001b[0m \u001b[0mp\u001b[0m\u001b[0;34m.\u001b[0m\u001b[0mgrad\u001b[0m \u001b[0;34m*\u001b[0m \u001b[0mlr\u001b[0m\u001b[0;34m\u001b[0m\u001b[0;34m\u001b[0m\u001b[0m\n\u001b[0m\u001b[1;32m      3\u001b[0m     \u001b[0mmodel\u001b[0m\u001b[0;34m.\u001b[0m\u001b[0mzero_grad\u001b[0m\u001b[0;34m(\u001b[0m\u001b[0;34m)\u001b[0m\u001b[0;34m\u001b[0m\u001b[0;34m\u001b[0m\u001b[0m\n",
      "\u001b[0;31mTypeError\u001b[0m: unsupported operand type(s) for *: 'NoneType' and 'float'"
     ]
    }
   ],
   "source": [
    "with torch.no_grad():\n",
    "    for p in model.parameters(): p -= p.grad * lr\n",
    "    model.zero_grad()"
   ]
  },
  {
   "cell_type": "code",
   "execution_count": 0,
   "metadata": {
    "colab": {},
    "colab_type": "code",
    "id": "_uVHPKaqrgKP"
   },
   "outputs": [],
   "source": [
    "def fit():\n",
    "  for epoch in range(epochs):\n",
    "    for i in range((n - 1) // bs + 1):\n",
    "      start_i = i * bs\n",
    "      end_i = start_i + bs\n",
    "      xb = x_train[start_i: end_i]\n",
    "      yb = y_train[start_i: end_i]\n",
    "      pred = model(xb)\n",
    "      loss = loss_func(pred, yb)\n",
    "\n",
    "      loss.backward()\n",
    "      with torch.no_grad():\n",
    "        for p in model.parameters():\n",
    "          p -= p.grad * lr\n",
    "        model.zero_grad()\n",
    "fit()"
   ]
  },
  {
   "cell_type": "code",
   "execution_count": 0,
   "metadata": {
    "colab": {
     "base_uri": "https://localhost:8080/",
     "height": 34
    },
    "colab_type": "code",
    "id": "8z_ha8RUrgMw",
    "outputId": "f53dd27a-99a7-401b-a5d4-8fa933a2b92c"
   },
   "outputs": [
    {
     "name": "stdout",
     "output_type": "stream",
     "text": [
      "tensor(0.0816, grad_fn=<NllLossBackward>)\n"
     ]
    }
   ],
   "source": [
    "print(loss_func(model(xb), yb))"
   ]
  },
  {
   "cell_type": "code",
   "execution_count": 0,
   "metadata": {
    "colab": {},
    "colab_type": "code",
    "id": "lqjbGTcTrgO0"
   },
   "outputs": [],
   "source": [
    "class Mnist_Logistic(nn.Module):\n",
    "    def __init__(self):\n",
    "        super().__init__()\n",
    "        self.lin = nn.Linear(784, 10)\n",
    "\n",
    "    def forward(self, xb):\n",
    "        return self.lin(xb)"
   ]
  },
  {
   "cell_type": "code",
   "execution_count": 0,
   "metadata": {
    "colab": {
     "base_uri": "https://localhost:8080/",
     "height": 34
    },
    "colab_type": "code",
    "id": "p2-SMX53rgRA",
    "outputId": "1e27ede5-78b6-4839-c5e0-dcdb1d458eb1"
   },
   "outputs": [
    {
     "name": "stdout",
     "output_type": "stream",
     "text": [
      "tensor(2.3486, grad_fn=<NllLossBackward>)\n"
     ]
    }
   ],
   "source": [
    "model = Mnist_Logistic()\n",
    "print(loss_func(model(xb), yb))"
   ]
  },
  {
   "cell_type": "code",
   "execution_count": 0,
   "metadata": {
    "colab": {
     "base_uri": "https://localhost:8080/",
     "height": 34
    },
    "colab_type": "code",
    "id": "5ED_PwTyrgTV",
    "outputId": "bb611056-767e-4b71-af2b-b7f6812db562"
   },
   "outputs": [
    {
     "name": "stdout",
     "output_type": "stream",
     "text": [
      "tensor(0.0808, grad_fn=<NllLossBackward>)\n"
     ]
    }
   ],
   "source": [
    "fit()\n",
    "print(loss_func(model(xb), yb))"
   ]
  },
  {
   "cell_type": "code",
   "execution_count": 0,
   "metadata": {
    "colab": {},
    "colab_type": "code",
    "id": "QBwoxBd2uy_r"
   },
   "outputs": [],
   "source": [
    "from torch import optim"
   ]
  },
  {
   "cell_type": "code",
   "execution_count": 0,
   "metadata": {
    "colab": {
     "base_uri": "https://localhost:8080/",
     "height": 51
    },
    "colab_type": "code",
    "id": "X6tg6YEWuzDQ",
    "outputId": "3d14483c-5e50-4799-f834-30edb2b74a3e"
   },
   "outputs": [
    {
     "name": "stdout",
     "output_type": "stream",
     "text": [
      "tensor(2.2887, grad_fn=<NllLossBackward>)\n",
      "tensor(0.0825, grad_fn=<NllLossBackward>)\n"
     ]
    }
   ],
   "source": [
    "def get_model():\n",
    "  model = Mnist_Logistic()\n",
    "  return model, optim.SGD(model.parameters(), lr=lr)\n",
    "\n",
    "model, opt = get_model()\n",
    "print(loss_func(model(xb), yb))\n",
    "\n",
    "for epoch in range(epochs):\n",
    "  for i in range((n - 1) // bs + 1):\n",
    "    start_i = i * bs\n",
    "    end_i = start_i + bs\n",
    "    xb = x_train[start_i: end_i]\n",
    "    yb = y_train[start_i: end_i]\n",
    "    pred = model(xb)\n",
    "    loss = loss_func(pred, yb)\n",
    "\n",
    "    loss.backward()\n",
    "    opt.step()\n",
    "    opt.zero_grad()\n",
    "\n",
    "print(loss_func(model(xb), yb))"
   ]
  },
  {
   "cell_type": "code",
   "execution_count": 0,
   "metadata": {
    "colab": {},
    "colab_type": "code",
    "id": "-SAEfc2-uzIy"
   },
   "outputs": [],
   "source": [
    "from torch.utils.data import TensorDataset"
   ]
  },
  {
   "cell_type": "code",
   "execution_count": 0,
   "metadata": {
    "colab": {
     "base_uri": "https://localhost:8080/",
     "height": 34
    },
    "colab_type": "code",
    "id": "EK4VsRh5vn22",
    "outputId": "164e441c-4417-479f-a594-0c15b5817f3a"
   },
   "outputs": [
    {
     "name": "stdout",
     "output_type": "stream",
     "text": [
      "tensor(0.0818, grad_fn=<NllLossBackward>)\n"
     ]
    }
   ],
   "source": [
    "model, opt = get_model()\n",
    "\n",
    "for epoch in range(epochs):\n",
    "    for i in range((n - 1) // bs + 1):\n",
    "        xb, yb = train_ds[i * bs: i * bs + bs]\n",
    "        pred = model(xb)\n",
    "        loss = loss_func(pred, yb)\n",
    "\n",
    "        loss.backward()\n",
    "        opt.step()\n",
    "        opt.zero_grad()\n",
    "\n",
    "print(loss_func(model(xb), yb))"
   ]
  },
  {
   "cell_type": "code",
   "execution_count": 0,
   "metadata": {
    "colab": {},
    "colab_type": "code",
    "id": "uhAc1mh1vnyr"
   },
   "outputs": [],
   "source": [
    "from torch.utils.data import DataLoader\n",
    "\n",
    "train_ds = TensorDataset(x_train, y_train)\n",
    "train_dl = DataLoader(train_ds, batch_size=bs)"
   ]
  },
  {
   "cell_type": "code",
   "execution_count": 0,
   "metadata": {
    "colab": {},
    "colab_type": "code",
    "id": "z5TCEVFPy0OH"
   },
   "outputs": [],
   "source": [
    "for xb, yb in train_dl:\n",
    "  pred = model(xb)"
   ]
  },
  {
   "cell_type": "code",
   "execution_count": 0,
   "metadata": {
    "colab": {
     "base_uri": "https://localhost:8080/",
     "height": 34
    },
    "colab_type": "code",
    "id": "NCWrlJiNy0Qf",
    "outputId": "5fd0cb9a-e223-441b-da69-ad0cdd5147d2"
   },
   "outputs": [
    {
     "name": "stdout",
     "output_type": "stream",
     "text": [
      "tensor(0.0804, grad_fn=<NllLossBackward>)\n"
     ]
    }
   ],
   "source": [
    "model, opt = get_model()\n",
    "\n",
    "for epoch in range(epochs):\n",
    "  for xb, yb in train_dl:\n",
    "    pred = model(xb)\n",
    "    loss = loss_func(pred, yb)\n",
    "\n",
    "    loss.backward()\n",
    "    opt.step()\n",
    "    opt.zero_grad()\n",
    "\n",
    "print(loss_func(model(xb), yb))"
   ]
  },
  {
   "cell_type": "code",
   "execution_count": 0,
   "metadata": {
    "colab": {},
    "colab_type": "code",
    "id": "yV9gzTB0y0Si"
   },
   "outputs": [],
   "source": [
    "train_ds = TensorDataset(x_train, y_train)\n",
    "train_dl = DataLoader(train_ds, batch_size=bs, shuffle=True)\n",
    "\n",
    "valid_ds = TensorDataset(x_valid, y_valid)\n",
    "valid_dl = DataLoader(valid_ds, batch_size=bs * 2)"
   ]
  },
  {
   "cell_type": "code",
   "execution_count": 0,
   "metadata": {
    "colab": {
     "base_uri": "https://localhost:8080/",
     "height": 51
    },
    "colab_type": "code",
    "id": "xFe_x6UTy0Y4",
    "outputId": "f65ffa55-3b3f-4528-d8ce-a815cf3b0ac1"
   },
   "outputs": [
    {
     "name": "stdout",
     "output_type": "stream",
     "text": [
      "0 tensor(0.3042)\n",
      "1 tensor(0.2817)\n"
     ]
    }
   ],
   "source": [
    "model, opt = get_model()\n",
    "\n",
    "for epoch in range(epochs):\n",
    "    model.train()\n",
    "    for xb, yb in train_dl:\n",
    "        pred = model(xb)\n",
    "        loss = loss_func(pred, yb)\n",
    "\n",
    "        loss.backward()\n",
    "        opt.step()\n",
    "        opt.zero_grad()\n",
    "\n",
    "    model.eval()\n",
    "    with torch.no_grad():\n",
    "        valid_loss = sum(loss_func(model(xb), yb) for xb, yb in valid_dl)\n",
    "\n",
    "    print(epoch, valid_loss / len(valid_dl))"
   ]
  },
  {
   "cell_type": "code",
   "execution_count": 0,
   "metadata": {
    "colab": {},
    "colab_type": "code",
    "id": "fCsS6ZGOy0bW"
   },
   "outputs": [],
   "source": [
    "def loss_batch(model, loss_func, xb, yb, opt=None):\n",
    "    loss = loss_func(model(xb), yb)\n",
    "\n",
    "    if opt is not None:\n",
    "        loss.backward()\n",
    "        opt.step()\n",
    "        opt.zero_grad()\n",
    "\n",
    "    return loss.item(), len(xb)"
   ]
  },
  {
   "cell_type": "code",
   "execution_count": 0,
   "metadata": {
    "colab": {},
    "colab_type": "code",
    "id": "07Y-xIGM1rqp"
   },
   "outputs": [],
   "source": [
    "import numpy as np\n",
    "\n",
    "def fit(epochs, model, loss_func, opt, train_dl, valid_dl):\n",
    "    for epoch in range(epochs):\n",
    "        model.train()\n",
    "        for xb, yb in train_dl:\n",
    "            loss_batch(model, loss_func, xb, yb, opt)\n",
    "\n",
    "        model.eval()\n",
    "        with torch.no_grad():\n",
    "            losses, nums = zip(\n",
    "                *[loss_batch(model, loss_func, xb, yb) for xb, yb in valid_dl]\n",
    "            )\n",
    "        val_loss = np.sum(np.multiply(losses, nums)) / np.sum(nums)\n",
    "\n",
    "        print(epoch, val_loss)"
   ]
  },
  {
   "cell_type": "code",
   "execution_count": 0,
   "metadata": {
    "colab": {},
    "colab_type": "code",
    "id": "0F37JtXa22cO"
   },
   "outputs": [],
   "source": [
    "def get_data(train_ds, valid_ds, bs):\n",
    "    return (\n",
    "        DataLoader(train_ds, batch_size=bs, shuffle=True),\n",
    "        DataLoader(valid_ds, batch_size=bs * 2),\n",
    "    )"
   ]
  },
  {
   "cell_type": "code",
   "execution_count": 53,
   "metadata": {
    "colab": {
     "base_uri": "https://localhost:8080/",
     "height": 198
    },
    "colab_type": "code",
    "id": "SyCBMbXi24OP",
    "outputId": "c3b591d3-76b0-4bc8-cebb-e7576c029085"
   },
   "outputs": [
    {
     "ename": "NameError",
     "evalue": "ignored",
     "output_type": "error",
     "traceback": [
      "\u001b[0;31m---------------------------------------------------------------------------\u001b[0m",
      "\u001b[0;31mNameError\u001b[0m                                 Traceback (most recent call last)",
      "\u001b[0;32m<ipython-input-53-92ecc9f3d1ee>\u001b[0m in \u001b[0;36m<module>\u001b[0;34m()\u001b[0m\n\u001b[0;32m----> 1\u001b[0;31m \u001b[0mtrain_dl\u001b[0m\u001b[0;34m,\u001b[0m \u001b[0mvalid_dl\u001b[0m \u001b[0;34m=\u001b[0m \u001b[0mget_data\u001b[0m\u001b[0;34m(\u001b[0m\u001b[0mtrain_ds\u001b[0m\u001b[0;34m,\u001b[0m \u001b[0mvalid_ds\u001b[0m\u001b[0;34m,\u001b[0m \u001b[0mbs\u001b[0m\u001b[0;34m)\u001b[0m\u001b[0;34m\u001b[0m\u001b[0;34m\u001b[0m\u001b[0m\n\u001b[0m\u001b[1;32m      2\u001b[0m \u001b[0mmodel\u001b[0m\u001b[0;34m,\u001b[0m \u001b[0mopt\u001b[0m \u001b[0;34m=\u001b[0m \u001b[0mget_model\u001b[0m\u001b[0;34m(\u001b[0m\u001b[0;34m)\u001b[0m\u001b[0;34m\u001b[0m\u001b[0;34m\u001b[0m\u001b[0m\n\u001b[1;32m      3\u001b[0m \u001b[0mfit\u001b[0m\u001b[0;34m(\u001b[0m\u001b[0mepochs\u001b[0m\u001b[0;34m,\u001b[0m \u001b[0mmodel\u001b[0m\u001b[0;34m,\u001b[0m \u001b[0mloss_func\u001b[0m\u001b[0;34m,\u001b[0m \u001b[0mopt\u001b[0m\u001b[0;34m,\u001b[0m \u001b[0mtrain_dl\u001b[0m\u001b[0;34m,\u001b[0m \u001b[0mvalid_dl\u001b[0m\u001b[0;34m)\u001b[0m\u001b[0;34m\u001b[0m\u001b[0;34m\u001b[0m\u001b[0m\n",
      "\u001b[0;31mNameError\u001b[0m: name 'train_ds' is not defined"
     ]
    }
   ],
   "source": [
    "train_dl, valid_dl = get_data(train_ds, valid_ds, bs)\n",
    "model, opt = get_model()\n",
    "fit(epochs, model, loss_func, opt, train_dl, valid_dl)"
   ]
  },
  {
   "cell_type": "code",
   "execution_count": 0,
   "metadata": {
    "colab": {},
    "colab_type": "code",
    "id": "U6WwMo2U28WV"
   },
   "outputs": [],
   "source": [
    "class Mnist_CNN(nn.Module):\n",
    "    def __init__(self):\n",
    "        super().__init__()\n",
    "        self.conv1 = nn.Conv2d(1, 16, kernel_size=3, stride=2, padding=1)\n",
    "        self.conv2 = nn.Conv2d(16, 16, kernel_size=3, stride=2, padding=1)\n",
    "        self.conv3 = nn.Conv2d(16, 10, kernel_size=3, stride=2, padding=1)\n",
    "\n",
    "    def forward(self, xb):\n",
    "        xb = xb.view(-1, 1, 28, 28)\n",
    "        xb = F.relu(self.conv1(xb))\n",
    "        xb = F.relu(self.conv2(xb))\n",
    "        xb = F.relu(self.conv3(xb))\n",
    "        xb = F.avg_pool2d(xb, 4)\n",
    "        return xb.view(-1, xb.size(1))\n",
    "\n",
    "lr = 0.1"
   ]
  },
  {
   "cell_type": "code",
   "execution_count": 0,
   "metadata": {
    "colab": {
     "base_uri": "https://localhost:8080/",
     "height": 51
    },
    "colab_type": "code",
    "id": "1dYMjn6b3ESK",
    "outputId": "5e218ac6-ed8b-4346-cd79-d2c6ebace586"
   },
   "outputs": [
    {
     "name": "stdout",
     "output_type": "stream",
     "text": [
      "0 0.3436611232995987\n",
      "1 0.22426221685409545\n"
     ]
    }
   ],
   "source": [
    "model = Mnist_CNN()\n",
    "opt = optim.SGD(model.parameters(), lr=lr, momentum=0.9)\n",
    "\n",
    "fit(epochs, model, loss_func, opt, train_dl, valid_dl)"
   ]
  },
  {
   "cell_type": "code",
   "execution_count": 0,
   "metadata": {
    "colab": {},
    "colab_type": "code",
    "id": "s_XjEDu03GyF"
   },
   "outputs": [],
   "source": [
    "class Lambda(nn.Module):\n",
    "    def __init__(self, func):\n",
    "        super().__init__()\n",
    "        self.func = func\n",
    "\n",
    "    def forward(self, x):\n",
    "        return self.func(x)\n",
    "\n",
    "\n",
    "def preprocess(x):\n",
    "    return x.view(-1, 1, 28, 28)"
   ]
  },
  {
   "cell_type": "code",
   "execution_count": 0,
   "metadata": {
    "colab": {
     "base_uri": "https://localhost:8080/",
     "height": 51
    },
    "colab_type": "code",
    "id": "PBACMY8Y3MKT",
    "outputId": "bb149a97-74c0-407a-d962-5574331e2ae9"
   },
   "outputs": [
    {
     "name": "stdout",
     "output_type": "stream",
     "text": [
      "0 0.35687828962802887\n",
      "1 0.25747167279720307\n"
     ]
    }
   ],
   "source": [
    "model = nn.Sequential(\n",
    "    Lambda(preprocess),\n",
    "    nn.Conv2d(1, 16, kernel_size=3, stride=2, padding=1),\n",
    "    nn.ReLU(),\n",
    "    nn.Conv2d(16, 16, kernel_size=3, stride=2, padding=1),\n",
    "    nn.ReLU(),\n",
    "    nn.Conv2d(16, 10, kernel_size=3, stride=2, padding=1),\n",
    "    nn.ReLU(),\n",
    "    nn.AvgPool2d(4),\n",
    "    Lambda(lambda x: x.view(x.size(0), -1)),\n",
    ")\n",
    "\n",
    "opt = optim.SGD(model.parameters(), lr=lr, momentum=0.9)\n",
    "\n",
    "fit(epochs, model, loss_func, opt, train_dl, valid_dl)"
   ]
  },
  {
   "cell_type": "code",
   "execution_count": 0,
   "metadata": {
    "colab": {},
    "colab_type": "code",
    "id": "PAeGnSVq3Obz"
   },
   "outputs": [],
   "source": [
    "def preprocess(x, y):\n",
    "    return x.view(-1, 1, 28, 28), y\n",
    "\n",
    "\n",
    "class WrappedDataLoader:\n",
    "    def __init__(self, dl, func):\n",
    "        self.dl = dl\n",
    "        self.func = func\n",
    "\n",
    "    def __len__(self):\n",
    "        return len(self.dl)\n",
    "\n",
    "    def __iter__(self):\n",
    "        batches = iter(self.dl)\n",
    "        for b in batches:\n",
    "            yield (self.func(*b))\n",
    "\n",
    "train_dl, valid_dl = get_data(train_ds, valid_ds, bs)\n",
    "train_dl = WrappedDataLoader(train_dl, preprocess)\n",
    "valid_dl = WrappedDataLoader(valid_dl, preprocess)"
   ]
  },
  {
   "cell_type": "code",
   "execution_count": 0,
   "metadata": {
    "colab": {},
    "colab_type": "code",
    "id": "qlvks9623VGy"
   },
   "outputs": [],
   "source": [
    "model = nn.Sequential(\n",
    "    nn.Conv2d(1, 16, kernel_size=3, stride=2, padding=1),\n",
    "    nn.ReLU(),\n",
    "    nn.Conv2d(16, 16, kernel_size=3, stride=2, padding=1),\n",
    "    nn.ReLU(),\n",
    "    nn.Conv2d(16, 10, kernel_size=3, stride=2, padding=1),\n",
    "    nn.ReLU(),\n",
    "    nn.AdaptiveAvgPool2d(1),\n",
    "    Lambda(lambda x: x.view(x.size(0), -1)),\n",
    ")\n",
    "\n",
    "opt = optim.SGD(model.parameters(), lr=lr, momentum=0.9)"
   ]
  },
  {
   "cell_type": "code",
   "execution_count": 0,
   "metadata": {
    "colab": {
     "base_uri": "https://localhost:8080/",
     "height": 51
    },
    "colab_type": "code",
    "id": "Hq_K4G263XsW",
    "outputId": "10935e69-c99f-40f8-fcfb-df63ec197383"
   },
   "outputs": [
    {
     "name": "stdout",
     "output_type": "stream",
     "text": [
      "0 0.3401533676624298\n",
      "1 0.23293600144386292\n"
     ]
    }
   ],
   "source": [
    "fit(epochs, model, loss_func, opt, train_dl, valid_dl)\n"
   ]
  },
  {
   "cell_type": "code",
   "execution_count": 0,
   "metadata": {
    "colab": {
     "base_uri": "https://localhost:8080/",
     "height": 34
    },
    "colab_type": "code",
    "id": "otG_Fjex3ZM3",
    "outputId": "ee43b9d3-89ad-4e63-c481-a87bfc21c8f2"
   },
   "outputs": [
    {
     "name": "stdout",
     "output_type": "stream",
     "text": [
      "True\n"
     ]
    }
   ],
   "source": [
    "print(torch.cuda.is_available())\n"
   ]
  },
  {
   "cell_type": "code",
   "execution_count": 0,
   "metadata": {
    "colab": {},
    "colab_type": "code",
    "id": "bP5r6ND93bqE"
   },
   "outputs": [],
   "source": [
    "dev = torch.device(\n",
    "    \"cuda\") if torch.cuda.is_available() else torch.device(\"cpu\")"
   ]
  },
  {
   "cell_type": "code",
   "execution_count": 0,
   "metadata": {
    "colab": {},
    "colab_type": "code",
    "id": "lbcv44Jw4hRt"
   },
   "outputs": [],
   "source": [
    "def preprocess(x, y):\n",
    "    return x.view(-1, 1, 28, 28).to(dev), y.to(dev)\n",
    "\n",
    "\n",
    "train_dl, valid_dl = get_data(train_ds, valid_ds, bs)\n",
    "train_dl = WrappedDataLoader(train_dl, preprocess)\n",
    "valid_dl = WrappedDataLoader(valid_dl, preprocess)"
   ]
  },
  {
   "cell_type": "code",
   "execution_count": 0,
   "metadata": {
    "colab": {},
    "colab_type": "code",
    "id": "KQ1MRt6B4lYy"
   },
   "outputs": [],
   "source": [
    "model.to(dev)\n",
    "opt = optim.SGD(model.parameters(), lr=lr, momentum=0.9)"
   ]
  },
  {
   "cell_type": "code",
   "execution_count": 0,
   "metadata": {
    "colab": {
     "base_uri": "https://localhost:8080/",
     "height": 51
    },
    "colab_type": "code",
    "id": "EWyEx7LQ4n60",
    "outputId": "ed80b905-3f20-42d8-a87e-44f7a2aa187a"
   },
   "outputs": [
    {
     "name": "stdout",
     "output_type": "stream",
     "text": [
      "0 0.1917406521320343\n",
      "1 0.18984941139221193\n"
     ]
    }
   ],
   "source": [
    "fit(epochs, model, loss_func, opt, train_dl, valid_dl)\n"
   ]
  },
  {
   "cell_type": "markdown",
   "metadata": {
    "colab_type": "text",
    "id": "IsoCV3XQw8ug"
   },
   "source": [
    "<b>Our Attempt</b>"
   ]
  },
  {
   "cell_type": "code",
   "execution_count": 19,
   "metadata": {
    "colab": {},
    "colab_type": "code",
    "id": "S_ovqLWf1PYD"
   },
   "outputs": [],
   "source": [
    "import torch\n",
    "import torchvision\n",
    "import torch.nn as nn\n",
    "import torch.nn.functional as F\n",
    "import torch.optim as optim"
   ]
  },
  {
   "cell_type": "code",
   "execution_count": 20,
   "metadata": {
    "colab": {
     "base_uri": "https://localhost:8080/",
     "height": 34
    },
    "colab_type": "code",
    "id": "Zcy8xCeK0gGb",
    "outputId": "28800acc-612b-4595-d427-010b8f999c69"
   },
   "outputs": [
    {
     "data": {
      "text/plain": [
       "<torch._C.Generator at 0x116a3c870>"
      ]
     },
     "execution_count": 20,
     "metadata": {},
     "output_type": "execute_result"
    }
   ],
   "source": [
    "# hyper parameters\n",
    "n_epochs = 4\n",
    "bs_train = 64\n",
    "bs_test = 1000\n",
    "lr = 0.3\n",
    "momentum = 0.5\n",
    "log_interval = 5\n",
    "\n",
    "random_seed = 42\n",
    "torch.backends.cudnn.enabled = False\n",
    "torch.manual_seed(random_seed)"
   ]
  },
  {
   "cell_type": "code",
   "execution_count": 21,
   "metadata": {
    "colab": {},
    "colab_type": "code",
    "id": "4lunFd671UTJ"
   },
   "outputs": [],
   "source": [
    "train_loader = torch.utils.data.DataLoader(\n",
    "  torchvision.datasets.MNIST(root='./data', train=True, download=True,\n",
    "                             transform=torchvision.transforms.Compose([\n",
    "                               torchvision.transforms.ToTensor(),\n",
    "                               torchvision.transforms.Normalize(\n",
    "                                 (0.1307,), (0.3081,))\n",
    "                             ])),\n",
    "  batch_size=bs_train, shuffle=True)\n",
    "\n",
    "test_loader = torch.utils.data.DataLoader(\n",
    "  torchvision.datasets.MNIST(root='./data', train=False, download=True,\n",
    "                             transform=torchvision.transforms.Compose([\n",
    "                               torchvision.transforms.ToTensor(),\n",
    "                               torchvision.transforms.Normalize(\n",
    "                                 (0.1307,), (0.3081,))\n",
    "                             ])),\n",
    "  batch_size=bs_test, shuffle=True)"
   ]
  },
  {
   "cell_type": "code",
   "execution_count": 22,
   "metadata": {
    "colab": {},
    "colab_type": "code",
    "id": "6xM7rfA2xGVx"
   },
   "outputs": [],
   "source": [
    "class CNN(nn.Module):\n",
    "  def __init__(self):\n",
    "    super(CNN, self).__init__()\n",
    "    self.conv1 = nn.Conv2d(1, 10, kernel_size=5)\n",
    "    self.conv2 = nn.Conv2d(10, 20, kernel_size=5)\n",
    "    self.conv2_drop = nn.Dropout2d()\n",
    "    self.lin_layer = nn.Linear(320, 50, bias=False)\n",
    "\n",
    "  def forward(self, x):\n",
    "    x = F.relu(F.avg_pool2d(self.conv1(x), 2))\n",
    "    x = F.relu(F.avg_pool2d(self.conv2_drop(self.conv2(x)), 2))\n",
    "    x = x.view(-1, 320)\n",
    "    x = F.relu(self.lin_layer(x))\n",
    "    x = F.dropout(x, training=self.training)\n",
    "    return F.log_softmax(x)\n",
    "\n",
    "MNIST_CNN = CNN()\n",
    "MNIST_optimizer = optim.SGD(MNIST_CNN.parameters(), lr=lr, momentum=momentum)"
   ]
  },
  {
   "cell_type": "code",
   "execution_count": 23,
   "metadata": {
    "colab": {},
    "colab_type": "code",
    "id": "J1b6vYMtxGZ1"
   },
   "outputs": [],
   "source": [
    "MNIST_CNN = CNN()\n",
    "MNIST_optimizer = optim.SGD(MNIST_CNN.parameters(), lr=lr, momentum=momentum)"
   ]
  },
  {
   "cell_type": "code",
   "execution_count": 24,
   "metadata": {
    "colab": {},
    "colab_type": "code",
    "id": "CiPq1HqUxGf8"
   },
   "outputs": [],
   "source": [
    "def train(epoch):\n",
    "  MNIST_CNN.train()\n",
    "  for batch_index, (data, target) in enumerate(train_loader):\n",
    "    MNIST_optimizer.zero_grad()\n",
    "    output = MNIST_CNN(data)\n",
    "    loss = F.nll_loss(output, target)\n",
    "    loss.backward()\n",
    "    MNIST_optimizer.step()"
   ]
  },
  {
   "cell_type": "code",
   "execution_count": 25,
   "metadata": {
    "colab": {},
    "colab_type": "code",
    "id": "bEjB6FqyxGkN"
   },
   "outputs": [],
   "source": [
    "def test():\n",
    "  MNIST_CNN.eval()\n",
    "  correct = 0\n",
    "  with torch.no_grad():\n",
    "    for data, target in test_loader:\n",
    "      output = MNIST_CNN(data)\n",
    "      pred = output.data.max(1, keepdim=True)[1]\n",
    "      correct += pred.eq(target.data.view_as(pred)).sum()\n",
    "  print('Accuracy: {}%\\n'.format(\n",
    "    100. * correct / len(test_loader.dataset)))"
   ]
  },
  {
   "cell_type": "code",
   "execution_count": 26,
   "metadata": {
    "colab": {
     "base_uri": "https://localhost:8080/",
     "height": 241
    },
    "colab_type": "code",
    "id": "uIx8VVknxGjL",
    "outputId": "9f2b2f59-a637-4fec-830b-539c8e675be1"
   },
   "outputs": [
    {
     "name": "stderr",
     "output_type": "stream",
     "text": [
      "/opt/anaconda3/lib/python3.7/site-packages/ipykernel_launcher.py:15: UserWarning: Implicit dimension choice for log_softmax has been deprecated. Change the call to include dim=X as an argument.\n",
      "  from ipykernel import kernelapp as app\n"
     ]
    },
    {
     "name": "stdout",
     "output_type": "stream",
     "text": [
      "Accuracy: 0.029999999329447746%\n",
      "\n",
      "Accuracy: 92.01000213623047%\n",
      "\n",
      "Accuracy: 94.55000305175781%\n",
      "\n",
      "Accuracy: 94.33000183105469%\n",
      "\n",
      "Accuracy: 93.7300033569336%\n",
      "\n"
     ]
    }
   ],
   "source": [
    "test()\n",
    "for epoch in range(1, n_epochs + 1):\n",
    "  train(epoch)\n",
    "  test()"
   ]
  },
  {
   "cell_type": "markdown",
   "metadata": {
    "colab_type": "text",
    "id": "2myc4zy8Pxan"
   },
   "source": [
    "**Our accuracy is around 94%.**"
   ]
  },
  {
   "cell_type": "markdown",
   "metadata": {
    "colab_type": "text",
    "id": "LkF3QHrHeLKz"
   },
   "source": [
    "# **Problem** **6**"
   ]
  },
  {
   "cell_type": "code",
   "execution_count": 0,
   "metadata": {
    "colab": {},
    "colab_type": "code",
    "id": "srAGyadrwUgm"
   },
   "outputs": [],
   "source": []
  }
 ],
 "metadata": {
  "colab": {
   "name": "Copy of Lab4.ipynb",
   "provenance": []
  },
  "kernelspec": {
   "display_name": "Python 3",
   "language": "python",
   "name": "python3"
  },
  "language_info": {
   "codemirror_mode": {
    "name": "ipython",
    "version": 3
   },
   "file_extension": ".py",
   "mimetype": "text/x-python",
   "name": "python",
   "nbconvert_exporter": "python",
   "pygments_lexer": "ipython3",
   "version": "3.7.4"
  },
  "toc": {
   "base_numbering": 1,
   "nav_menu": {},
   "number_sections": true,
   "sideBar": true,
   "skip_h1_title": false,
   "title_cell": "Table of Contents",
   "title_sidebar": "Contents",
   "toc_cell": false,
   "toc_position": {},
   "toc_section_display": true,
   "toc_window_display": false
  }
 },
 "nbformat": 4,
 "nbformat_minor": 1
}
