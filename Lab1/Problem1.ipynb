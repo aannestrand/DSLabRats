{
 "cells": [
  {
   "cell_type": "code",
   "execution_count": 2,
   "metadata": {},
   "outputs": [],
   "source": [
    "import numpy as np\n",
    "import pandas as pd\n",
    "import matplotlib.pyplot as plt"
   ]
  },
  {
   "cell_type": "code",
   "execution_count": 19,
   "metadata": {},
   "outputs": [
    {
     "data": {
      "text/plain": [
       "(array([  6.,  35.,  88., 221., 234., 226., 128.,  49.,  12.,   1.]),\n",
       " array([-25.33284624, -22.03967612, -18.74650599, -15.45333587,\n",
       "        -12.16016574,  -8.86699561,  -5.57382549,  -2.28065536,\n",
       "          1.01251477,   4.30568489,   7.59885502]),\n",
       " <a list of 10 Patch objects>)"
      ]
     },
     "execution_count": 19,
     "metadata": {},
     "output_type": "execute_result"
    },
    {
     "data": {
      "image/png": "[encoded data removed]",
      "text/plain": [
       "<Figure size 432x288 with 1 Axes>"
      ]
     },
     "metadata": {
      "needs_background": "light"
     },
     "output_type": "display_data"
    }
   ],
   "source": [
    "mu1, sigma1 = -10, 5\n",
    "s1 = np.random.normal(mu1, sigma1, 1000)\n",
    "plt.hist(s1)"
   ]
  },
  {
   "cell_type": "code",
   "execution_count": 20,
   "metadata": {},
   "outputs": [
    {
     "data": {
      "text/plain": [
       "(array([  3.,  38.,  68., 145., 190., 224., 160., 127.,  37.,   8.]),\n",
       " array([-4.91473818, -2.07733166,  0.76007485,  3.59748136,  6.43488788,\n",
       "         9.27229439, 12.10970091, 14.94710742, 17.78451393, 20.62192045,\n",
       "        23.45932696]),\n",
       " <a list of 10 Patch objects>)"
      ]
     },
     "execution_count": 20,
     "metadata": {},
     "output_type": "execute_result"
    },
    {
     "data": {
      "image/png": "[encoded data removed]",
      "text/plain": [
       "<Figure size 432x288 with 1 Axes>"
      ]
     },
     "metadata": {
      "needs_background": "light"
     },
     "output_type": "display_data"
    }
   ],
   "source": [
    "mu2, sigma2 = 10, 5\n",
    "s2 = np.random.normal(mu2,sigma2, 1000)\n",
    "plt.hist(s2)"
   ]
  },
  {
   "cell_type": "code",
   "execution_count": 21,
   "metadata": {},
   "outputs": [
    {
     "data": {
      "text/plain": [
       "(array([  6.,  26.,  63., 166., 232., 249., 158.,  74.,  18.,   8.]),\n",
       " array([-22.48829165, -18.03238568, -13.5764797 ,  -9.12057372,\n",
       "         -4.66466774,  -0.20876176,   4.24714421,   8.70305019,\n",
       "         13.15895617,  17.61486215,  22.07076813]),\n",
       " <a list of 10 Patch objects>)"
      ]
     },
     "execution_count": 21,
     "metadata": {},
     "output_type": "execute_result"
    },
    {
     "data": {
      "image/png": "[encoded data removed]",
      "text/plain": [
       "<Figure size 432x288 with 1 Axes>"
      ]
     },
     "metadata": {
      "needs_background": "light"
     },
     "output_type": "display_data"
    }
   ],
   "source": [
    "s3 = s1 + s2\n",
    "plt.hist(s3)"
   ]
  },
  {
   "cell_type": "markdown",
   "metadata": {},
   "source": [
    "Here we see that adding two gaussian distributions results in a graph that resembles are true gaussian distribution. This can be attributed to the central limit theorem because we have increased the number of samples. We estimate the mean to be 0 because the previous two distributions had mean -10 and 10 respectively. Also, we expect the variance of the new distribution to be 50 because the previous 2 distributions had variances of 25."
   ]
  },
  {
   "cell_type": "code",
   "execution_count": 22,
   "metadata": {},
   "outputs": [
    {
     "data": {
      "text/plain": [
       "-0.16412092369624487"
      ]
     },
     "execution_count": 22,
     "metadata": {},
     "output_type": "execute_result"
    }
   ],
   "source": [
    "np.mean(s3)"
   ]
  },
  {
   "cell_type": "code",
   "execution_count": 25,
   "metadata": {},
   "outputs": [
    {
     "data": {
      "text/plain": [
       "48.78729959454877"
      ]
     },
     "execution_count": 25,
     "metadata": {},
     "output_type": "execute_result"
    }
   ],
   "source": [
    "np.var(s3)"
   ]
  },
  {
   "cell_type": "code",
   "execution_count": null,
   "metadata": {},
   "outputs": [],
   "source": []
  }
 ],
 "metadata": {
  "kernelspec": {
   "display_name": "Python 3",
   "language": "python",
   "name": "python3"
  },
  "language_info": {
   "codemirror_mode": {
    "name": "ipython",
    "version": 3
   },
   "file_extension": ".py",
   "mimetype": "text/x-python",
   "name": "python",
   "nbconvert_exporter": "python",
   "pygments_lexer": "ipython3",
   "version": "3.7.4"
  }
 },
 "nbformat": 4,
 "nbformat_minor": 2
}
