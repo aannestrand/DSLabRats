{
 "cells": [
  {
   "cell_type": "code",
   "execution_count": 25,
   "metadata": {
    "scrolled": true
   },
   "outputs": [
    {
     "name": "stdout",
     "output_type": "stream",
     "text": [
      "Mean Matrix: [-5.022938792795374, 5.090651857773696]\n"
     ]
    }
   ],
   "source": [
    "import numpy as np\n",
    "\n",
    "# Create matrix of 10,000 samples from 2d Gaussian distribution\n",
    "mean = (-5, 5)\n",
    "cov = [[20, .8], [.8, 30]]\n",
    "x = np.random.multivariate_normal(mean, cov, 10000)\n",
    "\n",
    "# Calculate mean matrix by taking mean of each column (mean matrix composed of mean from each column/variable)\n",
    "sum1 = 0\n",
    "sum2 = 0\n",
    "\n",
    "for element in x: \n",
    "    sum1 += element[0]\n",
    "    sum2 += element[1]\n",
    "\n",
    "ave1 = sum1 / 10000\n",
    "ave2 = sum2 / 10000\n",
    "\n",
    "meanMatrix = [ave1, ave2]\n",
    "print(\"Mean Matrix:\", meanMatrix)"
   ]
  },
  {
   "cell_type": "code",
   "execution_count": 26,
   "metadata": {},
   "outputs": [
    {
     "name": "stdout",
     "output_type": "stream",
     "text": [
      "[[20.33140852  0.88145884]\n",
      " [ 0.88145884 29.37674635]]\n",
      "Covariance Matrix:  [[20.329668462135103, 0.8808963171269788], [0.8808963171269788, 29.37457650474663]]\n"
     ]
    }
   ],
   "source": [
    "# Calculate covariance matrix (main diagonals are variance of X and Y and other spots are covariance of X and Y)\n",
    "varX = 0\n",
    "varY = 0\n",
    "covXY = 0\n",
    "\n",
    "for element in x: \n",
    "    varX += np.square((element[0] - mean_matrix[0]))\n",
    "    varY += np.square((element[1] - mean_matrix[1]))\n",
    "    covXY += ((element[0] - mean_matrix[0]) * (element[1] - mean_matrix[1]))\n",
    "    \n",
    "varX /= 10000\n",
    "varY /= 10000\n",
    "covXY /= 10000\n",
    "\n",
    "covMatrix = [[varX, covXY], [covXY, varY]]\n",
    "print(np.cov(np.transpose(x)))\n",
    "print(\"Covariance Matrix: \", covMatrix)"
   ]
  },
  {
   "cell_type": "code",
   "execution_count": null,
   "metadata": {},
   "outputs": [],
   "source": []
  }
 ],
 "metadata": {
  "kernelspec": {
   "display_name": "Python 3",
   "language": "python",
   "name": "python3"
  },
  "language_info": {
   "codemirror_mode": {
    "name": "ipython",
    "version": 3
   },
   "file_extension": ".py",
   "mimetype": "text/x-python",
   "name": "python",
   "nbconvert_exporter": "python",
   "pygments_lexer": "ipython3",
   "version": "3.7.4"
  }
 },
 "nbformat": 4,
 "nbformat_minor": 2
}
