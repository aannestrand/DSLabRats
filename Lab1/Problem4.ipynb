{
 "cells": [
  {
   "cell_type": "code",
   "execution_count": 14,
   "metadata": {},
   "outputs": [],
   "source": [
    "import numpy as np\n",
    "\n",
    "# Create matrix of 10,000 samples from 2-D Gaussian distribution\n",
    "mean = [-5, 5]\n",
    "cov = [[20, .8], [.8, 30]]\n",
    "n = 10000\n",
    "x = np.random.multivariate_normal(mean, cov, n)"
   ]
  },
  {
   "cell_type": "code",
   "execution_count": 12,
   "metadata": {
    "scrolled": true
   },
   "outputs": [
    {
     "name": "stdout",
     "output_type": "stream",
     "text": [
      "Mean Matrix: [-5.002095095010998, 5.08633178750688]\n"
     ]
    }
   ],
   "source": [
    "# Calculate mean matrix by taking mean of each column (mean matrix composed of mean from each column/variable)\n",
    "sum1 = 0\n",
    "sum2 = 0\n",
    "\n",
    "for element in x: \n",
    "    sum1 += element[0]\n",
    "    sum2 += element[1]\n",
    "\n",
    "ave1 = sum1 / n\n",
    "ave2 = sum2 / n\n",
    "\n",
    "meanMatrix = [ave1, ave2]\n",
    "print(\"Mean Matrix:\", meanMatrix)"
   ]
  },
  {
   "cell_type": "code",
   "execution_count": 13,
   "metadata": {},
   "outputs": [
    {
     "name": "stdout",
     "output_type": "stream",
     "text": [
      "Covariance Matrix:  [[20.185359029838622, 1.100460596777654], [1.100460596777654, 31.193817671463982]]\n"
     ]
    }
   ],
   "source": [
    "# Calculate covariance matrix (main diagonals are variance of X and Y and other spots are covariance of X and Y)\n",
    "varX = 0\n",
    "varY = 0\n",
    "covXY = 0\n",
    "\n",
    "for element in x: \n",
    "    varX += np.square((element[0] - meanMatrix[0]))\n",
    "    varY += np.square((element[1] - meanMatrix[1]))\n",
    "    covXY += ((element[0] - meanMatrix[0]) * (element[1] - meanMatrix[1]))\n",
    "    \n",
    "varX /= n\n",
    "varY /= n\n",
    "covXY /= n\n",
    "\n",
    "covMatrix = [[varX, covXY], [covXY, varY]]\n",
    "print(\"Covariance Matrix: \", covMatrix)"
   ]
  }
 ],
 "metadata": {
  "kernelspec": {
   "display_name": "Python 3",
   "language": "python",
   "name": "python3"
  },
  "language_info": {
   "codemirror_mode": {
    "name": "ipython",
    "version": 3
   },
   "file_extension": ".py",
   "mimetype": "text/x-python",
   "name": "python",
   "nbconvert_exporter": "python",
   "pygments_lexer": "ipython3",
   "version": "3.7.4"
  }
 },
 "nbformat": 4,
 "nbformat_minor": 2
}
