{
 "cells": [
  {
   "cell_type": "code",
   "execution_count": 20,
   "metadata": {
    "scrolled": false
   },
   "outputs": [
    {
     "name": "stdout",
     "output_type": "stream",
     "text": [
      "[[ -2.86823247   6.33883047]\n",
      " [ -7.94898655  11.03274795]\n",
      " [ -1.04173842   8.82349091]\n",
      " ...\n",
      " [-14.70131947  11.06365584]\n",
      " [ -6.18883748  -0.09444514]\n",
      " [-10.85437894  11.23195534]]\n"
     ]
    }
   ],
   "source": [
    "import numpy as np\n",
    "\n",
    "# Create matrix of 10,000 samples from 2d Gaussian distribution\n",
    "mean = (-5, 5)\n",
    "cov = [[20, .8], [.8, 30]]\n",
    "x = np.random.multivariate_normal(mean, cov, 10000)\n",
    "print(x)\n"
   ]
  },
  {
   "cell_type": "code",
   "execution_count": 24,
   "metadata": {},
   "outputs": [
    {
     "name": "stdout",
     "output_type": "stream",
     "text": [
      "[-5.029431612447377, 4.952832566905829]\n"
     ]
    }
   ],
   "source": [
    "# Calculate mean matrix by taking mean of each column (mean matrix composed of mean from each column/variable)\n",
    "sum1 = 0\n",
    "sum2 = 0\n",
    "\n",
    "for element in x:\n",
    "    sum1 += element[0]\n",
    "    sum2 += element[1]\n",
    "    \n",
    "ave1 = sum1 / 10000\n",
    "ave2 = sum2 / 10000\n",
    "\n",
    "mean_matrix = [ave1, ave2]\n",
    "print(mean_matrix)"
   ]
  },
  {
   "cell_type": "code",
   "execution_count": null,
   "metadata": {},
   "outputs": [],
   "source": [
    "prod = 1\n",
    "sum = 0\n",
    "diff1 = 0\n",
    "diff2 = 0\n",
    "\n",
    "for element in x:\n",
    "    diff1 = element[0] - ave1\n",
    "    diff2 = element[1] - ave2\n",
    "    prod = diff1 * diff2\n",
    "    sum += prod\n",
    "    prod = 1\n",
    "    \n",
    "cov"
   ]
  }
 ],
 "metadata": {
  "kernelspec": {
   "display_name": "Python 3",
   "language": "python",
   "name": "python3"
  },
  "language_info": {
   "codemirror_mode": {
    "name": "ipython",
    "version": 3
   },
   "file_extension": ".py",
   "mimetype": "text/x-python",
   "name": "python",
   "nbconvert_exporter": "python",
   "pygments_lexer": "ipython3",
   "version": "3.7.4"
  }
 },
 "nbformat": 4,
 "nbformat_minor": 2
}
