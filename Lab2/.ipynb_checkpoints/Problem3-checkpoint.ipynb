{
 "cells": [
  {
   "cell_type": "code",
<<<<<<< HEAD
   "execution_count": 6,
=======
   "execution_count": 76,
>>>>>>> 375dfecf313befe73edfacbd69e80e43fd605a05
   "metadata": {},
   "outputs": [],
   "source": [
    "import numpy as np\n",
    "from scipy import stats\n",
    "import matplotlib.pyplot as plt"
   ]
  },
  {
   "cell_type": "code",
<<<<<<< HEAD
   "execution_count": 7,
=======
   "execution_count": 77,
>>>>>>> 375dfecf313befe73edfacbd69e80e43fd605a05
   "metadata": {},
   "outputs": [],
   "source": [
    "def calcStdDev(n):\n",
    "    mu = 0\n",
    "    sigma = 1\n",
    "    b0 = -3\n",
    "    b = 0\n",
    "    bHat = []\n",
    "    sumNums = 0\n",
    "    \n",
    "    for i in range(1000):\n",
    "        x = np.random.normal(mu, sigma, n)\n",
    "        e = np.random.normal(mu, sigma, n)\n",
    "        y = b0 + (x * b) + e\n",
    "        slope, intercept, r_value, p_value, std_err = stats.linregress(x, y)\n",
    "        bHat.append(slope)\n",
    "    \n",
    "    for i in range(1000):\n",
    "         sumNums += np.square(bHat[i] - b)\n",
    "            \n",
    "    return (sumNums / np.sqrt(1000))        "
   ]
  },
  {
   "cell_type": "code",
<<<<<<< HEAD
   "execution_count": 8,
=======
   "execution_count": 78,
>>>>>>> 375dfecf313befe73edfacbd69e80e43fd605a05
   "metadata": {
    "scrolled": true
   },
   "outputs": [
    {
<<<<<<< HEAD
     "data": {
      "text/plain": [
       "[<matplotlib.lines.Line2D at 0x1a1837a750>,\n",
       " <matplotlib.lines.Line2D at 0x1a1837a990>]"
      ]
     },
     "execution_count": 8,
     "metadata": {},
     "output_type": "execute_result"
    },
    {
     "data": {
      "image/png": "iVBORw0KGgoAAAANSUhEUgAAAXQAAAD4CAYAAAD8Zh1EAAAABHNCSVQICAgIfAhkiAAAAAlwSFlzAAALEgAACxIB0t1+/AAAADh0RVh0U29mdHdhcmUAbWF0cGxvdGxpYiB2ZXJzaW9uMy4xLjEsIGh0dHA6Ly9tYXRwbG90bGliLm9yZy8QZhcZAAAZDklEQVR4nO3dfZAcdZ3H8fd3ZnY3CdkNeVggjyaRSBHxioeVC6gnh6IJWqTKB0zqFI1o9O444bROQSxEKEvRK/EsQzSih+IpIlIkUvHwSrgTjodjIUh4SGAJD9mEJJsHyCO7Ozvf+6N7k+nZ3t3ZzWwmv8nnVTU13b/+dc+vtzef7XT/en7m7oiISPgy1W6AiIhUhgJdRKRGKNBFRGqEAl1EpEYo0EVEakSuWh88adIknzlzZrU+XkQkSI899th2d29OW1a1QJ85cyatra3V+ngRkSCZ2cv9LdMlFxGRGqFAFxGpEQp0EZEaoUAXEakRCnQRkRoxaKCb2c/MbJuZPdXPcjOzH5hZm5k9aWZnVr6ZIiIymHLO0G8B5g+wfAEwJ34tBZYffrNERGSoBg10d/8zsHOAKguBX3jkYeB4M5tcqQaWeuCVB7jmvmvo6ukaqY8QEQlSJa6hTwU2Fs23x2V9mNlSM2s1s9aOjo5hfdhDGx/i+j9fT3dP97DWFxGpVZUIdEspSx01w91XuHuLu7c0N6c+uSoiIsNUiUBvB6YXzU8DNldguwPy9L8ZIiLHrEoE+irgkri3yzzgdXd/tQLbTWWW9h8CEREZ9Mu5zOzXwHnAJDNrB74O1AG4+4+A1cCFQBuwH1gyUo0VEZH+DRro7r54kOUO/GPFWlQmDW4tIpIU3JOilnoPVkREggt0ERFJF2ygq5eLiEhScIGuXi4iIumCC3QREUkXbKCrl4uISFJwga5eLiIi6YILdBERSRdsoKuXi4hIUnCBrl4uIiLpggt0ERFJF2ygq5eLiEhScIGuXi4iIumCC3QREUkXbKCrl4uISFJwga5eLiIi6YILdBERSRdsoKuXi4hIUnCBrl4uIiLpggt0ERFJF2ygq5eLiEhScIGuXi4iIumCC3QREUkXbKCrl4uISFJwga5eLiIi6YILdBERSRdsoKuXi4hIUnCBrl4uIiLpggt0ERFJF2ygq5eLiEhScIGuXi4iIunKCnQzm29m682szcyuTFk+w8zuM7M1ZvakmV1Y+aaKiMhABg10M8sCy4AFwFxgsZnNLan2NeB2dz8DWATcVOmGllIvFxGRpHLO0M8G2tx9g7t3AbcBC0vqONAUT48DNleuiUnq5SIikq6cQJ8KbCyab4/Lil0LfNzM2oHVwD+lbcjMlppZq5m1dnR0DKO5IiLSn3ICPe2UuPR6x2LgFnefBlwI3Gpmfbbt7ivcvcXdW5qbm4fe2uS2Dmt9EZFaU06gtwPTi+an0feSyqXA7QDu/hAwCphUiQaWUi8XEZF05QT6o8AcM5tlZvVENz1XldR5BXgPgJmdShTouqYiInIEDRro7p4HLgPuAZ4l6s3ytJldZ2YXxdW+BHzWzP4C/Br4lI/wNRH1chERScqVU8ndVxPd7Cwuu6Zo+hngHZVtWjr1chERSRfck6IiIpIu2EBXLxcRkaTgAl29XERE0gUX6CIiki7YQFcvFxGRpOACXb1cRETSBRfoIiKSLthAVy8XEZGkYANdRESSggt0dVsUEUkXXKCLiEi6YANd3RZFRJKCC3R1WxQRSRdcoIuISLpgA13dFkVEkoILdPVyERFJF1ygi4hIumADXb1cRESSggt09XIREUkXXKCLiEi6YANdvVxERJKCC3T1chERSRdcoIuISLpgA129XEREkoILdPVyERFJF1ygi4hIumADXb1cRESSggt09XIREUkXXKCLiEi6YANdvVxERJLKCnQzm29m682szcyu7KfOxWb2jJk9bWa/qmwzE58zUpsWEQlabrAKZpYFlgEXAO3Ao2a2yt2fKaozB7gKeIe77zKzE0aqwSIikq6cM/SzgTZ33+DuXcBtwMKSOp8Flrn7LgB331bZZvalXi4iIknlBPpUYGPRfHtcVuwtwFvM7H/N7GEzm1+pBpZSLxcRkXSDXnKB1AQtPT3OAXOA84BpwP1mdpq7v5bYkNlSYCnAjBkzhtxYERHpXzln6O3A9KL5acDmlDor3b3b3V8E1hMFfIK7r3D3FndvaW5uHm6bo22pl4uISEI5gf4oMMfMZplZPbAIWFVS5y7gbwHMbBLRJZgNlWxoL/VyERFJN2igu3seuAy4B3gWuN3dnzaz68zsorjaPcAOM3sGuA/4F3ffMVKNFhGRvsq5ho67rwZWl5RdUzTtwBfj1xGhXi4iIknBPSmqXi4iIumCC3QREUkXbKCrl4uISFJwga5eLiIi6YILdBERSRdsoKuXi4hIUnCBrl4uIiLpggt0ERFJF2ygq5eLiEhScIGuXi4iIumCC3QREUkXbKCrl4uISFJwga5eLiIi6YILdBERSRdsoKuXi4hIUnCBrl4uIiLpggt0ERFJF2ygq5eLiEhScIGuXi4iIumCC3QREUkXbKCrl4uISFJwga5eLiIi6YILdBERSRdsoKuXi4hIUnCBrl4uIiLpggt0ERFJF2ygq5eLiEhScIGuXi4iIumCC3QREUkXbKCrl4uISFJwga5eLiIi6coKdDObb2brzazNzK4coN5HzMzNrKVyTRQRkXIMGuhmlgWWAQuAucBiM5ubUq8R+ALwSKUbmUa9XEREkso5Qz8baHP3De7eBdwGLEypdz3wHeCNCravj4xFTS54YSQ/RkQkOOUE+lRgY9F8e1x2kJmdAUx397sH2pCZLTWzVjNr7ejoGHJjAbKZLKBAFxEpVU6gp92FPHi9w8wywI3AlwbbkLuvcPcWd29pbm4uv5VFdIYuIpKunEBvB6YXzU8DNhfNNwKnAf9tZi8B84BVI3VjVIEuIpKunEB/FJhjZrPMrB5YBKzqXejur7v7JHef6e4zgYeBi9y9dUQarEAXEUk1aKC7ex64DLgHeBa43d2fNrPrzOyikW5gqd5A7yn0HOmPFhE5quXKqeTuq4HVJWXX9FP3vMNvVv+yppuiIiJpgntSVJdcRETSKdBFRGpEsIHe47qGLiJSLLhA14NFIiLpggt0XXIREUmnQBcRqREKdBGRGhFsoOvBIhGRpOACXQ8WiYikCy7QdclFRCSdAl1EpEYEG+h6sEhEJCm4QNeDRSIi6YILdF1yERFJp0AXEakRCnQRkRoRbKDrwSIRkaTgAl0PFomIpAsu0HXJRUQknQJdRKRGBBvoerBIRCQpuECvz9YD0NXTVeWWiIgcXYIL9IZcA6BAFxEpFVygZy2LYXTmO6vdFBGRo0pwgW5mNOQadIYuIlIiuECH6Dp6Z4/O0EVEigUb6DpDFxFJCjLQG7INuoYuIlIiyECvz9bTVTh0hr5uHWzdWsUGiYgcBYIM9IbcoTP0PXvg3HPhc58D9yo3TESkioIM9OJr6I2NcPXVsHIl/OIXVW6YiEgVlRXoZjbfzNabWZuZXZmy/Itm9oyZPWlmfzKzN1W+qYc0ZJPdFq+4At71LvjCF+CVV0byk0VEjl6DBrqZZYFlwAJgLrDYzOaWVFsDtLj7XwF3AN+pdEOLlXZbzGbhllugpweWLIGCvrdLRI5B5Zyhnw20ufsGd+8CbgMWFldw9/vcfX88+zAwrbLNTCq+ht5r9my48Ua4915YtmwkP11E5OhUTqBPBTYWzbfHZf25FPhD2gIzW2pmrWbW2tHRUX4rS4ypG8P+7v19yj/zGViwAL7yFXjuuWFvXkQkSOUEuqWUpfYnMbOPAy3Ad9OWu/sKd29x95bm5ubyW1miqaGJ3Z27Uz4fbr4ZRo2CSy6BfH7YHyEiEpxyAr0dmF40Pw3YXFrJzN4LXA1c5O4j+tRPY30je7r2pC6bMgVuugkeeQS+M6JX8kVEji7lBPqjwBwzm2Vm9cAiYFVxBTM7A/gxUZhvq3wzk/o7Q++1aBFcfDFcey088cRIt0ZE5OgwaKC7ex64DLgHeBa43d2fNrPrzOyiuNp3gbHAb83sCTNb1c/mKqKxvpE38m/Q3dPdb52bboKJE+ETn4BOfUuAiBwDcuVUcvfVwOqSsmuKpt9b4XYNqKmhCYA9XXuYMHpCap2JE6Pr6R/8IHz96/Dtbx/JFoqIHHlBPil6MNA706+j9/rAB6KeL9/9Ljz44JFomYhI9QQZ6ONGjQNg1xu7Bq37ve/BjBlRr5d9+0a6ZSIi1RNkoJ943IkAbN07+FcsNjZGT5Fu2ABf/vIIN0xEpIqCDPSTxp4EwJa9W8qq/+53R9/3ctNN8Mc/jmTLRESqJ8hAP3FsdIZebqADfPObcOqp8OlPw67Br9SIiAQnyEAfWz+WsfVjhxToo0dHX6+7ZUv0rYwiIrUmyECH6LLLpj2bhrROSwt87Wvwy1/CnXeOUMNERKok2EA/ecLJtO1sG/J6V18NZ50VjXCkYetEpJYEG+inTDyF53Y8hw9x3Lm6uujSy549GrZORGpL0IG+r3vfkC+7AMydG90kXbkSfv7zEWiciEgVBBvop51wGgBPbBnet2/1Dlt3+eUatk5EakOwgX7WlLPIZXI8tPGhYa2vYetEpNYEG+hj6sZwxkln8MDGB4a9DQ1bJyK1JNhABzh/1vk8uPFBdh7YOextaNg6EakVQQf6R+Z+hHwhz8p1K4e9DQ1bJyK1IuhAP2vyWbx5/Jv5yeM/OaztFA9bd8MNFWqciMgRFnSgmxlXzLuCh9of4v6X7z+sbfUOW/eNb2jYOhEJU9CBDrDk9CVMaZzC5f95OfnC4V0v0bB1IhKy4AP9uPrjuPH9N7Jmyxqu+5/rDmtbvcPWPfVUNGydiEhIgg90gI/O/ShLTl/C9X++nlueuOWwtqVh60QkVDUR6GbG8g8s54LZF7Bk5RK+df+3KPjwnxQqHrZu794KNlREZATVRKADNOQa+P3i37PotEV89d6vcsGtF/Bsx7PD2paGrRORENVMoEMU6r/60K9Y8cEVtG5u5W3L38alKy/lya1PDnlbvcPWLV+uYetEJAw21K+frZSWlhZvbW0dse137Ovg+j9fz82P38yB/AHOnX4uF8+9mA/P/TDTmqaVtY0DB6LvTt+9G9auhfHjR6y5IiJlMbPH3L0ldVmtBnqvHft38NM1P+WXT/6StdvWAvDW5rdy3szzOG/mebx9ytuZMW4GZpa6fmsrzJsHixfDrbeOeHNFRAZ0TAd6sfXb13PXuru476X7eOCVB9jXvQ+ACaMncPpJp3P6iadzyqRTOHnCycyZMIepTVPJWIZrr40eOPrd7+BDHzqiTRYRSVCgp+ju6ebxVx/n8VcfZ82WNazZsoa1W9fS2XPoiaKGbAOzx89mytipPHH/VPZvnconFk5ldvMU3nLSVOZMbeZNzZMYW39cv2f4IiKVpEAvU0+hh017NtG2s43ndzxP2842Xtj1Apv3bOblnZvYsu9VyPT0XTHfQF33REYVJjEmM5FxuUmMHzWRiWOOZ1JjEyeMa2LyhCamTGrihKYmmkY10tTQdPA1OjdafxBEpCwDBXruSDfmaJbNZJkxbgYzxs3g/Fnn91nesb2Hx9ZtY/2rm3hx+2Y2vdbBtr072HlgB691bWdvzw5es+1sy63Fu7ZD12uwJw+bB/5c8yz1NoaGzBhG50Yzpn4MjQ1jGDt6NI0NYxhTF71G50Yfmq6LpkflRtGQbaAh10B9tj51uiEbz/czrT8mIrVBgT4EzZOyzH/nZOYzedC6+/bBtm3Opq2dvLxlN5s69rBpx2627trNtt272bF3N68d2M3uN3azp3s3nbafzrr97K47AHX7o1fuAJmGXWRHbyJTH5UXcvvpsf0UrLti+1WXqTsY8HXZOnKZHHWZ+D2eTyvrb77cutlMlqxlB3zPWGbQOmnvGcsMeZ3iz9MfOQlRWYFuZvOBfwOywM3u/u2S5Q3AL4CzgB3Ax9z9pco2NSzHHQezZhmzZo3inYwCTui3rnv0B6CjA7Zti96Lp9PeO7vzUehnOyHXGb1nuxjV2Mn4SZ0cP6GLpgmdNI7vZExjtMyznXi2EzJdFKyTQqYTj6d7rJOCdeLkKRS6cY/f83l66MYtT548nXRTIE+BffR4tKzgefLeHc0ffM/T7d30FPLkC93kPX/YX552JBlGxjKJl1nfsoPLUuofyXUGWq/fz8Ews9T33u31V2eg9Udy2yGsX/wOpJZNa5rGxDETK/57O2igm1kWWAZcALQDj5rZKnd/pqjapcAudz/ZzBYBNwAfq3hra5QZjB0bvWbNGry+O+zdm6Ojo6lP2CeCfx2s64CdO6OBO/L5ao+d6tE9iEw3ZPJYLk+urodcXQ+ZXPSejaezuWg6myscms/1kMkeWp7J9WDZZLllovdMtgCZqNyy0fvB+Uw0bUXTZHrIZKJ1sB6cHjDHKeAUwOJ3HI+no/miaXfcD8279S4/tJ3SdXqX5RNlyWVO/uB2C71tiOsUij4v+roLP1jPPX6ngHtynYL3xNv3eB0nup8Wf6oXDi1zT9Z1j7ffWyZDtfwDy/l8y+crvt1yztDPBtrcfQOAmd0GLASKA30hcG08fQfwQzMzr9Yd1xpnFn09QWNjNC7qULhHA2P3Bnzx9GDzh1/XyOdz5PO5w/+cLsjvTy7rHkYbuyt35eoY52B+6N0KfcsS74UBllVmfcs4ZvErE5X3TpsVoHi5eXI+UzhU35LrRtPx8kxyed91KFkGZk7X7NMh9bbm4Skn0KcCG4vm24G/7q+Ou+fN7HVgIrC9Eo2UyjGDXC56SaRQ6Bv27nq5Rz+b8upa/Kp+m0N4nXrSyPwul/PPOu3ukA+jDma2FFgKMGPGjDI+WmTkZTJQX1/tVogcvnK+nKsdmF40P42+HfEO1jGzHDAO2Fm6IXdf4e4t7t7S3Nw8vBaLiEiqcgL9UWCOmc0ys3pgEbCqpM4q4JPx9EeAe3X9XETkyBr0kkt8Tfwy4B6ibos/c/enzew6oNXdVwE/BW41szaiM/NFI9loERHpq6xbY+6+GlhdUnZN0fQbwEcr2zQRERmKmhrgQkTkWKZAFxGpEQp0EZEaoUAXEakRVfs+dDPrAF4e5uqTOPaeQtU+Hxu0z8eGw9nnN7l76oM8VQv0w2Fmrf19wXut0j4fG7TPx4aR2mddchERqREKdBGRGhFqoK+odgOqQPt8bNA+HxtGZJ+DvIYuIiJ9hXqGLiIiJRToIiI1IrhAN7P5ZrbezNrM7Mpqt2e4zGy6md1nZs+a2dNmdnlcPsHM/svMno/fx8flZmY/iPf7STM7s2hbn4zrP29mn+zvM48WZpY1szVmdnc8P8vMHonb/5v4a5oxs4Z4vi1ePrNoG1fF5evN7P3V2ZPymNnxZnaHma2Lj/c5tX6czeyf49/rp8zs12Y2qtaOs5n9zMy2mdlTRWUVO65mdpaZrY3X+YGZpQ0klOTuwbyIvr73BWA2UA/8BZhb7XYNc18mA2fG043Ac8Bc4DvAlXH5lcAN8fSFwB+IRoeaBzwSl08ANsTv4+Pp8dXev0H2/YvAr4C74/nbgUXx9I+Av4+n/wH4UTy9CPhNPD03PvYNwKz4dyJb7f0aYH9/Dnwmnq4Hjq/l40w0JOWLwOii4/upWjvOwN8AZwJPFZVV7LgC/wecE6/zB2DBoG2q9g9liD/Ac4B7iuavAq6qdrsqtG8rgQuA9cDkuGwysD6e/jGwuKj++nj5YuDHReWJekfbi2jEqz8B5wN3x7+s24Fc6TEm+g7+c+LpXFzPSo97cb2j7QU0xeFmJeU1e5w5NMbwhPi43Q28vxaPMzCzJNArclzjZeuKyhP1+nuFdsklbcDqqVVqS8XE/8U8A3gEONHdXwWI30+Iq/W376H9TL4PfBkoxPMTgdfcPR/PF7c/Mfg40Dv4eEj7PBvoAP49vsx0s5kdRw0fZ3ffBPwr8ArwKtFxe4zaPs69KnVcp8bTpeUDCi3QyxqMOiRmNhb4HXCFu+8eqGpKmQ9QftQxsw8C29z9seLilKo+yLJg9pnojPNMYLm7nwHsI/qveH+C3+f4uvFCosskU4DjgAUpVWvpOA9mqPs4rH0PLdDLGbA6GGZWRxTm/+Hud8bFW81scrx8MrAtLu9v30P6mbwDuMjMXgJuI7rs8n3geIsGF4dk+/sbfDykfW4H2t39kXj+DqKAr+Xj/F7gRXfvcPdu4E7gXGr7OPeq1HFtj6dLywcUWqCXM2B1EOI71j8FnnX37xUtKh5w+5NE19Z7yy+J75bPA16P/0t3D/A+Mxsfnxm9Ly476rj7Ve4+zd1nEh27e93974D7iAYXh777nDb4+CpgUdw7YhYwh+gG0lHH3bcAG83slLjoPcAz1PBxJrrUMs/MxsS/5737XLPHuUhFjmu8bI+ZzYt/hpcUbat/1b6pMIybEBcS9Qh5Abi62u05jP14J9F/oZ4EnohfFxJdO/wT8Hz8PiGub8CyeL/XAi1F2/o00Ba/llR738rc//M41MtlNtE/1Dbgt0BDXD4qnm+Ll88uWv/q+GexnjLu/ld5X08HWuNjfRdRb4aaPs7AN4B1wFPArUQ9VWrqOAO/JrpH0E10Rn1pJY8r0BL//F4AfkjJjfW0lx79FxGpEaFdchERkX4o0EVEaoQCXUSkRijQRURqhAJdRKRGKNBFRGqEAl1EpEb8P2zvKg6j3UvFAAAAAElFTkSuQmCC\n",
      "text/plain": [
       "<Figure size 432x288 with 1 Axes>"
      ]
     },
     "metadata": {
      "needs_background": "light"
     },
     "output_type": "display_data"
    }
   ],
   "source": [
=======
     "name": "stdout",
     "output_type": "stream",
     "text": [
      "-0.6616041819300751\n"
     ]
    }
   ],
   "source": [
    "stdDev = calcStdDev(150)\n",
    "t = -.15 / stdDev\n",
    "print(t)\n"
   ]
  },
  {
   "cell_type": "code",
   "execution_count": 79,
   "metadata": {},
   "outputs": [
    {
     "data": {
      "text/plain": [
       "[<matplotlib.lines.Line2D at 0x1a19e47a10>,\n",
       " <matplotlib.lines.Line2D at 0x1a19e47c50>]"
      ]
     },
     "execution_count": 79,
     "metadata": {},
     "output_type": "execute_result"
    },
    {
     "data": {
      "image/png": "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\n",
      "text/plain": [
       "<Figure size 432x288 with 1 Axes>"
      ]
     },
     "metadata": {
      "needs_background": "light"
     },
     "output_type": "display_data"
    }
   ],
   "source": [
>>>>>>> 375dfecf313befe73edfacbd69e80e43fd605a05
    "n = [150, 1000, 2500, 5000, 10000]\n",
    "y = [calcStdDev(n[0]), calcStdDev(n[1]), calcStdDev(n[2]), calcStdDev(n[3]), calcStdDev(n[4])]\n",
    "x = [x for x in range(1, 10001)]\n",
    "plt.plot(n, y, \"b\", x, 1/np.sqrt(x), \"g\")"
   ]
  },
  {
   "cell_type": "markdown",
   "metadata": {},
   "source": [
    "By plotting the calculated standard error (blue) for several different values with 1/sqrt(n) (green), we can see that as n increases, the two lines converge."
   ]
  }
 ],
 "metadata": {
  "kernelspec": {
   "display_name": "Python 3",
   "language": "python",
   "name": "python3"
  },
  "language_info": {
   "codemirror_mode": {
    "name": "ipython",
    "version": 3
   },
   "file_extension": ".py",
   "mimetype": "text/x-python",
   "name": "python",
   "nbconvert_exporter": "python",
   "pygments_lexer": "ipython3",
   "version": "3.7.4"
  }
 },
 "nbformat": 4,
 "nbformat_minor": 2
}
