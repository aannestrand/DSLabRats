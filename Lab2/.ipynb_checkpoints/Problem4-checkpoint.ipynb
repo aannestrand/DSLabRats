{
 "cells": [
  {
   "cell_type": "code",
   "execution_count": null,
   "metadata": {},
   "outputs": [],
   "source": [
    "import pandas as pd\n",
    "import numpy as np"
   ]
  },
  {
   "cell_type": "code",
   "execution_count": null,
   "metadata": {},
   "outputs": [],
   "source": [
    "# Returns top names of top numNames people from year \n",
    "def getTopNames(numNames, year):\n",
    "    fileName = \"Names/yob\" + str(year) + \".txt\"\n",
    "    data = pd.read_csv(fileName, names=['Name', 'Sex', 'Frequency'])\n",
    "    topNames = data.head(numNames)\n",
    "    return(topNames)\n",
    "\n",
    "getTopNames(10, 1990)"
   ]
  },
  {
   "cell_type": "code",
   "execution_count": null,
   "metadata": {
    "scrolled": true
   },
   "outputs": [],
   "source": [
    "# Returns frequencies of name for each year (male and female)\n",
    "def freqNames(name):\n",
    "    frequency = {}\n",
    "    for i in range(1880, 2016):\n",
    "        fileName = \"Names/yob\" + str(i) + \".txt\"\n",
    "        data = pd.read_csv(fileName, names=['Name', 'Sex', 'Frequency'])\n",
    "        temp = data.loc[data['Name'] == name]\n",
    "        if(temp.empty): # Case where data does not have a row with that name\n",
    "            frequency[i] = 0\n",
    "        else:           # Case where row exists\n",
    "            frequency[i] = temp.iat[0, 2]\n",
    "    return frequency\n",
    "\n",
    "print(freqNames(\"\"))"
   ]
  },
  {
   "cell_type": "code",
   "execution_count": null,
   "metadata": {},
   "outputs": [],
   "source": [
    "# Returns relative frequencies of name for each year (male and female)\n",
    "def relativeFreqNames(name):\n",
    "    frequency = {}\n",
    "    sumPerYear = {}\n",
    "    for i in range(1880, 2016):\n",
    "        fileName = \"Names/yob\" + str(i) + \".txt\"\n",
    "        data = pd.read_csv(fileName, names=['Name', 'Sex', 'Frequency'])\n",
    "        sumPerYear[i] = data['Frequency'].sum()\n",
    "        temp = data.loc[data['Name'] == name]\n",
    "        if(temp.empty):\n",
    "            frequency[i] = 0\n",
    "        else:\n",
    "            frequency[i] = temp.iat[0, 2]\n",
    "    \n",
    "    for key in frequency:\n",
    "        frequency[key] = frequency[key] / sumPerYear[key]\n",
    "        \n",
    "    return frequency\n",
    "\n",
    "print(relativeFreqNames(\"Ashley\"))"
   ]
  },
  {
   "cell_type": "code",
   "execution_count": null,
   "metadata": {},
   "outputs": [],
   "source": [
    "males = {}\n",
    "females = {}\n",
    "relativeFrequency = []\n",
    "\n",
    "# Iterate through each file\n",
    "for i in range(1880, 2016):    \n",
    "    fileName = \"Names/yob\" + str(i) + \".txt\"\n",
    "    data = pd.read_csv(fileName, names=['Name', 'Sex', 'Frequency'])\n",
    "    temp = data[data.duplicated('Name', keep=False) == True]\n",
    "    \n",
    "    # Iterate through each name \n",
    "    for row in temp.itertuples():\n",
    "        print(row)\n",
    "#         if(row[1]) == 'M':\n",
    "#             if(row['Name'] not in males):\n",
    "#                 males[row['Name']] == row['Frequency']\n",
    "#             else:\n",
    "#                 males[row['Name']].append(row['Frequency'])\n",
    "#         else:\n",
    "#             if(row['Name'] not in females):\n",
    "#                 females[row['Name']] == row['Frequency']\n",
    "#             else:\n",
    "#                 females[row['Name']].append(row['Frequency'])\n",
    "            \n",
    "    #print(\"Year: \\n\", i, temp)\n",
    "\n",
    "\n",
    "# for row in temp.iterrows():\n",
    "#     if(row[1] == 'M'):\n",
    "#         males[row[1]] = males[row[2]]\n",
    "#     else:\n",
    "#         females[row[1]] == females[row[2]]\n",
    "    \n",
    "# fileName = \"Names/yob2000.txt\"\n",
    "# data = pd.read_csv(fileName, names=['Name', 'Sex', 'Frequency'])\n",
    "# temp = data[data.duplicated('Name', keep=False) == True]\n",
    "\n",
    "# pd.set_option('display.max_rows', None)\n",
    "# pd.set_option('display.max_columns', None)\n",
    "# print(temp)"
   ]
  },
  {
   "cell_type": "code",
   "execution_count": null,
   "metadata": {},
   "outputs": [],
   "source": []
  }
 ],
 "metadata": {
  "kernelspec": {
   "display_name": "Python 3",
   "language": "python",
   "name": "python3"
  },
  "language_info": {
   "codemirror_mode": {
    "name": "ipython",
    "version": 3
   },
   "file_extension": ".py",
   "mimetype": "text/x-python",
   "name": "python",
   "nbconvert_exporter": "python",
   "pygments_lexer": "ipython3",
   "version": "3.7.4"
  }
 },
 "nbformat": 4,
 "nbformat_minor": 2
}
