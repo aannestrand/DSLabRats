{
 "cells": [
  {
   "cell_type": "code",
   "execution_count": 1,
   "metadata": {},
   "outputs": [],
   "source": [
    "import numpy as np\n",
    "from scipy import stats\n",
    "import matplotlib.pyplot as plt"
   ]
  },
  {
   "cell_type": "code",
   "execution_count": 2,
   "metadata": {},
   "outputs": [],
   "source": [
    "def calcStdDev(n):\n",
    "    mu = 0\n",
    "    sigma = 1\n",
    "    b0 = -3\n",
    "    b = 0\n",
    "    bHat = []\n",
    "    sumNums = 0\n",
    "    \n",
    "    for i in range(1000):\n",
    "        x = np.random.normal(mu, sigma, n)\n",
    "        e = np.random.normal(mu, sigma, n)\n",
    "        y = b0 + (x * b) + e\n",
    "        slope, intercept, r_value, p_value, std_err = stats.linregress(x, y)\n",
    "        bHat.append(slope)\n",
    "    \n",
    "    for i in range(1000):\n",
    "         sumNums += np.square(bHat[i] - b)\n",
    "            \n",
    "    return (sumNums / np.sqrt(1000))        "
   ]
  },
  {
   "cell_type": "code",
   "execution_count": 11,
   "metadata": {
    "scrolled": true
   },
   "outputs": [
    {
     "name": "stdout",
     "output_type": "stream",
     "text": [
      "0.6880789914537717\n"
     ]
    }
   ],
   "source": [
    "stdDev = calcStdDev(150)\n",
    "givenBHat = -0.15\n",
    "t = abs(givenBHat / stdDev)\n",
    "print(t)"
   ]
  },
  {
   "cell_type": "markdown",
   "metadata": {},
   "source": [
    "The t-ratio is any given estimate divided by the standard error. In our case, we calculated the standard error in the stdDev variable and are using the given B-hat value of -0.15. We know that a t-ratio magnitude value greater than 1.96 suggests that our coefficient is statistically significantly different from 0 at the 95% confidence level. 1.645 is used for 90% confidence. Since our value is approximately 0.7 as shown, "
   ]
  },
  {
   "cell_type": "code",
   "execution_count": 8,
   "metadata": {},
   "outputs": [
    {
     "data": {
      "text/plain": [
       "[<matplotlib.lines.Line2D at 0x7f45aa7cd9e8>,\n",
       " <matplotlib.lines.Line2D at 0x7f45aa7cdb38>]"
      ]
     },
     "execution_count": 8,
     "metadata": {},
     "output_type": "execute_result"
    },
    {
     "data": {
      "image/png": "[encoded data removed]",
      "text/plain": [
       "<Figure size 432x288 with 1 Axes>"
      ]
     },
     "metadata": {
      "needs_background": "light"
     },
     "output_type": "display_data"
    }
   ],
   "source": [
    "n = [150, 1000, 2500, 5000, 10000]\n",
    "y = [calcStdDev(n[0]), calcStdDev(n[1]), calcStdDev(n[2]), calcStdDev(n[3]), calcStdDev(n[4])]\n",
    "x = [x for x in range(1, 10001)]\n",
    "plt.plot(n, y, \"b\", x, 1/np.sqrt(x), \"g\")"
   ]
  },
  {
   "cell_type": "markdown",
   "metadata": {},
   "source": [
    "By plotting the calculated standard error (blue) for several different values with 1/sqrt(n) (green), we can see that as n increases, the two lines converge."
   ]
  },
  {
   "cell_type": "code",
   "execution_count": null,
   "metadata": {},
   "outputs": [],
   "source": []
  },
  {
   "cell_type": "code",
   "execution_count": null,
   "metadata": {},
   "outputs": [],
   "source": []
  }
 ],
 "metadata": {
  "kernelspec": {
   "display_name": "Python 3",
   "language": "python",
   "name": "python3"
  },
  "language_info": {
   "codemirror_mode": {
    "name": "ipython",
    "version": 3
   },
   "file_extension": ".py",
   "mimetype": "text/x-python",
   "name": "python",
   "nbconvert_exporter": "python",
   "pygments_lexer": "ipython3",
   "version": "3.5.2"
  }
 },
 "nbformat": 4,
 "nbformat_minor": 2
}
