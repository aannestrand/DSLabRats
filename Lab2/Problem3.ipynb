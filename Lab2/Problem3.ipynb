{
 "cells": [
  {
   "cell_type": "code",
   "execution_count": 6,
   "metadata": {},
   "outputs": [],
   "source": [
    "import numpy as np\n",
    "from scipy import stats\n",
    "import matplotlib.pyplot as plt"
   ]
  },
  {
   "cell_type": "code",
   "execution_count": 7,
   "metadata": {},
   "outputs": [],
   "source": [
    "def calcStdDev(n):\n",
    "    mu = 0\n",
    "    sigma = 1\n",
    "    b0 = -3\n",
    "    b = 0\n",
    "    bHat = []\n",
    "    sum = 0\n",
    "    \n",
    "    for i in range(1000):\n",
    "        x = np.random.normal(mu, sigma, n)\n",
    "        e = np.random.normal(mu, sigma, n)\n",
    "        y = b0 + (x * b) + e\n",
    "        slope, intercept, r_value, p_value, std_err = stats.linregress(x, y)\n",
    "        bHat.append(slope)\n",
    "    \n",
    "    for i in range(1000):\n",
    "         sum += np.square(bHat[i] - b)\n",
    "            \n",
    "    return (sum / np.sqrt(1000))        "
   ]
  },
  {
   "cell_type": "code",
   "execution_count": 8,
   "metadata": {
    "scrolled": true
   },
   "outputs": [
    {
     "data": {
      "text/plain": [
       "[<matplotlib.lines.Line2D at 0x1a1837a750>,\n",
       " <matplotlib.lines.Line2D at 0x1a1837a990>]"
      ]
     },
     "execution_count": 8,
     "metadata": {},
     "output_type": "execute_result"
    },
    {
     "data": {
      "image/png": "[encoded data removed]",
      "text/plain": [
       "<Figure size 432x288 with 1 Axes>"
      ]
     },
     "metadata": {
      "needs_background": "light"
     },
     "output_type": "display_data"
    }
   ],
   "source": [
    "n = [150, 1000, 2500, 5000, 10000]\n",
    "y = [calcStdDev(n[0]), calcStdDev(n[1]), calcStdDev(n[2]), calcStdDev(n[3]), calcStdDev(n[4])]\n",
    "x = [x for x in range(1, 10001)]\n",
    "plt.plot(n, y, \"b\", x, 1/np.sqrt(x), \"g\")"
   ]
  },
  {
   "cell_type": "markdown",
   "metadata": {},
   "source": [
    "By plotting the calculated standard error (blue) for several different values with 1/sqrt(n) (green), we can see that as n increases, the two lines converge."
   ]
  }
 ],
 "metadata": {
  "kernelspec": {
   "display_name": "Python 3",
   "language": "python",
   "name": "python3"
  },
  "language_info": {
   "codemirror_mode": {
    "name": "ipython",
    "version": 3
   },
   "file_extension": ".py",
   "mimetype": "text/x-python",
   "name": "python",
   "nbconvert_exporter": "python",
   "pygments_lexer": "ipython3",
   "version": "3.7.4"
  }
 },
 "nbformat": 4,
 "nbformat_minor": 2
}
