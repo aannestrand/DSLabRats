{
 "cells": [
  {
   "cell_type": "code",
   "execution_count": 51,
   "metadata": {},
   "outputs": [],
   "source": [
    "import numpy as np\n",
    "from scipy import stats\n",
    "import matplotlib.pyplot as plt"
   ]
  },
  {
   "cell_type": "code",
   "execution_count": 79,
   "metadata": {},
   "outputs": [],
   "source": [
    "def calcStdDev(n):\n",
    "    mu = 0\n",
    "    sigma = 1\n",
    "    b0 = -3\n",
    "    b = 0\n",
    "    bHat = []\n",
    "    sum = 0\n",
    "    \n",
    "    for i in range(1000):\n",
    "        x = np.random.normal(mu, sigma, n)\n",
    "        e = np.random.normal(mu, sigma, n)\n",
    "        y = b0 + (x * b) + e\n",
    "        slope, intercept, r_value, p_value, std_err = stats.linregress(e, y)\n",
    "        bHat.append(slope)\n",
    "    \n",
    "    for i in range(1000):\n",
    "         sum += np.square(bHat[i] - b)\n",
    "            \n",
    "    return (sum / np.sqrt(1000))        "
   ]
  },
  {
   "cell_type": "code",
   "execution_count": 81,
   "metadata": {
    "scrolled": true
   },
   "outputs": [
    {
     "name": "stdout",
     "output_type": "stream",
     "text": [
      "31.622776601683793\n"
     ]
    }
   ],
   "source": [
    "import numpy as np\n",
    "from scipy import stats\n",
    "\n",
    "print(calcStdDev(150))\n",
    "\n",
    "# x = [150, 1000, 5000, 10000]\n",
    "# y = [calcStdDev(x[0]), calcStdDev(x[1]), calcStdDev(x[2]), calcStdDev(x[3])]\n",
    "\n",
    "# plt.plot(x, y)\n",
    "# plt.plot(1/np.sqrt(150))\n",
    "# plt.plot(1/np.sqrt(1000))\n",
    "# plt.plot(1/np.sqrt(5000))\n",
    "# plt.plot(1/np.sqrt(10000))\n"
   ]
  },
  {
   "cell_type": "code",
   "execution_count": null,
   "metadata": {},
   "outputs": [],
   "source": []
  }
 ],
 "metadata": {
  "kernelspec": {
   "display_name": "Python 3",
   "language": "python",
   "name": "python3"
  },
  "language_info": {
   "codemirror_mode": {
    "name": "ipython",
    "version": 3
   },
   "file_extension": ".py",
   "mimetype": "text/x-python",
   "name": "python",
   "nbconvert_exporter": "python",
   "pygments_lexer": "ipython3",
   "version": "3.7.4"
  }
 },
 "nbformat": 4,
 "nbformat_minor": 2
}
