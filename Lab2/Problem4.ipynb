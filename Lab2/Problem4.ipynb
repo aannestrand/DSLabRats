{
 "cells": [
  {
   "cell_type": "code",
   "execution_count": 175,
   "metadata": {},
   "outputs": [],
   "source": [
    "import pandas as pd\n",
    "import numpy as np\n",
    "from collections import defaultdict"
   ]
  },
  {
   "cell_type": "code",
   "execution_count": 165,
   "metadata": {},
   "outputs": [
    {
     "data": {
      "text/html": [
       "<div>\n",
       "<style scoped>\n",
       "    .dataframe tbody tr th:only-of-type {\n",
       "        vertical-align: middle;\n",
       "    }\n",
       "\n",
       "    .dataframe tbody tr th {\n",
       "        vertical-align: top;\n",
       "    }\n",
       "\n",
       "    .dataframe thead th {\n",
       "        text-align: right;\n",
       "    }\n",
       "</style>\n",
       "<table border=\"1\" class=\"dataframe\">\n",
       "  <thead>\n",
       "    <tr style=\"text-align: right;\">\n",
       "      <th></th>\n",
       "      <th>Name</th>\n",
       "      <th>Sex</th>\n",
       "      <th>Frequency</th>\n",
       "    </tr>\n",
       "  </thead>\n",
       "  <tbody>\n",
       "    <tr>\n",
       "      <td>0</td>\n",
       "      <td>Jessica</td>\n",
       "      <td>F</td>\n",
       "      <td>46470</td>\n",
       "    </tr>\n",
       "    <tr>\n",
       "      <td>1</td>\n",
       "      <td>Ashley</td>\n",
       "      <td>F</td>\n",
       "      <td>45553</td>\n",
       "    </tr>\n",
       "    <tr>\n",
       "      <td>2</td>\n",
       "      <td>Brittany</td>\n",
       "      <td>F</td>\n",
       "      <td>36534</td>\n",
       "    </tr>\n",
       "    <tr>\n",
       "      <td>3</td>\n",
       "      <td>Amanda</td>\n",
       "      <td>F</td>\n",
       "      <td>34405</td>\n",
       "    </tr>\n",
       "    <tr>\n",
       "      <td>4</td>\n",
       "      <td>Samantha</td>\n",
       "      <td>F</td>\n",
       "      <td>25865</td>\n",
       "    </tr>\n",
       "    <tr>\n",
       "      <td>5</td>\n",
       "      <td>Sarah</td>\n",
       "      <td>F</td>\n",
       "      <td>25810</td>\n",
       "    </tr>\n",
       "    <tr>\n",
       "      <td>6</td>\n",
       "      <td>Stephanie</td>\n",
       "      <td>F</td>\n",
       "      <td>24859</td>\n",
       "    </tr>\n",
       "    <tr>\n",
       "      <td>7</td>\n",
       "      <td>Jennifer</td>\n",
       "      <td>F</td>\n",
       "      <td>22219</td>\n",
       "    </tr>\n",
       "    <tr>\n",
       "      <td>8</td>\n",
       "      <td>Elizabeth</td>\n",
       "      <td>F</td>\n",
       "      <td>20742</td>\n",
       "    </tr>\n",
       "    <tr>\n",
       "      <td>9</td>\n",
       "      <td>Lauren</td>\n",
       "      <td>F</td>\n",
       "      <td>20499</td>\n",
       "    </tr>\n",
       "  </tbody>\n",
       "</table>\n",
       "</div>"
      ],
      "text/plain": [
       "        Name Sex  Frequency\n",
       "0    Jessica   F      46470\n",
       "1     Ashley   F      45553\n",
       "2   Brittany   F      36534\n",
       "3     Amanda   F      34405\n",
       "4   Samantha   F      25865\n",
       "5      Sarah   F      25810\n",
       "6  Stephanie   F      24859\n",
       "7   Jennifer   F      22219\n",
       "8  Elizabeth   F      20742\n",
       "9     Lauren   F      20499"
      ]
     },
     "execution_count": 165,
     "metadata": {},
     "output_type": "execute_result"
    }
   ],
   "source": [
    "# Returns top names of top numNames people from year \n",
    "def getTopNames(numNames, year):\n",
    "    fileName = \"Names/yob\" + str(year) + \".txt\"\n",
    "    data = pd.read_csv(fileName, names=['Name', 'Sex', 'Frequency'])\n",
    "    topNames = data.head(numNames)\n",
    "    return(topNames)\n",
    "\n",
    "getTopNames(10, 1990)"
   ]
  },
  {
   "cell_type": "code",
   "execution_count": 162,
   "metadata": {
    "scrolled": true
   },
   "outputs": [
    {
     "name": "stdout",
     "output_type": "stream",
     "text": [
      "{1880: 0, 1881: 0, 1882: 0, 1883: 0, 1884: 0, 1885: 0, 1886: 0, 1887: 0, 1888: 0, 1889: 0, 1890: 0, 1891: 0, 1892: 0, 1893: 0, 1894: 0, 1895: 0, 1896: 0, 1897: 0, 1898: 0, 1899: 0, 1900: 0, 1901: 0, 1902: 0, 1903: 0, 1904: 0, 1905: 0, 1906: 0, 1907: 0, 1908: 0, 1909: 0, 1910: 0, 1911: 0, 1912: 0, 1913: 0, 1914: 0, 1915: 0, 1916: 0, 1917: 0, 1918: 0, 1919: 0, 1920: 0, 1921: 0, 1922: 0, 1923: 0, 1924: 0, 1925: 0, 1926: 0, 1927: 0, 1928: 0, 1929: 0, 1930: 0, 1931: 0, 1932: 0, 1933: 0, 1934: 0, 1935: 0, 1936: 0, 1937: 0, 1938: 0, 1939: 0, 1940: 0, 1941: 0, 1942: 0, 1943: 0, 1944: 0, 1945: 0, 1946: 0, 1947: 0, 1948: 0, 1949: 0, 1950: 0, 1951: 0, 1952: 0, 1953: 0, 1954: 0, 1955: 0, 1956: 0, 1957: 0, 1958: 0, 1959: 0, 1960: 0, 1961: 0, 1962: 0, 1963: 0, 1964: 0, 1965: 0, 1966: 0, 1967: 0, 1968: 0, 1969: 0, 1970: 0, 1971: 0, 1972: 0, 1973: 0, 1974: 0, 1975: 0, 1976: 0, 1977: 0, 1978: 0, 1979: 0, 1980: 0, 1981: 0, 1982: 0, 1983: 0, 1984: 0, 1985: 0, 1986: 0, 1987: 0, 1988: 0, 1989: 0, 1990: 0, 1991: 0, 1992: 0, 1993: 0, 1994: 0, 1995: 0, 1996: 0, 1997: 0, 1998: 0, 1999: 0, 2000: 0, 2001: 0, 2002: 0, 2003: 0, 2004: 0, 2005: 0, 2006: 0, 2007: 0, 2008: 0, 2009: 0, 2010: 0, 2011: 0, 2012: 0, 2013: 0, 2014: 0, 2015: 0}\n"
     ]
    }
   ],
   "source": [
    "# Returns frequencies of name for each year (male and female)\n",
    "def freqNames(name):\n",
    "    frequency = {}\n",
    "    for i in range(1880, 2016):\n",
    "        fileName = \"Names/yob\" + str(i) + \".txt\"\n",
    "        data = pd.read_csv(fileName, names=['Name', 'Sex', 'Frequency'])\n",
    "        temp = data.loc[data['Name'] == name]\n",
    "        if(temp.empty): # Case where data does not have a row with that name\n",
    "            frequency[i] = 0\n",
    "        else:           # Case where row exists\n",
    "            frequency[i] = temp.iat[0, 2]\n",
    "    return frequency\n",
    "\n",
    "print(freqNames(\"\"))"
   ]
  },
  {
   "cell_type": "code",
   "execution_count": 163,
   "metadata": {},
   "outputs": [
    {
     "name": "stdout",
     "output_type": "stream",
     "text": [
      "{1880: 3.9705780168948094e-05, 1881: 3.113712791132146e-05, 1882: 3.159785856798505e-05, 1883: 4.1485169052063885e-05, 1884: 2.4644401818756853e-05, 1885: 5.397460702334194e-05, 1886: 5.4833365319463104e-05, 1887: 4.0421025400572363e-05, 1888: 2.3374316301248187e-05, 1889: 0.0, 1890: 3.981406830103417e-05, 1891: 2.790616551844423e-05, 1892: 3.588763581227178e-05, 1893: 3.0748227364692426e-05, 1894: 5.019309579204705e-05, 1895: 2.8488080587082366e-05, 1896: 2.7973123423015167e-05, 1897: 4.899728497397379e-05, 1898: 1.3107499849263753e-05, 1899: 2.06346632865123e-05, 1900: 1.1103412744941285e-05, 1901: 2.8917111990191315e-05, 1902: 3.62005926554169e-05, 1903: 1.8362823152896734e-05, 1904: 2.7261732458314333e-05, 1905: 2.3588187978987643e-05, 1906: 3.0341151236635306e-05, 1907: 1.5040986688726781e-05, 1908: 1.8417789128593003e-05, 1909: 1.9560629148075918e-05, 1910: 1.1849965889026763e-05, 1911: 2.483427005095682e-05, 1912: 2.327796214598521e-05, 1913: 2.7262477860229672e-05, 1914: 2.965421072140928e-05, 1915: 2.5648315751503837e-05, 1916: 2.4813600748130062e-05, 1917: 2.491531285161735e-06, 1918: 1.934438204601844e-05, 1919: 2.7958494430336197e-05, 1920: 1.9003576207876142e-05, 1921: 2.0133083968667782e-05, 1922: 2.315181870640742e-05, 1923: 2.0412479755814625e-05, 1924: 1.9314332788473206e-05, 1925: 2.4428742429768438e-05, 1926: 1.9600447064419266e-05, 1927: 2.1559465101047056e-05, 1928: 1.636674242551584e-05, 1929: 1.7793042281743245e-05, 1930: 1.1695690722753202e-05, 1931: 1.663660195028508e-05, 1932: 1.4211927312624029e-05, 1933: 1.1005761516153706e-05, 1934: 1.5411362990574988e-05, 1935: 1.62722169603403e-05, 1936: 1.7330588681585095e-05, 1937: 1.4552227946098548e-05, 1938: 3.1642823046100883e-06, 1939: 1.2255091082560279e-05, 1940: 2.128306476132563e-05, 1941: 2.4631017100904655e-06, 1942: 2.9289191592684e-06, 1943: 3.5435572282720586e-06, 1944: 4.461406049294819e-06, 1945: 3.769778141016845e-06, 1946: 2.1909665198406104e-06, 1947: 3.053907293924418e-06, 1948: 3.765663349117256e-06, 1949: 3.156759511746876e-06, 1950: 4.2796933685295315e-06, 1951: 4.073867363026395e-06, 1952: 6.318769272246281e-06, 1953: 3.894036516716839e-06, 1954: 5.277512994619198e-06, 1955: 1.9936417779596423e-06, 1956: 6.0660853901002455e-06, 1957: 6.428347966951625e-06, 1958: 9.196995777126781e-06, 1959: 8.901469632636348e-06, 1960: 1.3718817668970706e-05, 1961: 1.9323484797248337e-05, 1962: 2.3540693806195663e-05, 1963: 2.7279719423033934e-05, 1964: 4.62959509818471e-05, 1965: 6.0114051245849924e-05, 1966: 7.566348678636458e-05, 1967: 0.00011368502650392626, 1968: 0.00016098646825873602, 1969: 0.00018494501553049163, 1970: 0.0002583222303740933, 1971: 0.00033907567504898247, 1972: 0.0003740493707001021, 1973: 0.00041523463739544155, 1974: 0.0005347547856606787, 1975: 0.0006582676831626517, 1976: 0.0007551523829637358, 1977: 0.0008517812489769811, 1978: 0.0010976180679779695, 1979: 0.0013374472609981745, 1980: 0.002118386936613891, 1981: 0.0025665623503778284, 1982: 0.004234638493151896, 1983: 0.00961546515715321, 1984: 0.011114947466466463, 1985: 0.0131768419252704, 1986: 0.01397248090154765, 1987: 0.015218721427610138, 1988: 0.013530065352574335, 1989: 0.012381425442014416, 1990: 0.01153103593522693, 1991: 0.011166375450306779, 1992: 0.010013867638920537, 1993: 0.0092457032300927, 1994: 0.008146918993880528, 1995: 0.007266631539469885, 1996: 0.006493848452732814, 1997: 0.005765271900376543, 1998: 0.005404870231162854, 1999: 0.004911462571361395, 2000: 0.00476452190377556, 2001: 0.004417473132652516, 2002: 0.004106478780783532, 2003: 0.0038198309556342113, 2004: 0.0037643530695980944, 2005: 0.003455049853479329, 2006: 0.0031229216374434763, 2007: 0.0028612722554530244, 2008: 0.002395774141845526, 2009: 0.0020483269854689673, 2010: 0.001709837858239637, 2011: 0.0014794367068034903, 2012: 0.001287936320654456, 2013: 0.0010838529319516044, 2014: 0.0009617371244629375, 2015: 0.0009293429471757543}\n"
     ]
    }
   ],
   "source": [
    "# Returns relative frequencies of name for each year (male and female)\n",
    "def relativeFreqNames(name):\n",
    "    frequency = {}\n",
    "    sumPerYear = {}\n",
    "    for i in range(1880, 2016):\n",
    "        fileName = \"Names/yob\" + str(i) + \".txt\"\n",
    "        data = pd.read_csv(fileName, names=['Name', 'Sex', 'Frequency'])\n",
    "        sumPerYear[i] = data['Frequency'].sum()\n",
    "        temp = data.loc[data['Name'] == name]\n",
    "        if(temp.empty):\n",
    "            frequency[i] = 0\n",
    "        else:\n",
    "            frequency[i] = temp.iat[0, 2]\n",
    "    \n",
    "    for key in frequency:\n",
    "        frequency[key] = frequency[key] / sumPerYear[key]\n",
    "        \n",
    "    return frequency\n",
    "\n",
    "print(relativeFreqNames(\"Ashley\"))"
   ]
  },
  {
   "cell_type": "code",
   "execution_count": 193,
   "metadata": {},
   "outputs": [
    {
     "name": "stderr",
     "output_type": "stream",
     "text": [
      "IOPub data rate exceeded.\n",
      "The notebook server will temporarily stop sending output\n",
      "to the client in order to avoid crashing it.\n",
      "To change this limit, set the config variable\n",
      "`--NotebookApp.iopub_data_rate_limit`.\n",
      "\n",
      "Current values:\n",
      "NotebookApp.iopub_data_rate_limit=1000000.0 (bytes/sec)\n",
      "NotebookApp.rate_limit_window=3.0 (secs)\n",
      "\n"
     ]
    }
   ],
   "source": [
    "males = defaultdict(list)\n",
    "females = defaultdict(list)\n",
    "sum = 0\n",
    "\n",
    "# Iterate through each file and create a temporary dataframe to hold\n",
    "# names that are male and female\n",
    "for i in range(1880, 2016):    \n",
    "    fileName = \"Names/yob\" + str(i) + \".txt\"\n",
    "    data = pd.read_csv(fileName, names=['Name', 'Sex', 'Frequency'])\n",
    "    temp = data[data.duplicated('Name', keep=False) == True]\n",
    "    \n",
    "    # For each year calculate the sum and use that sum to calculate relative\n",
    "    # frequency of each name each year\n",
    "    sum = temp['Frequency'].sum()\n",
    "    \n",
    "    # Iterate through each name and store relative frequency in corresponding \n",
    "    # dictionary for each year\n",
    "    for row in temp.itertuples():\n",
    "        if(row[2] == 'M'):\n",
    "            males[row[1]].append(row[3] / sum)\n",
    "        else:\n",
    "            females[row[1]].append(row[3] / sum)\n",
    "            \n",
    "print(females)"
   ]
  },
  {
   "cell_type": "code",
   "execution_count": null,
   "metadata": {},
   "outputs": [],
   "source": []
  }
 ],
 "metadata": {
  "kernelspec": {
   "display_name": "Python 3",
   "language": "python",
   "name": "python3"
  },
  "language_info": {
   "codemirror_mode": {
    "name": "ipython",
    "version": 3
   },
   "file_extension": ".py",
   "mimetype": "text/x-python",
   "name": "python",
   "nbconvert_exporter": "python",
   "pygments_lexer": "ipython3",
   "version": "3.7.4"
  }
 },
 "nbformat": 4,
 "nbformat_minor": 2
}
