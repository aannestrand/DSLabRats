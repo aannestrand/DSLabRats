{
 "cells": [
  {
   "cell_type": "code",
   "execution_count": 25,
   "metadata": {},
   "outputs": [],
   "source": [
    "from scipy.stats import bernoulli\n",
    "import numpy as np\n",
    "import matplotlib.pyplot as plt"
   ]
  },
  {
   "cell_type": "code",
   "execution_count": 61,
   "metadata": {},
   "outputs": [
    {
     "data": {
      "text/plain": [
       "(array([ 44.,   0., 135., 332.,   0., 310.,   0., 162.,   0.,  17.]),\n",
       " array([-2.23606798, -1.78885438, -1.34164079, -0.89442719, -0.4472136 ,\n",
       "         0.        ,  0.4472136 ,  0.89442719,  1.34164079,  1.78885438,\n",
       "         2.23606798]),\n",
       " <a list of 10 Patch objects>)"
      ]
     },
     "execution_count": 61,
     "metadata": {},
     "output_type": "execute_result"
    },
    {
     "data": {
      "image/png": "[encoded data removed]",
      "text/plain": [
       "<Figure size 432x288 with 1 Axes>"
      ]
     },
     "metadata": {
      "needs_background": "light"
     },
     "output_type": "display_data"
    }
   ],
   "source": [
    "p, n = .5, 5 \n",
    "s1 = np.random.binomial(n,p,1000)\n",
    "s1 = s1 - (5-s1)\n",
    "s1 = s1*(1/np.sqrt(n))\n",
    "plt.hist(s1)"
   ]
  },
  {
   "cell_type": "markdown",
   "metadata": {},
   "source": [
    "Clearly we do not have enough samples for a gaussian distribution. Let's add more samples."
   ]
  },
  {
   "cell_type": "code",
   "execution_count": 62,
   "metadata": {
    "scrolled": false
   },
   "outputs": [
    {
     "data": {
      "text/plain": [
       "(array([  5.,  37., 119., 209., 106., 291., 139.,  64.,  16.,  14.]),\n",
       " array([-2.82842712, -2.2627417 , -1.69705627, -1.13137085, -0.56568542,\n",
       "         0.        ,  0.56568542,  1.13137085,  1.69705627,  2.2627417 ,\n",
       "         2.82842712]),\n",
       " <a list of 10 Patch objects>)"
      ]
     },
     "execution_count": 62,
     "metadata": {},
     "output_type": "execute_result"
    },
    {
     "data": {
      "image/png": "[encoded data removed]",
      "text/plain": [
       "<Figure size 432x288 with 1 Axes>"
      ]
     },
     "metadata": {
      "needs_background": "light"
     },
     "output_type": "display_data"
    }
   ],
   "source": [
    "p, n = .5, 50 \n",
    "s4 = np.random.binomial(n,p,1000)\n",
    "s4 = s4 - (n - s4)\n",
    "s4 = s4*(1/np.sqrt(n))\n",
    "plt.hist(s4)"
   ]
  },
  {
   "cell_type": "markdown",
   "metadata": {},
   "source": [
    "This distribution looks more gaussian, but we can still add more samples."
   ]
  },
  {
   "cell_type": "code",
   "execution_count": 63,
   "metadata": {},
   "outputs": [
    {
     "data": {
      "text/plain": [
       "(array([  9.,  33.,  86., 167., 237., 214., 175.,  50.,  24.,   5.]),\n",
       " array([-3.16227766, -2.51717302, -1.87206837, -1.22696373, -0.58185909,\n",
       "         0.06324555,  0.7083502 ,  1.35345484,  1.99855948,  2.64366412,\n",
       "         3.28876877]),\n",
       " <a list of 10 Patch objects>)"
      ]
     },
     "execution_count": 63,
     "metadata": {},
     "output_type": "execute_result"
    },
    {
     "data": {
      "image/png": "[encoded data removed]",
      "text/plain": [
       "<Figure size 432x288 with 1 Axes>"
      ]
     },
     "metadata": {
      "needs_background": "light"
     },
     "output_type": "display_data"
    }
   ],
   "source": [
    "p, n = .5, 250 \n",
    "s5 = np.random.binomial(n,p,1000)\n",
    "s5 = s5 - (n - s5)\n",
    "s5 = s5*(1/np.sqrt(n))\n",
    "plt.hist(s5)"
   ]
  },
  {
   "cell_type": "markdown",
   "metadata": {},
   "source": [
    "Finally with 250 samples, we have drawn close to a gaussian distribution because of central limit theorem."
   ]
  }
 ],
 "metadata": {
  "kernelspec": {
   "display_name": "Python 3",
   "language": "python",
   "name": "python3"
  },
  "language_info": {
   "codemirror_mode": {
    "name": "ipython",
    "version": 3
   },
   "file_extension": ".py",
   "mimetype": "text/x-python",
   "name": "python",
   "nbconvert_exporter": "python",
   "pygments_lexer": "ipython3",
   "version": "3.7.4"
  }
 },
 "nbformat": 4,
 "nbformat_minor": 2
}
